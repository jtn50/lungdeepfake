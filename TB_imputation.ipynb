{
 "cells": [
  {
   "cell_type": "markdown",
   "id": "bd22f7f3",
   "metadata": {},
   "source": [
    "Imputing Coordinates for the True Benign (TB) Class Data"
   ]
  },
  {
   "cell_type": "code",
   "execution_count": 10,
   "id": "3b32becb",
   "metadata": {},
   "outputs": [],
   "source": [
    "import pandas as pd\n",
    "import numpy as np\n",
    "import os"
   ]
  },
  {
   "cell_type": "code",
   "execution_count": 11,
   "id": "97e318f1",
   "metadata": {},
   "outputs": [],
   "source": [
    "def imputer(csv, export_file_name):\n",
    "    df = pd.read_csv(csv)\n",
    "    print(df.head())\n",
    "\n",
    "    #Compute mean values for FB\n",
    "    fb_means = df[df['type'] == 'FB'][['slice', 'x', 'y']].mean().astype('int64')\n",
    "    print(\"Means:\", fb_means)\n",
    "\n",
    "    #Update TB rows with FB means\n",
    "    df.loc[df['type'] == 'TB', ['slice', 'x', 'y']] = fb_means.values\n",
    "    #df[df['type'] == 'TB'].head()\n",
    "\n",
    "    #Export CSV\n",
    "    df.to_csv(export_file_name, index=False)\n"
   ]
  },
  {
   "cell_type": "code",
   "execution_count": 12,
   "id": "93499a41",
   "metadata": {},
   "outputs": [],
   "source": [
    "exp1 = \"/mnt/c/Users/nhanj/Desktop/deepfakes+medical+image+tamper+detection/data/Tampered Scans/labels_exp1.csv\"\n",
    "exp2 = \"/mnt/c/Users/nhanj/Desktop/deepfakes+medical+image+tamper+detection/data/Tampered Scans/labels_exp2.csv\"\n",
    "export_file_name_1 = 'labels_exp1_imputed.csv'\n",
    "export_file_name_2 = 'labels_exp2_imputed.csv'"
   ]
  },
  {
   "cell_type": "code",
   "execution_count": 13,
   "id": "62479743",
   "metadata": {},
   "outputs": [
    {
     "name": "stdout",
     "output_type": "stream",
     "text": [
      "  type  uuid  slice    x    y\n",
      "0   FB  1280    100  323  381\n",
      "1   FB  1009     76  354  288\n",
      "2   FB  7794     79  163  191\n",
      "3   FB  7794     94  338  243\n",
      "4   FB  2997     45  156  135\n",
      "Means: slice    127\n",
      "x        230\n",
      "y        286\n",
      "dtype: int64\n",
      "  type  uuid  slice    x    y\n",
      "0   FB  1251    150  418  350\n",
      "1   FB  1251    188  402  294\n",
      "2   FB  1251    272  163  298\n",
      "3   FB  2592    163  230  322\n",
      "4   FB  1876    146  414  181\n",
      "Means: slice    153\n",
      "x        291\n",
      "y        315\n",
      "dtype: int64\n"
     ]
    }
   ],
   "source": [
    "imputer(exp1, export_file_name_1)\n",
    "imputer(exp2, export_file_name_2)"
   ]
  }
 ],
 "metadata": {
  "kernelspec": {
   "display_name": "medical_env",
   "language": "python",
   "name": "python3"
  },
  "language_info": {
   "codemirror_mode": {
    "name": "ipython",
    "version": 3
   },
   "file_extension": ".py",
   "mimetype": "text/x-python",
   "name": "python",
   "nbconvert_exporter": "python",
   "pygments_lexer": "ipython3",
   "version": "3.10.18"
  }
 },
 "nbformat": 4,
 "nbformat_minor": 5
}
