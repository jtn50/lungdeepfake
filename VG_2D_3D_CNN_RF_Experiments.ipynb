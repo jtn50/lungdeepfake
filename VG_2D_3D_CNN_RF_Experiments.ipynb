{
 "cells": [
  {
   "metadata": {},
   "cell_type": "code",
   "source": [
    "import sys\n",
    "import pandas as pd\n",
    "import numpy as np\n",
    "import os\n",
    "from scipy.ndimage import rotate\n",
    "import scipy.ndimage\n",
    "from joblib import Parallel, delayed\n",
    "import multiprocessing\n",
    "import itertools\n",
    "import pydicom\n",
    "import SimpleITK as sitk\n",
    "from scipy.ndimage import zoom\n",
    "from sklearn.model_selection import train_test_split\n",
    "\n",
    "#Code from existing github repo provided by UC Irvine dataset\n",
    "sys.path.append(os.getcwd())\n",
    "import utils\n",
    "import equalizer\n",
    "from utils import cutCube\n",
    "from equalizer import histEq"
   ],
   "id": "fe2f7ea06476316b",
   "outputs": [],
   "execution_count": null
  },
  {
   "metadata": {},
   "cell_type": "code",
   "source": [
    "# Modified DICOM loading functions for newer pydicom versions\n",
    "def load_scan(path2scan):\n",
    "    if (path2scan.split('.')[-1] == 'mhd') or (path2scan.split('.')[-1] == 'raw'):\n",
    "        return load_mhd(path2scan)\n",
    "    elif path2scan.split('.')[-1] == 'dcm':\n",
    "        return load_dicom(os.path.split(path2scan)[0]) #pass containing directory\n",
    "    elif os.path.isdir(path2scan) and any(f.endswith('.dcm') for f in os.listdir(path2scan)):\n",
    "        return load_dicom(path2scan)\n",
    "    else:\n",
    "        raise Exception('No valid scan [series] found in given file/directory')\n",
    "\n",
    "def load_mhd(path2scan):\n",
    "    itkimage = sitk.ReadImage(path2scan)\n",
    "    scan = sitk.GetArrayFromImage(itkimage)\n",
    "    spacing = np.flip(np.array(itkimage.GetSpacing()),axis=0)\n",
    "    orientation = np.transpose(np.array(itkimage.GetDirection()).reshape((3, 3)))\n",
    "    origin = np.flip(np.array(itkimage.GetOrigin()),axis=0)\n",
    "    return scan, spacing, orientation, origin, None\n",
    "\n",
    "def load_dicom(path2scan_dir):\n",
    "    dicom_folder = path2scan_dir\n",
    "    dcms = [f for f in os.listdir(dicom_folder) if f.endswith('.dcm')]\n",
    "    if not dcms:\n",
    "        raise Exception(f\"No DICOM files found in {dicom_folder}\")\n",
    "\n",
    "    first_slice_data = pydicom.dcmread(os.path.join(path2scan_dir, dcms[0]))\n",
    "    first_slice = first_slice_data.pixel_array\n",
    "    orientation = np.transpose(first_slice_data.ImageOrientationPatient)\n",
    "    spacing_xy = np.array(first_slice_data.PixelSpacing, dtype=float)\n",
    "    spacing_z = float(first_slice_data.SliceThickness)\n",
    "    spacing = np.array([spacing_z, spacing_xy[1], spacing_xy[0]])\n",
    "\n",
    "    scan = np.zeros((len(dcms), first_slice.shape[0], first_slice.shape[1]))\n",
    "    raw_slices = []\n",
    "    indexes = []\n",
    "\n",
    "    for dcm in dcms:\n",
    "        slice_data = pydicom.dcmread(os.path.join(dicom_folder, dcm))\n",
    "        slice_data.filename = dcm\n",
    "        raw_slices.append(slice_data)\n",
    "        indexes.append(float(slice_data.ImagePositionPatient[2]))\n",
    "\n",
    "    indexes = np.array(indexes, dtype=float)\n",
    "    raw_slices = [x for _, x in sorted(zip(indexes, raw_slices))]\n",
    "\n",
    "    try:\n",
    "        origin = np.array(raw_slices[0][0x00200032].value)\n",
    "        origin = np.array([origin[2], origin[1], origin[0]])\n",
    "    except:\n",
    "        origin = np.zeros(3)\n",
    "\n",
    "    for i, slice_obj in enumerate(raw_slices):\n",
    "        scan[i, :, :] = slice_obj.pixel_array\n",
    "\n",
    "    return scan, spacing, orientation, origin, raw_slices\n",
    "\n",
    "def scale_scan(scan, spacing, factor=1):\n",
    "    resize_factor = factor * spacing\n",
    "    new_real_shape = scan.shape * resize_factor\n",
    "    new_shape = np.round(new_real_shape)\n",
    "    real_resize_factor = new_shape / scan.shape\n",
    "    new_spacing = spacing / real_resize_factor\n",
    "    scan_resized = scipy.ndimage.zoom(scan, real_resize_factor, mode='nearest')\n",
    "    return scan_resized, resize_factor\n",
    "\n",
    "def get_scaled_shape(shape, spacing):\n",
    "    new_real_shape = shape * spacing\n",
    "    return np.round(new_real_shape).astype(int)\n",
    "\n",
    "def world2vox(world_coord, spacing, orientation, origin):\n",
    "    world_coord = np.dot(np.linalg.inv(np.dot(orientation, np.diag(spacing))), world_coord - origin)\n",
    "    if orientation[0, 0] < 0:\n",
    "        vox_coord = (np.array([world_coord[0], world_coord[2], world_coord[1]])).astype(int)\n",
    "    else:\n",
    "        vox_coord = (np.array([world_coord[0], world_coord[1], world_coord[2]])).astype(int)\n",
    "    return vox_coord"
   ],
   "id": "57803f33-e981-4df0-9e44-565d565627c2",
   "outputs": [],
   "execution_count": null
  },
  {
   "cell_type": "code",
   "id": "c1d2bef7-880f-4e95-b427-a7330b8e0a55",
   "metadata": {},
   "source": [
    "class CombinedLabeledExtractor:\n",
    "    \"\"\"\n",
    "    Extractor that combines multiple experiments into one dataset\n",
    "    Modified to split data BEFORE augmentation\n",
    "    \"\"\"\n",
    "    def __init__(self, \n",
    "                 experiments_config,  \n",
    "                 dst_path, \n",
    "                 norm_save_dir,\n",
    "                 cube_shape=(32, 32, 32),\n",
    "                 parallelize=False,\n",
    "                 coordSystem='vox',\n",
    "                 include_types=['FB', 'FM', 'TM','TB'],\n",
    "                 augment=True,\n",
    "                 train_ratio=0.6,\n",
    "                 val_ratio=0.2,\n",
    "                 test_ratio=0.2,\n",
    "                 random_state=42):\n",
    "        \"\"\"\n",
    "        Args:\n",
    "            experiments_config: List of experiment configurations\n",
    "            dst_path: Where to save the combined processed dataset\n",
    "            norm_save_dir: Where to save normalization parameters\n",
    "            cube_shape: Size of extracted 3D cubes\n",
    "            parallelize: Whether to use multiprocessing\n",
    "            coordSystem: 'vox' for voxel coordinates\n",
    "            include_types: Which finding types to include\n",
    "            augment: Whether to perform data augmentation (only on training set)\n",
    "            train_ratio: Proportion of data for training\n",
    "            val_ratio: Proportion of data for validation\n",
    "            test_ratio: Proportion of data for testing\n",
    "            random_state: Random seed for reproducibility\n",
    "        \"\"\"\n",
    "        self.experiments_config = experiments_config\n",
    "        self.dst_path = dst_path\n",
    "        self.norm_save_dir = norm_save_dir\n",
    "        self.cube_shape = cube_shape\n",
    "        self.parallelize = parallelize\n",
    "        self.coordSystem = coordSystem\n",
    "        self.include_types = include_types\n",
    "        self.augment = augment\n",
    "        self.train_ratio = train_ratio\n",
    "        self.val_ratio = val_ratio\n",
    "        self.test_ratio = test_ratio\n",
    "        self.random_state = random_state\n",
    "        \n",
    "        # Load and combine labels from all experiments\n",
    "        self.combined_labels_df = pd.DataFrame()\n",
    "        \n",
    "        for exp_config in experiments_config:\n",
    "            print(f\"\\nLoading labels for {exp_config['experiment_name']}...\")\n",
    "            \n",
    "            # Load labels for this experiment\n",
    "            labels_df = pd.read_csv(exp_config['labels_csv'])\n",
    "            \n",
    "            # Add experiment identifier\n",
    "            labels_df['experiment'] = exp_config['experiment_name']\n",
    "            labels_df['dicom_base_dir'] = exp_config['dicom_dir']\n",
    "            \n",
    "            # Filter by type\n",
    "            labels_df = labels_df[labels_df['type'].isin(include_types)]\n",
    "            \n",
    "            # Filter out TB entries with 0,0,0 coordinates\n",
    "            # labels_df = labels_df[~((labels_df['type'] == 'TB') &\n",
    "            #                        (labels_df['x'] == 0) &\n",
    "            #                        (labels_df['y'] == 0) &\n",
    "            #                        (labels_df['slice'] == 0))]\n",
    "            #\n",
    "            print(f\"Loaded {len(labels_df)} samples from {exp_config['experiment_name']}\")\n",
    "            print(f\"Types distribution:\\n{labels_df['type'].value_counts()}\")\n",
    "            \n",
    "            # Combine with existing labels\n",
    "            self.combined_labels_df = pd.concat([self.combined_labels_df, labels_df], \n",
    "                                                ignore_index=True)\n",
    "        \n",
    "        print(f\"\\nTotal combined samples: {len(self.combined_labels_df)}\")\n",
    "        print(f\"Combined types distribution:\\n{self.combined_labels_df['type'].value_counts()}\")\n",
    "        print(f\"Samples per experiment:\\n{self.combined_labels_df['experiment'].value_counts()}\")\n",
    "\n",
    "    def extract(self, plot=True):\n",
    "        \"\"\"Extract and process all labeled samples from all experiments\"\"\"\n",
    "        print(\"\\nPreparing extraction jobs for combined dataset...\")\n",
    "        \n",
    "        # create train/val/test split on the original data\n",
    "        train_df, val_df, test_df = self._create_data_splits()\n",
    "        \n",
    "        # Process each split separately\n",
    "        splits_data = {}\n",
    "        \n",
    "        for split_name, split_df, apply_augment in [\n",
    "            ('train', train_df, self.augment),\n",
    "            ('val', val_df, False),\n",
    "            ('test', test_df, False)\n",
    "        ]:\n",
    "            print(f\"\\n{'='*50}\")\n",
    "            print(f\"Processing {split_name} set ({len(split_df)} samples)...\")\n",
    "            print(f\"Augmentation: {'ON' if apply_augment else 'OFF'}\")\n",
    "            \n",
    "            instances, labels, experiments = self._process_split(split_df, apply_augment)\n",
    "            \n",
    "            if len(instances) == 0:\n",
    "                print(f\"ERROR: No instances were successfully extracted for {split_name}!\")\n",
    "                continue\n",
    "            \n",
    "            splits_data[split_name] = {\n",
    "                'instances': instances,\n",
    "                'labels': labels,\n",
    "                'experiments': experiments\n",
    "            }\n",
    "            \n",
    "            print(f\"Successfully extracted {len(instances)} instances for {split_name}\")\n",
    "        \n",
    "        # Combine all splits for normalization (but keep track of indices)\n",
    "        all_instances = []\n",
    "        split_indices = {}\n",
    "        current_idx = 0\n",
    "        \n",
    "        for split_name in ['train', 'val', 'test']:\n",
    "            if split_name in splits_data:\n",
    "                split_size = len(splits_data[split_name]['instances'])\n",
    "                split_indices[split_name] = (current_idx, current_idx + split_size)\n",
    "                all_instances.extend(splits_data[split_name]['instances'])\n",
    "                current_idx += split_size\n",
    "        \n",
    "        all_instances = np.array(all_instances)\n",
    "        \n",
    "        # Preprocessing on all data\n",
    "        print(\"\\n\\nEqualizing the data across all splits...\")\n",
    "        eq = histEq(all_instances)\n",
    "        all_instances = eq.equalize(all_instances)\n",
    "        os.makedirs(self.norm_save_dir, exist_ok=True)\n",
    "        eq.save(path=os.path.join(self.norm_save_dir, 'equalization.pkl'))\n",
    "\n",
    "        print(\"Normalizing the data...\")\n",
    "        min_v = np.min(all_instances)\n",
    "        max_v = np.max(all_instances)\n",
    "        mean_v = np.mean(all_instances)\n",
    "        norm_data = np.array([mean_v, min_v, max_v])\n",
    "        all_instances = (all_instances - mean_v) / (max_v - min_v)\n",
    "        np.save(os.path.join(self.norm_save_dir, 'normalization.npy'), norm_data)\n",
    "        \n",
    "        # Split back the normalized data\n",
    "        for split_name, (start_idx, end_idx) in split_indices.items():\n",
    "            splits_data[split_name]['instances'] = all_instances[start_idx:end_idx]\n",
    "        \n",
    "        # Save each split separately\n",
    "        print(\"\\n\\nSaving the split datasets...\")\n",
    "        \n",
    "        for split_name in ['train', 'val', 'test']:\n",
    "            if split_name in splits_data:\n",
    "                split_path = self.dst_path.replace('.npy', f'_{split_name}.npy')\n",
    "                np.save(split_path, splits_data[split_name]['instances'])\n",
    "                np.save(split_path.replace('.npy', '_labels.npy'), splits_data[split_name]['labels'])\n",
    "                np.save(split_path.replace('.npy', '_experiments.npy'), splits_data[split_name]['experiments'])\n",
    "                \n",
    "                print(f\"Saved {split_name} set: {len(splits_data[split_name]['instances'])} samples\")\n",
    "        \n",
    "        # Save metadata\n",
    "        metadata = {\n",
    "            'label_mapping': {label: int(idx) for idx, label in enumerate(np.unique(self.combined_labels_df['type']))},\n",
    "            'experiment_info': {exp: int(idx) for idx, exp in enumerate(np.unique(self.combined_labels_df['experiment']))},\n",
    "            'split_sizes': {\n",
    "                split_name: len(splits_data[split_name]['instances']) \n",
    "                for split_name in splits_data\n",
    "            },\n",
    "            'split_ratios': {\n",
    "                'train': self.train_ratio,\n",
    "                'val': self.val_ratio,\n",
    "                'test': self.test_ratio\n",
    "            },\n",
    "            'augmentation_applied': {\n",
    "                'train': self.augment,\n",
    "                'val': False,\n",
    "                'test': False\n",
    "            },\n",
    "            'random_state': self.random_state\n",
    "        }\n",
    "        \n",
    "        import json\n",
    "        with open(self.dst_path.replace('.npy', '_metadata.json'), 'w') as f:\n",
    "            json.dump(metadata, f, indent=2)\n",
    "        \n",
    "        print(f\"\\nLabel mapping: {metadata['label_mapping']}\")\n",
    "        print(f\"Experiment mapping: {metadata['experiment_info']}\")\n",
    "        print(f\"\\nFinal split sizes:\")\n",
    "        for split_name, size in metadata['split_sizes'].items():\n",
    "            print(f\"  {split_name}: {size} samples\")\n",
    "        \n",
    "        if plot:\n",
    "            self._plot_split_distributions(splits_data)\n",
    "        \n",
    "        return splits_data, metadata\n",
    "\n",
    "    def _create_data_splits(self):\n",
    "        \"\"\"Create train/val/test splits with stratification\"\"\"\n",
    "        print(\"\\nCreating train/val/test splits...\")\n",
    "        \n",
    "        # Create stratification key combining type and experiment\n",
    "        self.combined_labels_df['stratify_key'] = (\n",
    "            self.combined_labels_df['type'] + '_' + \n",
    "            self.combined_labels_df['experiment']\n",
    "        )\n",
    "        \n",
    "        # First split: train+val vs test\n",
    "        train_val_df, test_df = train_test_split(\n",
    "            self.combined_labels_df,\n",
    "            test_size=self.test_ratio,\n",
    "            stratify=self.combined_labels_df['stratify_key'],\n",
    "            random_state=self.random_state\n",
    "        )\n",
    "        \n",
    "        # Second split: train vs val\n",
    "        val_size_adjusted = self.val_ratio / (self.train_ratio + self.val_ratio)\n",
    "        train_df, val_df = train_test_split(\n",
    "            train_val_df,\n",
    "            test_size=val_size_adjusted,\n",
    "            stratify=train_val_df['stratify_key'],\n",
    "            random_state=self.random_state\n",
    "        )\n",
    "        \n",
    "        print(f\"Split sizes:\")\n",
    "        print(f\"  Train: {len(train_df)} samples ({len(train_df)/len(self.combined_labels_df)*100:.1f}%)\")\n",
    "        print(f\"  Val: {len(val_df)} samples ({len(val_df)/len(self.combined_labels_df)*100:.1f}%)\")\n",
    "        print(f\"  Test: {len(test_df)} samples ({len(test_df)/len(self.combined_labels_df)*100:.1f}%)\")\n",
    "        \n",
    "        # Print distribution per split\n",
    "        for split_name, split_df in [('Train', train_df), ('Val', val_df), ('Test', test_df)]:\n",
    "            print(f\"\\n{split_name} set distribution:\")\n",
    "            print(split_df['type'].value_counts())\n",
    "        \n",
    "        return train_df, val_df, test_df\n",
    "\n",
    "    def _process_split(self, split_df, apply_augment):\n",
    "        \"\"\"Process a single data split\"\"\"\n",
    "        jobs = []\n",
    "        labels = []\n",
    "        experiments = []\n",
    "        \n",
    "        for idx, row in split_df.iterrows():\n",
    "            # Build path to DICOM scan\n",
    "            scan_path = os.path.join(row['dicom_base_dir'], str(row['uuid']))\n",
    "            scan_path = os.path.normpath(scan_path)\n",
    "            \n",
    "            # Coordinate in z,y,x format\n",
    "            coord = np.array([row['slice'], row['y'], row['x']])\n",
    "            \n",
    "            # Job format: [scan_path, coord, cube_shape, coordSystem, label_type, apply_augment]\n",
    "            jobs.append([scan_path, coord, self.cube_shape, self.coordSystem, row['type'], apply_augment])\n",
    "            labels.append(row['type'])\n",
    "            experiments.append(row['experiment'])\n",
    "        \n",
    "        print(f\"Extracting {len(jobs)} samples...\")\n",
    "        \n",
    "        if self.parallelize:\n",
    "            num_cores = int(np.ceil(min(np.ceil(multiprocessing.cpu_count() * 0.75), len(jobs))))\n",
    "            results = Parallel(n_jobs=num_cores)(delayed(self._process_job)(job) for job in jobs)\n",
    "        else:\n",
    "            results = []\n",
    "            for i, job in enumerate(jobs):\n",
    "                try:\n",
    "                    result = self._process_job(job)\n",
    "                    results.append(result)\n",
    "                    if i % 10 == 0:\n",
    "                        print(f\"Processed {i+1}/{len(jobs)} samples\")\n",
    "                except Exception as e:\n",
    "                    print(f\"Failed to process sample {job[0]}: {e}\")\n",
    "                    results.append(None)\n",
    "        \n",
    "        # Collect successful extractions\n",
    "        instances = []\n",
    "        instance_labels = []\n",
    "        instance_experiments = []\n",
    "        \n",
    "        for i, result in enumerate(results):\n",
    "            if result is not None:\n",
    "                cubes, label_type = result\n",
    "                instances.extend(cubes)\n",
    "                instance_labels.extend([label_type] * len(cubes))\n",
    "                instance_experiments.extend([experiments[i]] * len(cubes))\n",
    "        \n",
    "        return np.array(instances), np.array(instance_labels), np.array(instance_experiments)\n",
    "\n",
    "    def _process_job(self, args):\n",
    "        \"\"\"Process single extraction job\"\"\"\n",
    "        scan_path, coord, cube_shape, coordSystem, label_type, apply_augment = args\n",
    "        \n",
    "        try:\n",
    "            # Load scan\n",
    "            scan, spacing, orientation, origin, raw_slices = load_scan(scan_path)\n",
    "            \n",
    "            # Convert coordinates if needed\n",
    "            if coordSystem == 'world':\n",
    "                coord = world2vox(coord, spacing, orientation, origin)\n",
    "            \n",
    "            # Extract the base cube with padding\n",
    "            init_cube_shape = get_scaled_shape(np.array(cube_shape) + 8, 1/spacing)\n",
    "            clean_cube_unscaled = cutCube(scan, coord, init_cube_shape, padd=-1000)\n",
    "            \n",
    "            # Scale the cube\n",
    "            scaled_cube, resize_factor = scale_scan(clean_cube_unscaled, spacing)\n",
    "            \n",
    "            # Data augmentation (only if specified)\n",
    "            if apply_augment:\n",
    "                augmented_cubes = self._augment_instance(scaled_cube)\n",
    "            else:\n",
    "                augmented_cubes = [scaled_cube]\n",
    "            \n",
    "            # Trim to final shape\n",
    "            final_cubes = []\n",
    "            for cube in augmented_cubes:\n",
    "                center = np.array(cube.shape) // 2\n",
    "                final_cube = cutCube(cube, center, cube_shape, padd=-1000)\n",
    "                if final_cube.shape == tuple(cube_shape):\n",
    "                    final_cubes.append(final_cube)\n",
    "            \n",
    "            return final_cubes, label_type\n",
    "            \n",
    "        except Exception as e:\n",
    "            print(f\"Error processing {scan_path}: {e}\")\n",
    "            return None\n",
    "\n",
    "    def _augment_instance(self, x0):\n",
    "        \"\"\"Data augmentation\"\"\"\n",
    "        augmented = [x0]  # Original\n",
    "        \n",
    "        # Flips\n",
    "        augmented.append(np.flip(x0, 1))  # x flip\n",
    "        augmented.append(np.flip(x0, 2))  # y flip\n",
    "        \n",
    "        # Small shifts\n",
    "        augmented.append(scipy.ndimage.shift(x0, (0, 2, 2), mode='constant'))\n",
    "        augmented.append(scipy.ndimage.shift(x0, (0, -2, 2), mode='constant'))\n",
    "        \n",
    "        # Small rotations\n",
    "        for angle in [15, 30, 45, 90, 180]:\n",
    "            rotated = rotate(x0, angle, axes=(1, 2), mode='reflect', reshape=False)\n",
    "            augmented.append(rotated)\n",
    "        \n",
    "        # Filter out invalid shapes\n",
    "        valid_cubes = []\n",
    "        for cube in augmented:\n",
    "            if cube.shape[0] > 0 and cube.shape[1] > 0 and cube.shape[2] > 0:\n",
    "                valid_cubes.append(cube)\n",
    "        \n",
    "        return valid_cubes\n",
    "\n",
    "    def _plot_split_distributions(self, splits_data):\n",
    "        \"\"\"Plot distributions for each split\"\"\"\n",
    "        import matplotlib.pyplot as plt\n",
    "        \n",
    "        fig, axes = plt.subplots(2, 2, figsize=(15, 10))\n",
    "        \n",
    "        # Plot 1: Sample counts per split\n",
    "        split_names = list(splits_data.keys())\n",
    "        split_sizes = [len(splits_data[s]['instances']) for s in split_names]\n",
    "        \n",
    "        axes[0, 0].bar(split_names, split_sizes, color=['#2E86AB', '#A23B72', '#F18F01'])\n",
    "        axes[0, 0].set_title('Sample Count per Split', fontsize=14, fontweight='bold')\n",
    "        axes[0, 0].set_ylabel('Number of Samples')\n",
    "        \n",
    "        for i, (name, size) in enumerate(zip(split_names, split_sizes)):\n",
    "            axes[0, 0].text(i, size + 10, str(size), ha='center', fontweight='bold')\n",
    "        \n",
    "        # Plot 2: Type distribution per split\n",
    "        width = 0.25\n",
    "        x = np.arange(len(split_names))\n",
    "        \n",
    "        unique_types = ['FB', 'FM', 'TM','TB']\n",
    "        colors = {'FB': '#FF6B6B', 'FM': '#4ECDC4', 'TM': '#45B7D1','TB':'#6BFFFF'}\n",
    "        \n",
    "        for i, ttype in enumerate(unique_types):\n",
    "            counts = []\n",
    "            for split_name in split_names:\n",
    "                type_count = np.sum(splits_data[split_name]['labels'] == ttype)\n",
    "                counts.append(type_count)\n",
    "            \n",
    "            axes[0, 1].bar(x + i*width, counts, width, label=ttype, color=colors[ttype])\n",
    "        \n",
    "        axes[0, 1].set_xlabel('Split')\n",
    "        axes[0, 1].set_ylabel('Number of Samples')\n",
    "        axes[0, 1].set_title('Type Distribution per Split', fontsize=14, fontweight='bold')\n",
    "        axes[0, 1].set_xticks(x + width)\n",
    "        axes[0, 1].set_xticklabels(split_names)\n",
    "        axes[0, 1].legend()\n",
    "        \n",
    "        # Plot 3: Experiment distribution per split\n",
    "        unique_experiments = ['Experiment_1', 'Experiment_2']\n",
    "        exp_colors = ['#8B5A3C', '#6B8E23']\n",
    "        \n",
    "        for i, exp in enumerate(unique_experiments):\n",
    "            counts = []\n",
    "            for split_name in split_names:\n",
    "                exp_count = np.sum(splits_data[split_name]['experiments'] == exp)\n",
    "                counts.append(exp_count)\n",
    "            \n",
    "            axes[1, 0].bar(x + i*width*1.5, counts, width*1.5, label=exp, color=exp_colors[i])\n",
    "        \n",
    "        axes[1, 0].set_xlabel('Split')\n",
    "        axes[1, 0].set_ylabel('Number of Samples')\n",
    "        axes[1, 0].set_title('Experiment Distribution per Split', fontsize=14, fontweight='bold')\n",
    "        axes[1, 0].set_xticks(x + width*0.75)\n",
    "        axes[1, 0].set_xticklabels(split_names)\n",
    "        axes[1, 0].legend()\n",
    "        \n",
    "        # Plot 4: Augmentation effect (for training set)\n",
    "        if 'train' in splits_data:\n",
    "            train_labels = splits_data['train']['labels']\n",
    "            unique_labels, counts = np.unique(train_labels, return_counts=True)\n",
    "            \n",
    "            # Estimate original counts (before augmentation)\n",
    "            # This is approximate based on the augmentation factor\n",
    "            original_train_size = len(self.combined_labels_df) * self.train_ratio\n",
    "            augmentation_factor = len(train_labels) / original_train_size\n",
    "            \n",
    "            axes[1, 1].text(0.5, 0.5, f'Training Set Augmentation\\n\\nOriginal: ~{int(original_train_size)} samples\\n'\n",
    "                           f'After Augmentation: {len(train_labels)} samples\\n'\n",
    "                           f'Augmentation Factor: ~{augmentation_factor:.1f}x',\n",
    "                           ha='center', va='center', fontsize=12,\n",
    "                           bbox=dict(boxstyle='round', facecolor='lightblue', alpha=0.5))\n",
    "            axes[1, 1].set_title('Augmentation Summary', fontsize=14, fontweight='bold')\n",
    "            axes[1, 1].axis('off')\n",
    "        \n",
    "        plt.tight_layout()\n",
    "        plt.suptitle('Data Split Analysis', fontsize=16, fontweight='bold', y=1.02)\n",
    "        plt.show()\n"
   ],
   "outputs": [],
   "execution_count": null
  },
  {
   "cell_type": "code",
   "id": "a5faca23-dda4-4d65-9558-2b42a02456c3",
   "metadata": {},
   "source": [
    "class CombinedDataLoader:\n",
    "    \"\"\"\n",
    "    Data loader for combined dataset with split support\n",
    "    \"\"\"\n",
    "    def __init__(self, dataset_base_path, normdata_path, img_res=(32, 32, 32)):\n",
    "        self.dataset_base_path = dataset_base_path\n",
    "        self.normdata_path = normdata_path\n",
    "        self.img_res = img_res\n",
    "        self.splits = {}\n",
    "        \n",
    "        # Load metadata\n",
    "        import json\n",
    "        metadata_path = dataset_base_path.replace('.npy', '_metadata.json')\n",
    "        with open(metadata_path, 'r') as f:\n",
    "            self.metadata = json.load(f)\n",
    "        \n",
    "        # Load each split\n",
    "        for split in ['train', 'val', 'test']:\n",
    "            split_path = dataset_base_path.replace('.npy', f'_{split}.npy')\n",
    "            if os.path.exists(split_path):\n",
    "                print(f\"\\nLoading {split} set...\")\n",
    "                \n",
    "                data = np.load(split_path)\n",
    "                labels = np.load(split_path.replace('.npy', '_labels.npy'))\n",
    "                experiments = np.load(split_path.replace('.npy', '_experiments.npy'))\n",
    "                \n",
    "                # Format for neural network\n",
    "                data = data.reshape((len(data), self.img_res[0], self.img_res[1], self.img_res[2], 1))\n",
    "                \n",
    "                # Convert labels to indices\n",
    "                label_to_idx = self.metadata['label_mapping']\n",
    "                label_indices = np.array([label_to_idx[label] for label in labels])\n",
    "                \n",
    "                self.splits[split] = {\n",
    "                    'data': data,\n",
    "                    'labels': labels,\n",
    "                    'label_indices': label_indices,\n",
    "                    'experiments': experiments\n",
    "                }\n",
    "                \n",
    "                print(f\"Loaded {len(data)} samples for {split}\")\n",
    "                print(f\"Label distribution: {dict(zip(*np.unique(labels, return_counts=True)))}\")\n",
    "    \n",
    "    def get_split(self, split_name):\n",
    "        \"\"\"Get a specific split\"\"\"\n",
    "        if split_name not in self.splits:\n",
    "            raise ValueError(f\"Split '{split_name}' not found. Available splits: {list(self.splits.keys())}\")\n",
    "        return self.splits[split_name]\n",
    "    \n",
    "    def load_batch(self, split_name='train', batch_size=32, shuffle=True):\n",
    "        \"\"\"Load batches from a specific split\"\"\"\n",
    "        if split_name not in self.splits:\n",
    "            raise ValueError(f\"Split '{split_name}' not found\")\n",
    "        \n",
    "        split_data = self.splits[split_name]\n",
    "        data = split_data['data']\n",
    "        labels = split_data['label_indices']\n",
    "        \n",
    "        indices = np.arange(len(data))\n",
    "        if shuffle:\n",
    "            indices = np.random.permutation(indices)\n",
    "        \n",
    "        n_batches = len(indices) // batch_size\n",
    "        \n",
    "        for i in range(n_batches):\n",
    "            batch_indices = indices[i * batch_size:(i + 1) * batch_size]\n",
    "            batch_data = data[batch_indices]\n",
    "            batch_labels = labels[batch_indices]\n",
    "            \n",
    "            yield batch_data, batch_labels"
   ],
   "outputs": [],
   "execution_count": null
  },
  {
   "cell_type": "code",
   "id": "e687074a-0798-4322-bc87-558fcb22e866",
   "metadata": {},
   "source": [
    "if __name__ == \"__main__\":\n",
    "    # Configuration for combined dataset\n",
    "    base_path = os.path.expanduser(\"~/PycharmProjects/PythonProject/MIDS_207_Final_Project/deepfakes+medical+image+tamper+detection/data/Tampered Scans/\")\n",
    "    \n",
    "    # Define experiments configuration\n",
    "    experiments_config = [\n",
    "        {\n",
    "            'labels_csv': os.path.join(base_path, \"labels_exp_1_TB.csv\"),\n",
    "            'dicom_dir': os.path.join(base_path, \"Experiment 1 - Blind\"),\n",
    "            'experiment_name': 'Experiment_1'\n",
    "        },\n",
    "        {\n",
    "            'labels_csv': os.path.join(base_path, \"labels_exp_2_TB.csv\"),\n",
    "            'dicom_dir': os.path.join(base_path, \"Experiment 2 - Open\"),\n",
    "            'experiment_name': 'Experiment_2'\n",
    "        }\n",
    "    ]\n",
    "    \n",
    "    output_dataset = \"combined_tampered_scans_dataset.npy\"\n",
    "    normalization_dir = \"combined_tampered_scans_normalization\"\n",
    "    \n",
    "    # Extract and preprocess combined dataset with split-first approach\n",
    "    extractor = CombinedLabeledExtractor(\n",
    "        experiments_config=experiments_config,\n",
    "        dst_path=output_dataset,\n",
    "        norm_save_dir=normalization_dir,\n",
    "        cube_shape=(32, 32, 32),\n",
    "        include_types=['FB', 'FM', 'TM','TB'],\n",
    "        augment=True,  # Will only be applied to training set\n",
    "        parallelize=False,\n",
    "        train_ratio=0.6,\n",
    "        val_ratio=0.2,\n",
    "        test_ratio=0.2,\n",
    "        random_state=42\n",
    "    )\n",
    "    \n",
    "    splits_data, metadata = extractor.extract()\n",
    "    \n",
    "    # Load the split datasets\n",
    "    if splits_data is not None:\n",
    "        dataloader = CombinedDataLoader(\n",
    "            dataset_base_path=output_dataset,\n",
    "            normdata_path=normalization_dir\n",
    "        )"
   ],
   "outputs": [],
   "execution_count": null
  },
  {
   "metadata": {
    "ExecuteTime": {
     "end_time": "2025-08-04T15:45:08.548639Z",
     "start_time": "2025-08-04T15:45:07.388130Z"
    }
   },
   "cell_type": "code",
   "source": [
    "import sys\n",
    "import pandas as pd\n",
    "import numpy as np\n",
    "import os\n",
    "from scipy.ndimage import rotate\n",
    "import scipy.ndimage\n",
    "from joblib import Parallel, delayed\n",
    "import multiprocessing\n",
    "import itertools\n",
    "import pydicom\n",
    "import SimpleITK as sitk\n",
    "from scipy.ndimage import zoom\n",
    "from sklearn.model_selection import train_test_split\n",
    "\n",
    "#Code from existing github repo provided by UC Irvine dataset\n",
    "sys.path.append(os.getcwd())\n",
    "import utils\n",
    "import equalizer\n",
    "from utils import cutCube\n",
    "from equalizer import histEq\n"
   ],
   "id": "4589a86d-2608-40d2-8f56-67cb6a69db23",
   "outputs": [],
   "execution_count": 1
  },
  {
   "metadata": {
    "ExecuteTime": {
     "end_time": "2025-08-04T15:45:11.396892Z",
     "start_time": "2025-08-04T15:45:11.392527Z"
    }
   },
   "cell_type": "code",
   "source": [
    "processed_training_data = \"/Users/ugorur/PycharmProjects/PythonProject/MIDS_207_Final_Project/combined_tampered_scans_dataset_train.npy\"\n",
    "processed_training_labels = \"/Users/ugorur/PycharmProjects/PythonProject/MIDS_207_Final_Project/combined_tampered_scans_dataset_train_labels.npy\"\n",
    "\n",
    "processed_val_data = \"/Users/ugorur/PycharmProjects/PythonProject/MIDS_207_Final_Project/combined_tampered_scans_dataset_val.npy\"\n",
    "processed_val_labels = \"/Users/ugorur/PycharmProjects/PythonProject/MIDS_207_Final_Project/combined_tampered_scans_dataset_val_labels.npy\"\n",
    "\n",
    "processed_test_data = \"/Users/ugorur/PycharmProjects/PythonProject/MIDS_207_Final_Project/combined_tampered_scans_dataset_test.npy\"\n",
    "processed_test_labels = \"/Users/ugorur/PycharmProjects/PythonProject/MIDS_207_Final_Project/combined_tampered_scans_dataset_test_labels.npy\"\n"
   ],
   "id": "192ded4fe7b69a9b",
   "outputs": [],
   "execution_count": 2
  },
  {
   "metadata": {
    "ExecuteTime": {
     "end_time": "2025-08-04T15:45:16.927929Z",
     "start_time": "2025-08-04T15:45:15.067843Z"
    }
   },
   "cell_type": "code",
   "source": [
    "from sklearn.preprocessing import LabelEncoder\n",
    "\n",
    "# Loading Training data\n",
    "loaded_train_data = np.load(processed_training_data)\n",
    "loaded_train_labels = np.load(processed_training_labels)\n",
    "\n",
    "# Loading Validation data\n",
    "loaded_val_data = np.load(processed_val_data)\n",
    "loaded_val_labels = np.load(processed_val_labels)\n",
    "\n",
    "# Loading Test data\n",
    "loaded_test_data = np.load(processed_test_data)\n",
    "loaded_test_labels = np.load(processed_test_labels)\n",
    "\n",
    "le = LabelEncoder()\n",
    "transformed_train_labels = le.fit_transform(loaded_train_labels)\n",
    "transformed_val_labels = le.transform(loaded_val_labels)\n",
    "transformed_test_labels = le.transform(loaded_test_labels)\n",
    "\n",
    "print(f'Shape of training data: {loaded_train_data.shape}, Shape of training labels: {transformed_train_labels.shape}')\n",
    "print(f'Shape of validation data: {loaded_val_data.shape}, Shape of training labels: {transformed_val_labels.shape}')\n",
    "print(f'Shape of training data: {loaded_test_data.shape}, Shape of training labels: {transformed_test_labels.shape}')\n"
   ],
   "id": "7d9f5adc21ebb892",
   "outputs": [
    {
     "name": "stdout",
     "output_type": "stream",
     "text": [
      "Shape of training data: (970, 32, 32, 32), Shape of training labels: (970,)\n",
      "Shape of validation data: (33, 32, 32, 32), Shape of training labels: (33,)\n",
      "Shape of training data: (33, 32, 32, 32), Shape of training labels: (33,)\n"
     ]
    }
   ],
   "execution_count": 3
  },
  {
   "metadata": {
    "ExecuteTime": {
     "end_time": "2025-08-04T15:45:17.929841Z",
     "start_time": "2025-08-04T15:45:17.916859Z"
    }
   },
   "cell_type": "code",
   "source": [
    "train_middle_slices = loaded_train_data[:, 16, :, :]\n",
    "val_middle_slices = loaded_val_data[:, 16, :, :]\n",
    "test_middle_slices = loaded_test_data[:, 16, :, :]\n",
    "\n",
    "print(f'Shape of middle slices: {train_middle_slices.shape}')\n",
    "print(f'Shape of middle slices: {val_middle_slices.shape}')\n",
    "print(f'Shape of middle slices: {test_middle_slices.shape}')\n"
   ],
   "id": "a3426f6778864cf3",
   "outputs": [
    {
     "name": "stdout",
     "output_type": "stream",
     "text": [
      "Shape of middle slices: (970, 32, 32)\n",
      "Shape of middle slices: (33, 32, 32)\n",
      "Shape of middle slices: (33, 32, 32)\n"
     ]
    }
   ],
   "execution_count": 4
  },
  {
   "metadata": {
    "ExecuteTime": {
     "end_time": "2025-08-04T15:45:18.421091Z",
     "start_time": "2025-08-04T15:45:18.412977Z"
    }
   },
   "cell_type": "code",
   "source": [
    "train_images = train_middle_slices[:,:,:,np.newaxis]\n",
    "val_images = val_middle_slices[:,:,:,np.newaxis]\n",
    "test_images = test_middle_slices[:,:,:,np.newaxis]\n",
    "\n",
    "print(f'Shape of training slices: {train_images.shape}')\n",
    "print(f'Shape of validation slices: {val_images.shape}')\n",
    "print(f'Shape of test slices: {test_images.shape}')\n"
   ],
   "id": "334601f6e9b37db6",
   "outputs": [
    {
     "name": "stdout",
     "output_type": "stream",
     "text": [
      "Shape of training slices: (970, 32, 32, 1)\n",
      "Shape of validation slices: (33, 32, 32, 1)\n",
      "Shape of test slices: (33, 32, 32, 1)\n"
     ]
    }
   ],
   "execution_count": 5
  },
  {
   "metadata": {
    "ExecuteTime": {
     "end_time": "2025-08-04T15:45:29.938992Z",
     "start_time": "2025-08-04T15:45:20.108518Z"
    }
   },
   "cell_type": "code",
   "source": [
    "import tensorflow as tf\n",
    "np.random.seed(1234)\n",
    "tf.random.set_seed(1234)"
   ],
   "id": "ab5f06d6a8380776",
   "outputs": [
    {
     "name": "stderr",
     "output_type": "stream",
     "text": [
      "2025-08-04 08:45:23.357694: I tensorflow/core/platform/cpu_feature_guard.cc:210] This TensorFlow binary is optimized to use available CPU instructions in performance-critical operations.\n",
      "To enable the following instructions: AVX2 FMA, in other operations, rebuild TensorFlow with the appropriate compiler flags.\n"
     ]
    }
   ],
   "execution_count": 6
  },
  {
   "metadata": {
    "ExecuteTime": {
     "end_time": "2025-08-04T15:45:31.045433Z",
     "start_time": "2025-08-04T15:45:31.040514Z"
    }
   },
   "cell_type": "code",
   "source": [
    "from sklearn.utils.class_weight import compute_class_weight\n",
    "\n",
    "class_weights = compute_class_weight(class_weight='balanced',\n",
    "                                     classes=np.unique(transformed_train_labels),\n",
    "                                     y=transformed_train_labels)\n",
    "\n",
    "class_weight_dict = dict(enumerate(class_weights))\n",
    "print(class_weight_dict)"
   ],
   "id": "ccacca63d0a66636",
   "outputs": [
    {
     "name": "stdout",
     "output_type": "stream",
     "text": [
      "{0: 0.5511363636363636, 1: 1.0104166666666667, 2: 2.6944444444444446, 3: 1.2125}\n"
     ]
    }
   ],
   "execution_count": 7
  },
  {
   "metadata": {
    "ExecuteTime": {
     "end_time": "2025-08-04T15:45:31.543624Z",
     "start_time": "2025-08-04T15:45:31.538081Z"
    }
   },
   "cell_type": "code",
   "source": [
    "from tensorflow.keras.callbacks import EarlyStopping\n",
    "\n",
    "early_stopping = tf.keras.callbacks.EarlyStopping(\n",
    "monitor='val_accuracy',\n",
    "verbose=1,\n",
    "patience=5,\n",
    "mode='max',\n",
    "restore_best_weights=True)"
   ],
   "id": "19fb87dc562fa329",
   "outputs": [],
   "execution_count": 8
  },
  {
   "metadata": {
    "ExecuteTime": {
     "end_time": "2025-08-04T15:46:08.201109Z",
     "start_time": "2025-08-04T15:45:34.223277Z"
    }
   },
   "cell_type": "code",
   "source": [
    "import tensorflow as tf\n",
    "from keras import models\n",
    "from keras import layers\n",
    "import matplotlib.pyplot as plt\n",
    "tf.keras.backend.clear_session()\n",
    "from tensorflow.keras import regularizers\n",
    "\n",
    "cnn_v1 = tf.keras.Sequential()\n",
    "cnn_v1.add(layers.Conv2D(32, (3, 3), padding='same', activation='relu', name='conv_1a'))\n",
    "cnn_v1.add(layers.MaxPooling2D((2, 2)))\n",
    "cnn_v1.add(layers.Dropout(0.3))\n",
    "\n",
    "cnn_v1.add(layers.Flatten())\n",
    "cnn_v1.add(layers.Dense(512, activation='relu', kernel_regularizer=regularizers.l2(1e-4)))\n",
    "cnn_v1.add(layers.Dropout(0.4))\n",
    "cnn_v1.add(layers.Dense(256, activation='relu', kernel_regularizer=regularizers.l2(1e-4)))\n",
    "cnn_v1.add(layers.Dropout(0.4))\n",
    "cnn_v1.add(layers.Dense(4, activation='softmax'))\n",
    "\n",
    "cnn_v1.build(input_shape=(None, 32, 32, 1))\n",
    "cnn_v1.compile(\n",
    "    optimizer=tf.keras.optimizers.Adam(learning_rate=1e-3),\n",
    "    loss='sparse_categorical_crossentropy',\n",
    "    metrics=['accuracy']\n",
    ")\n",
    "\n",
    "cnn_v1.summary()\n",
    "\n",
    "cnn_v1_history = cnn_v1.fit(train_images, transformed_train_labels, epochs=25, validation_data=(val_images, transformed_val_labels),callbacks=[early_stopping],class_weight=class_weight_dict)\n",
    "train_loss, train_acc = cnn_v1.evaluate(train_images, transformed_train_labels,verbose=1)\n",
    "print(f'Train loss: {train_loss}, Train accuracy: {train_acc}')\n",
    "\n",
    "val_loss, val_acc = cnn_v1.evaluate(val_images, transformed_val_labels,verbose=1)\n",
    "print(f'Validation loss: {val_loss}, Validation accuracy: {val_acc}')\n",
    "\n",
    "plt.subplot(1, 2, 1)\n",
    "plt.plot(cnn_v1_history.history['loss'])\n",
    "plt.plot(cnn_v1_history.history['val_loss'])\n",
    "plt.title('Epochs v Loss')\n",
    "plt.ylabel('Loss')\n",
    "plt.xlabel('Epoch')\n",
    "plt.legend(['Train', 'Validation'], loc='upper left')\n",
    "plt.show()\n",
    "\n",
    "plt.subplot(1, 2, 2)\n",
    "plt.plot(cnn_v1_history.history['accuracy'])\n",
    "plt.plot(cnn_v1_history.history['val_accuracy'])\n",
    "plt.title('Epochs v Accuracy')\n",
    "plt.ylabel('Accuracy')\n",
    "plt.xlabel('Epoch')\n",
    "plt.legend(['Train', 'Validation'], loc='upper left')\n",
    "plt.show()"
   ],
   "id": "e5e106ebeebecc03",
   "outputs": [
    {
     "data": {
      "text/plain": [
       "\u001B[1mModel: \"sequential\"\u001B[0m\n"
      ],
      "text/html": [
       "<pre style=\"white-space:pre;overflow-x:auto;line-height:normal;font-family:Menlo,'DejaVu Sans Mono',consolas,'Courier New',monospace\"><span style=\"font-weight: bold\">Model: \"sequential\"</span>\n",
       "</pre>\n"
      ]
     },
     "metadata": {},
     "output_type": "display_data"
    },
    {
     "data": {
      "text/plain": [
       "┏━━━━━━━━━━━━━━━━━━━━━━━━━━━━━━━━━┳━━━━━━━━━━━━━━━━━━━━━━━━┳━━━━━━━━━━━━━━━┓\n",
       "┃\u001B[1m \u001B[0m\u001B[1mLayer (type)                   \u001B[0m\u001B[1m \u001B[0m┃\u001B[1m \u001B[0m\u001B[1mOutput Shape          \u001B[0m\u001B[1m \u001B[0m┃\u001B[1m \u001B[0m\u001B[1m      Param #\u001B[0m\u001B[1m \u001B[0m┃\n",
       "┡━━━━━━━━━━━━━━━━━━━━━━━━━━━━━━━━━╇━━━━━━━━━━━━━━━━━━━━━━━━╇━━━━━━━━━━━━━━━┩\n",
       "│ conv_1a (\u001B[38;5;33mConv2D\u001B[0m)                │ (\u001B[38;5;45mNone\u001B[0m, \u001B[38;5;34m32\u001B[0m, \u001B[38;5;34m32\u001B[0m, \u001B[38;5;34m32\u001B[0m)     │           \u001B[38;5;34m320\u001B[0m │\n",
       "├─────────────────────────────────┼────────────────────────┼───────────────┤\n",
       "│ max_pooling2d (\u001B[38;5;33mMaxPooling2D\u001B[0m)    │ (\u001B[38;5;45mNone\u001B[0m, \u001B[38;5;34m16\u001B[0m, \u001B[38;5;34m16\u001B[0m, \u001B[38;5;34m32\u001B[0m)     │             \u001B[38;5;34m0\u001B[0m │\n",
       "├─────────────────────────────────┼────────────────────────┼───────────────┤\n",
       "│ dropout (\u001B[38;5;33mDropout\u001B[0m)               │ (\u001B[38;5;45mNone\u001B[0m, \u001B[38;5;34m16\u001B[0m, \u001B[38;5;34m16\u001B[0m, \u001B[38;5;34m32\u001B[0m)     │             \u001B[38;5;34m0\u001B[0m │\n",
       "├─────────────────────────────────┼────────────────────────┼───────────────┤\n",
       "│ flatten (\u001B[38;5;33mFlatten\u001B[0m)               │ (\u001B[38;5;45mNone\u001B[0m, \u001B[38;5;34m8192\u001B[0m)           │             \u001B[38;5;34m0\u001B[0m │\n",
       "├─────────────────────────────────┼────────────────────────┼───────────────┤\n",
       "│ dense (\u001B[38;5;33mDense\u001B[0m)                   │ (\u001B[38;5;45mNone\u001B[0m, \u001B[38;5;34m512\u001B[0m)            │     \u001B[38;5;34m4,194,816\u001B[0m │\n",
       "├─────────────────────────────────┼────────────────────────┼───────────────┤\n",
       "│ dropout_1 (\u001B[38;5;33mDropout\u001B[0m)             │ (\u001B[38;5;45mNone\u001B[0m, \u001B[38;5;34m512\u001B[0m)            │             \u001B[38;5;34m0\u001B[0m │\n",
       "├─────────────────────────────────┼────────────────────────┼───────────────┤\n",
       "│ dense_1 (\u001B[38;5;33mDense\u001B[0m)                 │ (\u001B[38;5;45mNone\u001B[0m, \u001B[38;5;34m256\u001B[0m)            │       \u001B[38;5;34m131,328\u001B[0m │\n",
       "├─────────────────────────────────┼────────────────────────┼───────────────┤\n",
       "│ dropout_2 (\u001B[38;5;33mDropout\u001B[0m)             │ (\u001B[38;5;45mNone\u001B[0m, \u001B[38;5;34m256\u001B[0m)            │             \u001B[38;5;34m0\u001B[0m │\n",
       "├─────────────────────────────────┼────────────────────────┼───────────────┤\n",
       "│ dense_2 (\u001B[38;5;33mDense\u001B[0m)                 │ (\u001B[38;5;45mNone\u001B[0m, \u001B[38;5;34m4\u001B[0m)              │         \u001B[38;5;34m1,028\u001B[0m │\n",
       "└─────────────────────────────────┴────────────────────────┴───────────────┘\n"
      ],
      "text/html": [
       "<pre style=\"white-space:pre;overflow-x:auto;line-height:normal;font-family:Menlo,'DejaVu Sans Mono',consolas,'Courier New',monospace\">┏━━━━━━━━━━━━━━━━━━━━━━━━━━━━━━━━━┳━━━━━━━━━━━━━━━━━━━━━━━━┳━━━━━━━━━━━━━━━┓\n",
       "┃<span style=\"font-weight: bold\"> Layer (type)                    </span>┃<span style=\"font-weight: bold\"> Output Shape           </span>┃<span style=\"font-weight: bold\">       Param # </span>┃\n",
       "┡━━━━━━━━━━━━━━━━━━━━━━━━━━━━━━━━━╇━━━━━━━━━━━━━━━━━━━━━━━━╇━━━━━━━━━━━━━━━┩\n",
       "│ conv_1a (<span style=\"color: #0087ff; text-decoration-color: #0087ff\">Conv2D</span>)                │ (<span style=\"color: #00d7ff; text-decoration-color: #00d7ff\">None</span>, <span style=\"color: #00af00; text-decoration-color: #00af00\">32</span>, <span style=\"color: #00af00; text-decoration-color: #00af00\">32</span>, <span style=\"color: #00af00; text-decoration-color: #00af00\">32</span>)     │           <span style=\"color: #00af00; text-decoration-color: #00af00\">320</span> │\n",
       "├─────────────────────────────────┼────────────────────────┼───────────────┤\n",
       "│ max_pooling2d (<span style=\"color: #0087ff; text-decoration-color: #0087ff\">MaxPooling2D</span>)    │ (<span style=\"color: #00d7ff; text-decoration-color: #00d7ff\">None</span>, <span style=\"color: #00af00; text-decoration-color: #00af00\">16</span>, <span style=\"color: #00af00; text-decoration-color: #00af00\">16</span>, <span style=\"color: #00af00; text-decoration-color: #00af00\">32</span>)     │             <span style=\"color: #00af00; text-decoration-color: #00af00\">0</span> │\n",
       "├─────────────────────────────────┼────────────────────────┼───────────────┤\n",
       "│ dropout (<span style=\"color: #0087ff; text-decoration-color: #0087ff\">Dropout</span>)               │ (<span style=\"color: #00d7ff; text-decoration-color: #00d7ff\">None</span>, <span style=\"color: #00af00; text-decoration-color: #00af00\">16</span>, <span style=\"color: #00af00; text-decoration-color: #00af00\">16</span>, <span style=\"color: #00af00; text-decoration-color: #00af00\">32</span>)     │             <span style=\"color: #00af00; text-decoration-color: #00af00\">0</span> │\n",
       "├─────────────────────────────────┼────────────────────────┼───────────────┤\n",
       "│ flatten (<span style=\"color: #0087ff; text-decoration-color: #0087ff\">Flatten</span>)               │ (<span style=\"color: #00d7ff; text-decoration-color: #00d7ff\">None</span>, <span style=\"color: #00af00; text-decoration-color: #00af00\">8192</span>)           │             <span style=\"color: #00af00; text-decoration-color: #00af00\">0</span> │\n",
       "├─────────────────────────────────┼────────────────────────┼───────────────┤\n",
       "│ dense (<span style=\"color: #0087ff; text-decoration-color: #0087ff\">Dense</span>)                   │ (<span style=\"color: #00d7ff; text-decoration-color: #00d7ff\">None</span>, <span style=\"color: #00af00; text-decoration-color: #00af00\">512</span>)            │     <span style=\"color: #00af00; text-decoration-color: #00af00\">4,194,816</span> │\n",
       "├─────────────────────────────────┼────────────────────────┼───────────────┤\n",
       "│ dropout_1 (<span style=\"color: #0087ff; text-decoration-color: #0087ff\">Dropout</span>)             │ (<span style=\"color: #00d7ff; text-decoration-color: #00d7ff\">None</span>, <span style=\"color: #00af00; text-decoration-color: #00af00\">512</span>)            │             <span style=\"color: #00af00; text-decoration-color: #00af00\">0</span> │\n",
       "├─────────────────────────────────┼────────────────────────┼───────────────┤\n",
       "│ dense_1 (<span style=\"color: #0087ff; text-decoration-color: #0087ff\">Dense</span>)                 │ (<span style=\"color: #00d7ff; text-decoration-color: #00d7ff\">None</span>, <span style=\"color: #00af00; text-decoration-color: #00af00\">256</span>)            │       <span style=\"color: #00af00; text-decoration-color: #00af00\">131,328</span> │\n",
       "├─────────────────────────────────┼────────────────────────┼───────────────┤\n",
       "│ dropout_2 (<span style=\"color: #0087ff; text-decoration-color: #0087ff\">Dropout</span>)             │ (<span style=\"color: #00d7ff; text-decoration-color: #00d7ff\">None</span>, <span style=\"color: #00af00; text-decoration-color: #00af00\">256</span>)            │             <span style=\"color: #00af00; text-decoration-color: #00af00\">0</span> │\n",
       "├─────────────────────────────────┼────────────────────────┼───────────────┤\n",
       "│ dense_2 (<span style=\"color: #0087ff; text-decoration-color: #0087ff\">Dense</span>)                 │ (<span style=\"color: #00d7ff; text-decoration-color: #00d7ff\">None</span>, <span style=\"color: #00af00; text-decoration-color: #00af00\">4</span>)              │         <span style=\"color: #00af00; text-decoration-color: #00af00\">1,028</span> │\n",
       "└─────────────────────────────────┴────────────────────────┴───────────────┘\n",
       "</pre>\n"
      ]
     },
     "metadata": {},
     "output_type": "display_data"
    },
    {
     "data": {
      "text/plain": [
       "\u001B[1m Total params: \u001B[0m\u001B[38;5;34m4,327,492\u001B[0m (16.51 MB)\n"
      ],
      "text/html": [
       "<pre style=\"white-space:pre;overflow-x:auto;line-height:normal;font-family:Menlo,'DejaVu Sans Mono',consolas,'Courier New',monospace\"><span style=\"font-weight: bold\"> Total params: </span><span style=\"color: #00af00; text-decoration-color: #00af00\">4,327,492</span> (16.51 MB)\n",
       "</pre>\n"
      ]
     },
     "metadata": {},
     "output_type": "display_data"
    },
    {
     "data": {
      "text/plain": [
       "\u001B[1m Trainable params: \u001B[0m\u001B[38;5;34m4,327,492\u001B[0m (16.51 MB)\n"
      ],
      "text/html": [
       "<pre style=\"white-space:pre;overflow-x:auto;line-height:normal;font-family:Menlo,'DejaVu Sans Mono',consolas,'Courier New',monospace\"><span style=\"font-weight: bold\"> Trainable params: </span><span style=\"color: #00af00; text-decoration-color: #00af00\">4,327,492</span> (16.51 MB)\n",
       "</pre>\n"
      ]
     },
     "metadata": {},
     "output_type": "display_data"
    },
    {
     "data": {
      "text/plain": [
       "\u001B[1m Non-trainable params: \u001B[0m\u001B[38;5;34m0\u001B[0m (0.00 B)\n"
      ],
      "text/html": [
       "<pre style=\"white-space:pre;overflow-x:auto;line-height:normal;font-family:Menlo,'DejaVu Sans Mono',consolas,'Courier New',monospace\"><span style=\"font-weight: bold\"> Non-trainable params: </span><span style=\"color: #00af00; text-decoration-color: #00af00\">0</span> (0.00 B)\n",
       "</pre>\n"
      ]
     },
     "metadata": {},
     "output_type": "display_data"
    },
    {
     "name": "stdout",
     "output_type": "stream",
     "text": [
      "Epoch 1/25\n",
      "\u001B[1m31/31\u001B[0m \u001B[32m━━━━━━━━━━━━━━━━━━━━\u001B[0m\u001B[37m\u001B[0m \u001B[1m5s\u001B[0m 109ms/step - accuracy: 0.3455 - loss: 1.3784 - val_accuracy: 0.8485 - val_loss: 0.9068\n",
      "Epoch 2/25\n",
      "\u001B[1m31/31\u001B[0m \u001B[32m━━━━━━━━━━━━━━━━━━━━\u001B[0m\u001B[37m\u001B[0m \u001B[1m3s\u001B[0m 91ms/step - accuracy: 0.5743 - loss: 0.9386 - val_accuracy: 0.9091 - val_loss: 0.7749\n",
      "Epoch 3/25\n",
      "\u001B[1m31/31\u001B[0m \u001B[32m━━━━━━━━━━━━━━━━━━━━\u001B[0m\u001B[37m\u001B[0m \u001B[1m3s\u001B[0m 90ms/step - accuracy: 0.7247 - loss: 0.7277 - val_accuracy: 0.9091 - val_loss: 0.5628\n",
      "Epoch 4/25\n",
      "\u001B[1m31/31\u001B[0m \u001B[32m━━━━━━━━━━━━━━━━━━━━\u001B[0m\u001B[37m\u001B[0m \u001B[1m3s\u001B[0m 91ms/step - accuracy: 0.8476 - loss: 0.5282 - val_accuracy: 0.9091 - val_loss: 0.5128\n",
      "Epoch 5/25\n",
      "\u001B[1m31/31\u001B[0m \u001B[32m━━━━━━━━━━━━━━━━━━━━\u001B[0m\u001B[37m\u001B[0m \u001B[1m3s\u001B[0m 91ms/step - accuracy: 0.8562 - loss: 0.4476 - val_accuracy: 0.9697 - val_loss: 0.4411\n",
      "Epoch 6/25\n",
      "\u001B[1m31/31\u001B[0m \u001B[32m━━━━━━━━━━━━━━━━━━━━\u001B[0m\u001B[37m\u001B[0m \u001B[1m5s\u001B[0m 88ms/step - accuracy: 0.9170 - loss: 0.3950 - val_accuracy: 0.9394 - val_loss: 0.3501\n",
      "Epoch 7/25\n",
      "\u001B[1m31/31\u001B[0m \u001B[32m━━━━━━━━━━━━━━━━━━━━\u001B[0m\u001B[37m\u001B[0m \u001B[1m3s\u001B[0m 88ms/step - accuracy: 0.9379 - loss: 0.2830 - val_accuracy: 0.9091 - val_loss: 0.3811\n",
      "Epoch 8/25\n",
      "\u001B[1m31/31\u001B[0m \u001B[32m━━━━━━━━━━━━━━━━━━━━\u001B[0m\u001B[37m\u001B[0m \u001B[1m3s\u001B[0m 93ms/step - accuracy: 0.9484 - loss: 0.2453 - val_accuracy: 0.9394 - val_loss: 0.3217\n",
      "Epoch 9/25\n",
      "\u001B[1m31/31\u001B[0m \u001B[32m━━━━━━━━━━━━━━━━━━━━\u001B[0m\u001B[37m\u001B[0m \u001B[1m3s\u001B[0m 88ms/step - accuracy: 0.9673 - loss: 0.2066 - val_accuracy: 0.9091 - val_loss: 0.3771\n",
      "Epoch 10/25\n",
      "\u001B[1m31/31\u001B[0m \u001B[32m━━━━━━━━━━━━━━━━━━━━\u001B[0m\u001B[37m\u001B[0m \u001B[1m3s\u001B[0m 88ms/step - accuracy: 0.9734 - loss: 0.1866 - val_accuracy: 0.9091 - val_loss: 0.4935\n",
      "Epoch 10: early stopping\n",
      "Restoring model weights from the end of the best epoch: 5.\n",
      "\u001B[1m31/31\u001B[0m \u001B[32m━━━━━━━━━━━━━━━━━━━━\u001B[0m\u001B[37m\u001B[0m \u001B[1m0s\u001B[0m 14ms/step - accuracy: 0.8754 - loss: 0.4387\n",
      "Train loss: 0.38350072503089905, Train accuracy: 0.9123711585998535\n",
      "\u001B[1m2/2\u001B[0m \u001B[32m━━━━━━━━━━━━━━━━━━━━\u001B[0m\u001B[37m\u001B[0m \u001B[1m0s\u001B[0m 30ms/step - accuracy: 0.9694 - loss: 0.4444\n",
      "Validation loss: 0.4410938322544098, Validation accuracy: 0.9696969985961914\n"
     ]
    },
    {
     "data": {
      "text/plain": [
       "<Figure size 640x480 with 1 Axes>"
      ],
      "image/png": "[encoded data removed]"
     },
     "metadata": {},
     "output_type": "display_data"
    },
    {
     "data": {
      "text/plain": [
       "<Figure size 640x480 with 1 Axes>"
      ],
      "image/png": "[encoded data removed]"
     },
     "metadata": {},
     "output_type": "display_data"
    }
   ],
   "execution_count": 9
  },
  {
   "metadata": {
    "ExecuteTime": {
     "end_time": "2025-08-04T15:46:39.733651Z",
     "start_time": "2025-08-04T15:46:08.269273Z"
    }
   },
   "cell_type": "code",
   "source": [
    "import tensorflow as tf\n",
    "from keras import models\n",
    "from keras import layers\n",
    "tf.keras.backend.clear_session()\n",
    "from tensorflow.keras import regularizers\n",
    "\n",
    "cnn_v1_1 = tf.keras.Sequential()\n",
    "cnn_v1_1.add(layers.Conv2D(32, (3, 3), padding='same', activation='relu', name='conv_1a'))\n",
    "cnn_v1_1.add(layers.Conv2D(32, (3, 3), padding='same', activation='relu', name='conv_1b'))\n",
    "cnn_v1_1.add(layers.MaxPooling2D((2, 2)))\n",
    "cnn_v1_1.add(layers.Dropout(0.3))\n",
    "\n",
    "cnn_v1_1.add(layers.Flatten())\n",
    "cnn_v1_1.add(layers.Dense(512, activation='relu', kernel_regularizer=regularizers.l2(1e-4)))\n",
    "cnn_v1_1.add(layers.Dropout(0.4))\n",
    "cnn_v1_1.add(layers.Dense(256, activation='relu', kernel_regularizer=regularizers.l2(1e-4)))\n",
    "cnn_v1_1.add(layers.Dropout(0.4))\n",
    "cnn_v1_1.add(layers.Dense(4, activation='softmax'))\n",
    "\n",
    "cnn_v1_1.build(input_shape=(None, 32, 32, 1))\n",
    "cnn_v1_1.compile(\n",
    "    optimizer=tf.keras.optimizers.Adam(learning_rate=1e-3),\n",
    "    loss='sparse_categorical_crossentropy',\n",
    "    metrics=['accuracy']\n",
    ")\n",
    "\n",
    "cnn_v1_1.summary()\n",
    "\n",
    "cnn_v1_1_history = cnn_v1_1.fit(train_images, transformed_train_labels, epochs=25, validation_data=(val_images, transformed_val_labels),callbacks=[early_stopping],class_weight=class_weight_dict)\n",
    "train_loss, train_acc = cnn_v1_1.evaluate(train_images, transformed_train_labels,verbose=1)\n",
    "print(f'Train loss: {train_loss}, Train accuracy: {train_acc}')\n",
    "\n",
    "val_loss, val_acc = cnn_v1_1.evaluate(val_images, transformed_val_labels,verbose=1)\n",
    "print(f'Validation loss: {val_loss}, Validation accuracy: {val_acc}')\n",
    "\n",
    "plt.subplot(1, 2, 1)\n",
    "plt.plot(cnn_v1_1_history.history['loss'])\n",
    "plt.plot(cnn_v1_1_history.history['val_loss'])\n",
    "plt.title('Epochs v Loss')\n",
    "plt.ylabel('Loss')\n",
    "plt.xlabel('Epoch')\n",
    "plt.legend(['Train', 'Validation'], loc='upper left')\n",
    "plt.show()\n",
    "\n",
    "plt.subplot(1, 2, 2)\n",
    "plt.plot(cnn_v1_1_history.history['accuracy'])\n",
    "plt.plot(cnn_v1_1_history.history['val_accuracy'])\n",
    "plt.title('Epochs v Accuracy')\n",
    "plt.ylabel('Accuracy')\n",
    "plt.xlabel('Epoch')\n",
    "plt.legend(['Train', 'Validation'], loc='upper left')\n",
    "plt.show()"
   ],
   "id": "ffa95c4f4f8e1151",
   "outputs": [
    {
     "data": {
      "text/plain": [
       "\u001B[1mModel: \"sequential\"\u001B[0m\n"
      ],
      "text/html": [
       "<pre style=\"white-space:pre;overflow-x:auto;line-height:normal;font-family:Menlo,'DejaVu Sans Mono',consolas,'Courier New',monospace\"><span style=\"font-weight: bold\">Model: \"sequential\"</span>\n",
       "</pre>\n"
      ]
     },
     "metadata": {},
     "output_type": "display_data"
    },
    {
     "data": {
      "text/plain": [
       "┏━━━━━━━━━━━━━━━━━━━━━━━━━━━━━━━━━┳━━━━━━━━━━━━━━━━━━━━━━━━┳━━━━━━━━━━━━━━━┓\n",
       "┃\u001B[1m \u001B[0m\u001B[1mLayer (type)                   \u001B[0m\u001B[1m \u001B[0m┃\u001B[1m \u001B[0m\u001B[1mOutput Shape          \u001B[0m\u001B[1m \u001B[0m┃\u001B[1m \u001B[0m\u001B[1m      Param #\u001B[0m\u001B[1m \u001B[0m┃\n",
       "┡━━━━━━━━━━━━━━━━━━━━━━━━━━━━━━━━━╇━━━━━━━━━━━━━━━━━━━━━━━━╇━━━━━━━━━━━━━━━┩\n",
       "│ conv_1a (\u001B[38;5;33mConv2D\u001B[0m)                │ (\u001B[38;5;45mNone\u001B[0m, \u001B[38;5;34m32\u001B[0m, \u001B[38;5;34m32\u001B[0m, \u001B[38;5;34m32\u001B[0m)     │           \u001B[38;5;34m320\u001B[0m │\n",
       "├─────────────────────────────────┼────────────────────────┼───────────────┤\n",
       "│ conv_1b (\u001B[38;5;33mConv2D\u001B[0m)                │ (\u001B[38;5;45mNone\u001B[0m, \u001B[38;5;34m32\u001B[0m, \u001B[38;5;34m32\u001B[0m, \u001B[38;5;34m32\u001B[0m)     │         \u001B[38;5;34m9,248\u001B[0m │\n",
       "├─────────────────────────────────┼────────────────────────┼───────────────┤\n",
       "│ max_pooling2d (\u001B[38;5;33mMaxPooling2D\u001B[0m)    │ (\u001B[38;5;45mNone\u001B[0m, \u001B[38;5;34m16\u001B[0m, \u001B[38;5;34m16\u001B[0m, \u001B[38;5;34m32\u001B[0m)     │             \u001B[38;5;34m0\u001B[0m │\n",
       "├─────────────────────────────────┼────────────────────────┼───────────────┤\n",
       "│ dropout (\u001B[38;5;33mDropout\u001B[0m)               │ (\u001B[38;5;45mNone\u001B[0m, \u001B[38;5;34m16\u001B[0m, \u001B[38;5;34m16\u001B[0m, \u001B[38;5;34m32\u001B[0m)     │             \u001B[38;5;34m0\u001B[0m │\n",
       "├─────────────────────────────────┼────────────────────────┼───────────────┤\n",
       "│ flatten (\u001B[38;5;33mFlatten\u001B[0m)               │ (\u001B[38;5;45mNone\u001B[0m, \u001B[38;5;34m8192\u001B[0m)           │             \u001B[38;5;34m0\u001B[0m │\n",
       "├─────────────────────────────────┼────────────────────────┼───────────────┤\n",
       "│ dense (\u001B[38;5;33mDense\u001B[0m)                   │ (\u001B[38;5;45mNone\u001B[0m, \u001B[38;5;34m512\u001B[0m)            │     \u001B[38;5;34m4,194,816\u001B[0m │\n",
       "├─────────────────────────────────┼────────────────────────┼───────────────┤\n",
       "│ dropout_1 (\u001B[38;5;33mDropout\u001B[0m)             │ (\u001B[38;5;45mNone\u001B[0m, \u001B[38;5;34m512\u001B[0m)            │             \u001B[38;5;34m0\u001B[0m │\n",
       "├─────────────────────────────────┼────────────────────────┼───────────────┤\n",
       "│ dense_1 (\u001B[38;5;33mDense\u001B[0m)                 │ (\u001B[38;5;45mNone\u001B[0m, \u001B[38;5;34m256\u001B[0m)            │       \u001B[38;5;34m131,328\u001B[0m │\n",
       "├─────────────────────────────────┼────────────────────────┼───────────────┤\n",
       "│ dropout_2 (\u001B[38;5;33mDropout\u001B[0m)             │ (\u001B[38;5;45mNone\u001B[0m, \u001B[38;5;34m256\u001B[0m)            │             \u001B[38;5;34m0\u001B[0m │\n",
       "├─────────────────────────────────┼────────────────────────┼───────────────┤\n",
       "│ dense_2 (\u001B[38;5;33mDense\u001B[0m)                 │ (\u001B[38;5;45mNone\u001B[0m, \u001B[38;5;34m4\u001B[0m)              │         \u001B[38;5;34m1,028\u001B[0m │\n",
       "└─────────────────────────────────┴────────────────────────┴───────────────┘\n"
      ],
      "text/html": [
       "<pre style=\"white-space:pre;overflow-x:auto;line-height:normal;font-family:Menlo,'DejaVu Sans Mono',consolas,'Courier New',monospace\">┏━━━━━━━━━━━━━━━━━━━━━━━━━━━━━━━━━┳━━━━━━━━━━━━━━━━━━━━━━━━┳━━━━━━━━━━━━━━━┓\n",
       "┃<span style=\"font-weight: bold\"> Layer (type)                    </span>┃<span style=\"font-weight: bold\"> Output Shape           </span>┃<span style=\"font-weight: bold\">       Param # </span>┃\n",
       "┡━━━━━━━━━━━━━━━━━━━━━━━━━━━━━━━━━╇━━━━━━━━━━━━━━━━━━━━━━━━╇━━━━━━━━━━━━━━━┩\n",
       "│ conv_1a (<span style=\"color: #0087ff; text-decoration-color: #0087ff\">Conv2D</span>)                │ (<span style=\"color: #00d7ff; text-decoration-color: #00d7ff\">None</span>, <span style=\"color: #00af00; text-decoration-color: #00af00\">32</span>, <span style=\"color: #00af00; text-decoration-color: #00af00\">32</span>, <span style=\"color: #00af00; text-decoration-color: #00af00\">32</span>)     │           <span style=\"color: #00af00; text-decoration-color: #00af00\">320</span> │\n",
       "├─────────────────────────────────┼────────────────────────┼───────────────┤\n",
       "│ conv_1b (<span style=\"color: #0087ff; text-decoration-color: #0087ff\">Conv2D</span>)                │ (<span style=\"color: #00d7ff; text-decoration-color: #00d7ff\">None</span>, <span style=\"color: #00af00; text-decoration-color: #00af00\">32</span>, <span style=\"color: #00af00; text-decoration-color: #00af00\">32</span>, <span style=\"color: #00af00; text-decoration-color: #00af00\">32</span>)     │         <span style=\"color: #00af00; text-decoration-color: #00af00\">9,248</span> │\n",
       "├─────────────────────────────────┼────────────────────────┼───────────────┤\n",
       "│ max_pooling2d (<span style=\"color: #0087ff; text-decoration-color: #0087ff\">MaxPooling2D</span>)    │ (<span style=\"color: #00d7ff; text-decoration-color: #00d7ff\">None</span>, <span style=\"color: #00af00; text-decoration-color: #00af00\">16</span>, <span style=\"color: #00af00; text-decoration-color: #00af00\">16</span>, <span style=\"color: #00af00; text-decoration-color: #00af00\">32</span>)     │             <span style=\"color: #00af00; text-decoration-color: #00af00\">0</span> │\n",
       "├─────────────────────────────────┼────────────────────────┼───────────────┤\n",
       "│ dropout (<span style=\"color: #0087ff; text-decoration-color: #0087ff\">Dropout</span>)               │ (<span style=\"color: #00d7ff; text-decoration-color: #00d7ff\">None</span>, <span style=\"color: #00af00; text-decoration-color: #00af00\">16</span>, <span style=\"color: #00af00; text-decoration-color: #00af00\">16</span>, <span style=\"color: #00af00; text-decoration-color: #00af00\">32</span>)     │             <span style=\"color: #00af00; text-decoration-color: #00af00\">0</span> │\n",
       "├─────────────────────────────────┼────────────────────────┼───────────────┤\n",
       "│ flatten (<span style=\"color: #0087ff; text-decoration-color: #0087ff\">Flatten</span>)               │ (<span style=\"color: #00d7ff; text-decoration-color: #00d7ff\">None</span>, <span style=\"color: #00af00; text-decoration-color: #00af00\">8192</span>)           │             <span style=\"color: #00af00; text-decoration-color: #00af00\">0</span> │\n",
       "├─────────────────────────────────┼────────────────────────┼───────────────┤\n",
       "│ dense (<span style=\"color: #0087ff; text-decoration-color: #0087ff\">Dense</span>)                   │ (<span style=\"color: #00d7ff; text-decoration-color: #00d7ff\">None</span>, <span style=\"color: #00af00; text-decoration-color: #00af00\">512</span>)            │     <span style=\"color: #00af00; text-decoration-color: #00af00\">4,194,816</span> │\n",
       "├─────────────────────────────────┼────────────────────────┼───────────────┤\n",
       "│ dropout_1 (<span style=\"color: #0087ff; text-decoration-color: #0087ff\">Dropout</span>)             │ (<span style=\"color: #00d7ff; text-decoration-color: #00d7ff\">None</span>, <span style=\"color: #00af00; text-decoration-color: #00af00\">512</span>)            │             <span style=\"color: #00af00; text-decoration-color: #00af00\">0</span> │\n",
       "├─────────────────────────────────┼────────────────────────┼───────────────┤\n",
       "│ dense_1 (<span style=\"color: #0087ff; text-decoration-color: #0087ff\">Dense</span>)                 │ (<span style=\"color: #00d7ff; text-decoration-color: #00d7ff\">None</span>, <span style=\"color: #00af00; text-decoration-color: #00af00\">256</span>)            │       <span style=\"color: #00af00; text-decoration-color: #00af00\">131,328</span> │\n",
       "├─────────────────────────────────┼────────────────────────┼───────────────┤\n",
       "│ dropout_2 (<span style=\"color: #0087ff; text-decoration-color: #0087ff\">Dropout</span>)             │ (<span style=\"color: #00d7ff; text-decoration-color: #00d7ff\">None</span>, <span style=\"color: #00af00; text-decoration-color: #00af00\">256</span>)            │             <span style=\"color: #00af00; text-decoration-color: #00af00\">0</span> │\n",
       "├─────────────────────────────────┼────────────────────────┼───────────────┤\n",
       "│ dense_2 (<span style=\"color: #0087ff; text-decoration-color: #0087ff\">Dense</span>)                 │ (<span style=\"color: #00d7ff; text-decoration-color: #00d7ff\">None</span>, <span style=\"color: #00af00; text-decoration-color: #00af00\">4</span>)              │         <span style=\"color: #00af00; text-decoration-color: #00af00\">1,028</span> │\n",
       "└─────────────────────────────────┴────────────────────────┴───────────────┘\n",
       "</pre>\n"
      ]
     },
     "metadata": {},
     "output_type": "display_data"
    },
    {
     "data": {
      "text/plain": [
       "\u001B[1m Total params: \u001B[0m\u001B[38;5;34m4,336,740\u001B[0m (16.54 MB)\n"
      ],
      "text/html": [
       "<pre style=\"white-space:pre;overflow-x:auto;line-height:normal;font-family:Menlo,'DejaVu Sans Mono',consolas,'Courier New',monospace\"><span style=\"font-weight: bold\"> Total params: </span><span style=\"color: #00af00; text-decoration-color: #00af00\">4,336,740</span> (16.54 MB)\n",
       "</pre>\n"
      ]
     },
     "metadata": {},
     "output_type": "display_data"
    },
    {
     "data": {
      "text/plain": [
       "\u001B[1m Trainable params: \u001B[0m\u001B[38;5;34m4,336,740\u001B[0m (16.54 MB)\n"
      ],
      "text/html": [
       "<pre style=\"white-space:pre;overflow-x:auto;line-height:normal;font-family:Menlo,'DejaVu Sans Mono',consolas,'Courier New',monospace\"><span style=\"font-weight: bold\"> Trainable params: </span><span style=\"color: #00af00; text-decoration-color: #00af00\">4,336,740</span> (16.54 MB)\n",
       "</pre>\n"
      ]
     },
     "metadata": {},
     "output_type": "display_data"
    },
    {
     "data": {
      "text/plain": [
       "\u001B[1m Non-trainable params: \u001B[0m\u001B[38;5;34m0\u001B[0m (0.00 B)\n"
      ],
      "text/html": [
       "<pre style=\"white-space:pre;overflow-x:auto;line-height:normal;font-family:Menlo,'DejaVu Sans Mono',consolas,'Courier New',monospace\"><span style=\"font-weight: bold\"> Non-trainable params: </span><span style=\"color: #00af00; text-decoration-color: #00af00\">0</span> (0.00 B)\n",
       "</pre>\n"
      ]
     },
     "metadata": {},
     "output_type": "display_data"
    },
    {
     "name": "stdout",
     "output_type": "stream",
     "text": [
      "Epoch 1/25\n",
      "\u001B[1m31/31\u001B[0m \u001B[32m━━━━━━━━━━━━━━━━━━━━\u001B[0m\u001B[37m\u001B[0m \u001B[1m5s\u001B[0m 121ms/step - accuracy: 0.3336 - loss: 1.3511 - val_accuracy: 0.8485 - val_loss: 0.8490\n",
      "Epoch 2/25\n",
      "\u001B[1m31/31\u001B[0m \u001B[32m━━━━━━━━━━━━━━━━━━━━\u001B[0m\u001B[37m\u001B[0m \u001B[1m3s\u001B[0m 112ms/step - accuracy: 0.6603 - loss: 0.8883 - val_accuracy: 0.8788 - val_loss: 0.5315\n",
      "Epoch 3/25\n",
      "\u001B[1m31/31\u001B[0m \u001B[32m━━━━━━━━━━━━━━━━━━━━\u001B[0m\u001B[37m\u001B[0m \u001B[1m4s\u001B[0m 113ms/step - accuracy: 0.7715 - loss: 0.6847 - val_accuracy: 0.9394 - val_loss: 0.3908\n",
      "Epoch 4/25\n",
      "\u001B[1m31/31\u001B[0m \u001B[32m━━━━━━━━━━━━━━━━━━━━\u001B[0m\u001B[37m\u001B[0m \u001B[1m4s\u001B[0m 115ms/step - accuracy: 0.8872 - loss: 0.3800 - val_accuracy: 0.9394 - val_loss: 0.3788\n",
      "Epoch 5/25\n",
      "\u001B[1m31/31\u001B[0m \u001B[32m━━━━━━━━━━━━━━━━━━━━\u001B[0m\u001B[37m\u001B[0m \u001B[1m4s\u001B[0m 112ms/step - accuracy: 0.9387 - loss: 0.2864 - val_accuracy: 0.9394 - val_loss: 0.4350\n",
      "Epoch 6/25\n",
      "\u001B[1m31/31\u001B[0m \u001B[32m━━━━━━━━━━━━━━━━━━━━\u001B[0m\u001B[37m\u001B[0m \u001B[1m4s\u001B[0m 114ms/step - accuracy: 0.9540 - loss: 0.2754 - val_accuracy: 0.9394 - val_loss: 0.3441\n",
      "Epoch 7/25\n",
      "\u001B[1m31/31\u001B[0m \u001B[32m━━━━━━━━━━━━━━━━━━━━\u001B[0m\u001B[37m\u001B[0m \u001B[1m4s\u001B[0m 114ms/step - accuracy: 0.9580 - loss: 0.2014 - val_accuracy: 0.8788 - val_loss: 0.3497\n",
      "Epoch 8/25\n",
      "\u001B[1m31/31\u001B[0m \u001B[32m━━━━━━━━━━━━━━━━━━━━\u001B[0m\u001B[37m\u001B[0m \u001B[1m3s\u001B[0m 111ms/step - accuracy: 0.9509 - loss: 0.2170 - val_accuracy: 0.9091 - val_loss: 0.4346\n",
      "Epoch 8: early stopping\n",
      "Restoring model weights from the end of the best epoch: 3.\n",
      "\u001B[1m31/31\u001B[0m \u001B[32m━━━━━━━━━━━━━━━━━━━━\u001B[0m\u001B[37m\u001B[0m \u001B[1m1s\u001B[0m 17ms/step - accuracy: 0.9013 - loss: 0.3791\n",
      "Train loss: 0.31896233558654785, Train accuracy: 0.9319587349891663\n",
      "\u001B[1m2/2\u001B[0m \u001B[32m━━━━━━━━━━━━━━━━━━━━\u001B[0m\u001B[37m\u001B[0m \u001B[1m0s\u001B[0m 33ms/step - accuracy: 0.9388 - loss: 0.3935\n",
      "Validation loss: 0.39078742265701294, Validation accuracy: 0.939393937587738\n"
     ]
    },
    {
     "data": {
      "text/plain": [
       "<Figure size 640x480 with 1 Axes>"
      ],
      "image/png": "[encoded data removed]"
     },
     "metadata": {},
     "output_type": "display_data"
    },
    {
     "data": {
      "text/plain": [
       "<Figure size 640x480 with 1 Axes>"
      ],
      "image/png": "[encoded data removed]"
     },
     "metadata": {},
     "output_type": "display_data"
    }
   ],
   "execution_count": 10
  },
  {
   "metadata": {
    "ExecuteTime": {
     "end_time": "2025-08-04T15:47:48.550545Z",
     "start_time": "2025-08-04T15:46:39.804288Z"
    }
   },
   "cell_type": "code",
   "source": [
    "import tensorflow as tf\n",
    "from keras import layers\n",
    "from tensorflow.keras import regularizers\n",
    "\n",
    "tf.keras.backend.clear_session()\n",
    "\n",
    "cnn_v2 = tf.keras.Sequential()\n",
    "cnn_v2.add(layers.Conv2D(32, (3, 3), padding='same', activation='relu', name='conv_1a'))\n",
    "cnn_v2.add(layers.Conv2D(32, (3, 3), padding='same', activation='relu', name='conv_1b'))\n",
    "cnn_v2.add(layers.MaxPooling2D((2, 2)))\n",
    "cnn_v2.add(layers.Dropout(0.3))\n",
    "\n",
    "cnn_v2.add(layers.Conv2D(64, (3, 3), padding='same', activation='relu', name='conv_2a'))\n",
    "cnn_v2.add(layers.Conv2D(64, (3, 3), padding='same', activation='relu', name='conv_2b'))\n",
    "cnn_v2.add(layers.MaxPooling2D((2, 2)))\n",
    "cnn_v2.add(layers.Dropout(0.3))\n",
    "\n",
    "cnn_v2.add(layers.Flatten())\n",
    "cnn_v2.add(layers.Dense(512, activation='relu', kernel_regularizer=regularizers.l2(1e-4)))\n",
    "cnn_v2.add(layers.Dropout(0.4))\n",
    "cnn_v2.add(layers.Dense(256, activation='relu', kernel_regularizer=regularizers.l2(1e-4)))\n",
    "cnn_v2.add(layers.Dropout(0.4))\n",
    "cnn_v2.add(layers.Dense(4, activation='softmax'))\n",
    "\n",
    "cnn_v2.build(input_shape=(None, 32, 32, 1))\n",
    "cnn_v2.compile(\n",
    "    optimizer=tf.keras.optimizers.Adam(learning_rate=1e-3),\n",
    "    loss='sparse_categorical_crossentropy',\n",
    "    metrics=['accuracy']\n",
    ")\n",
    "\n",
    "cnn_v2.summary()\n",
    "\n",
    "cnn_v2_history = cnn_v2.fit(train_images, transformed_train_labels, epochs=25, validation_data=(val_images, transformed_val_labels),callbacks=[early_stopping],class_weight=class_weight_dict)\n",
    "train_loss, train_acc = cnn_v2.evaluate(train_images, transformed_train_labels,verbose=1)\n",
    "print(f'Train loss: {train_loss}, Train accuracy: {train_acc}')\n",
    "\n",
    "val_loss, val_acc = cnn_v2.evaluate(val_images, transformed_val_labels,verbose=1)\n",
    "print(f'Validation loss: {val_loss}, Validation accuracy: {val_acc}')\n",
    "\n",
    "plt.subplot(1, 2, 1)\n",
    "plt.plot(cnn_v2_history.history['loss'])\n",
    "plt.plot(cnn_v2_history.history['val_loss'])\n",
    "plt.title('Epochs v Loss')\n",
    "plt.ylabel('Loss')\n",
    "plt.xlabel('Epoch')\n",
    "plt.legend(['Train', 'Validation'], loc='upper left')\n",
    "plt.show()\n",
    "\n",
    "plt.subplot(1, 2, 2)\n",
    "plt.plot(cnn_v2_history.history['accuracy'])\n",
    "plt.plot(cnn_v2_history.history['val_accuracy'])\n",
    "plt.title('Epochs v Accuracy')\n",
    "plt.ylabel('Accuracy')\n",
    "plt.xlabel('Epoch')\n",
    "plt.legend(['Train', 'Validation'], loc='upper left')\n",
    "plt.show()"
   ],
   "id": "b00e40c3c59bd735",
   "outputs": [
    {
     "data": {
      "text/plain": [
       "\u001B[1mModel: \"sequential\"\u001B[0m\n"
      ],
      "text/html": [
       "<pre style=\"white-space:pre;overflow-x:auto;line-height:normal;font-family:Menlo,'DejaVu Sans Mono',consolas,'Courier New',monospace\"><span style=\"font-weight: bold\">Model: \"sequential\"</span>\n",
       "</pre>\n"
      ]
     },
     "metadata": {},
     "output_type": "display_data"
    },
    {
     "data": {
      "text/plain": [
       "┏━━━━━━━━━━━━━━━━━━━━━━━━━━━━━━━━━┳━━━━━━━━━━━━━━━━━━━━━━━━┳━━━━━━━━━━━━━━━┓\n",
       "┃\u001B[1m \u001B[0m\u001B[1mLayer (type)                   \u001B[0m\u001B[1m \u001B[0m┃\u001B[1m \u001B[0m\u001B[1mOutput Shape          \u001B[0m\u001B[1m \u001B[0m┃\u001B[1m \u001B[0m\u001B[1m      Param #\u001B[0m\u001B[1m \u001B[0m┃\n",
       "┡━━━━━━━━━━━━━━━━━━━━━━━━━━━━━━━━━╇━━━━━━━━━━━━━━━━━━━━━━━━╇━━━━━━━━━━━━━━━┩\n",
       "│ conv_1a (\u001B[38;5;33mConv2D\u001B[0m)                │ (\u001B[38;5;45mNone\u001B[0m, \u001B[38;5;34m32\u001B[0m, \u001B[38;5;34m32\u001B[0m, \u001B[38;5;34m32\u001B[0m)     │           \u001B[38;5;34m320\u001B[0m │\n",
       "├─────────────────────────────────┼────────────────────────┼───────────────┤\n",
       "│ conv_1b (\u001B[38;5;33mConv2D\u001B[0m)                │ (\u001B[38;5;45mNone\u001B[0m, \u001B[38;5;34m32\u001B[0m, \u001B[38;5;34m32\u001B[0m, \u001B[38;5;34m32\u001B[0m)     │         \u001B[38;5;34m9,248\u001B[0m │\n",
       "├─────────────────────────────────┼────────────────────────┼───────────────┤\n",
       "│ max_pooling2d (\u001B[38;5;33mMaxPooling2D\u001B[0m)    │ (\u001B[38;5;45mNone\u001B[0m, \u001B[38;5;34m16\u001B[0m, \u001B[38;5;34m16\u001B[0m, \u001B[38;5;34m32\u001B[0m)     │             \u001B[38;5;34m0\u001B[0m │\n",
       "├─────────────────────────────────┼────────────────────────┼───────────────┤\n",
       "│ dropout (\u001B[38;5;33mDropout\u001B[0m)               │ (\u001B[38;5;45mNone\u001B[0m, \u001B[38;5;34m16\u001B[0m, \u001B[38;5;34m16\u001B[0m, \u001B[38;5;34m32\u001B[0m)     │             \u001B[38;5;34m0\u001B[0m │\n",
       "├─────────────────────────────────┼────────────────────────┼───────────────┤\n",
       "│ conv_2a (\u001B[38;5;33mConv2D\u001B[0m)                │ (\u001B[38;5;45mNone\u001B[0m, \u001B[38;5;34m16\u001B[0m, \u001B[38;5;34m16\u001B[0m, \u001B[38;5;34m64\u001B[0m)     │        \u001B[38;5;34m18,496\u001B[0m │\n",
       "├─────────────────────────────────┼────────────────────────┼───────────────┤\n",
       "│ conv_2b (\u001B[38;5;33mConv2D\u001B[0m)                │ (\u001B[38;5;45mNone\u001B[0m, \u001B[38;5;34m16\u001B[0m, \u001B[38;5;34m16\u001B[0m, \u001B[38;5;34m64\u001B[0m)     │        \u001B[38;5;34m36,928\u001B[0m │\n",
       "├─────────────────────────────────┼────────────────────────┼───────────────┤\n",
       "│ max_pooling2d_1 (\u001B[38;5;33mMaxPooling2D\u001B[0m)  │ (\u001B[38;5;45mNone\u001B[0m, \u001B[38;5;34m8\u001B[0m, \u001B[38;5;34m8\u001B[0m, \u001B[38;5;34m64\u001B[0m)       │             \u001B[38;5;34m0\u001B[0m │\n",
       "├─────────────────────────────────┼────────────────────────┼───────────────┤\n",
       "│ dropout_1 (\u001B[38;5;33mDropout\u001B[0m)             │ (\u001B[38;5;45mNone\u001B[0m, \u001B[38;5;34m8\u001B[0m, \u001B[38;5;34m8\u001B[0m, \u001B[38;5;34m64\u001B[0m)       │             \u001B[38;5;34m0\u001B[0m │\n",
       "├─────────────────────────────────┼────────────────────────┼───────────────┤\n",
       "│ flatten (\u001B[38;5;33mFlatten\u001B[0m)               │ (\u001B[38;5;45mNone\u001B[0m, \u001B[38;5;34m4096\u001B[0m)           │             \u001B[38;5;34m0\u001B[0m │\n",
       "├─────────────────────────────────┼────────────────────────┼───────────────┤\n",
       "│ dense (\u001B[38;5;33mDense\u001B[0m)                   │ (\u001B[38;5;45mNone\u001B[0m, \u001B[38;5;34m512\u001B[0m)            │     \u001B[38;5;34m2,097,664\u001B[0m │\n",
       "├─────────────────────────────────┼────────────────────────┼───────────────┤\n",
       "│ dropout_2 (\u001B[38;5;33mDropout\u001B[0m)             │ (\u001B[38;5;45mNone\u001B[0m, \u001B[38;5;34m512\u001B[0m)            │             \u001B[38;5;34m0\u001B[0m │\n",
       "├─────────────────────────────────┼────────────────────────┼───────────────┤\n",
       "│ dense_1 (\u001B[38;5;33mDense\u001B[0m)                 │ (\u001B[38;5;45mNone\u001B[0m, \u001B[38;5;34m256\u001B[0m)            │       \u001B[38;5;34m131,328\u001B[0m │\n",
       "├─────────────────────────────────┼────────────────────────┼───────────────┤\n",
       "│ dropout_3 (\u001B[38;5;33mDropout\u001B[0m)             │ (\u001B[38;5;45mNone\u001B[0m, \u001B[38;5;34m256\u001B[0m)            │             \u001B[38;5;34m0\u001B[0m │\n",
       "├─────────────────────────────────┼────────────────────────┼───────────────┤\n",
       "│ dense_2 (\u001B[38;5;33mDense\u001B[0m)                 │ (\u001B[38;5;45mNone\u001B[0m, \u001B[38;5;34m4\u001B[0m)              │         \u001B[38;5;34m1,028\u001B[0m │\n",
       "└─────────────────────────────────┴────────────────────────┴───────────────┘\n"
      ],
      "text/html": [
       "<pre style=\"white-space:pre;overflow-x:auto;line-height:normal;font-family:Menlo,'DejaVu Sans Mono',consolas,'Courier New',monospace\">┏━━━━━━━━━━━━━━━━━━━━━━━━━━━━━━━━━┳━━━━━━━━━━━━━━━━━━━━━━━━┳━━━━━━━━━━━━━━━┓\n",
       "┃<span style=\"font-weight: bold\"> Layer (type)                    </span>┃<span style=\"font-weight: bold\"> Output Shape           </span>┃<span style=\"font-weight: bold\">       Param # </span>┃\n",
       "┡━━━━━━━━━━━━━━━━━━━━━━━━━━━━━━━━━╇━━━━━━━━━━━━━━━━━━━━━━━━╇━━━━━━━━━━━━━━━┩\n",
       "│ conv_1a (<span style=\"color: #0087ff; text-decoration-color: #0087ff\">Conv2D</span>)                │ (<span style=\"color: #00d7ff; text-decoration-color: #00d7ff\">None</span>, <span style=\"color: #00af00; text-decoration-color: #00af00\">32</span>, <span style=\"color: #00af00; text-decoration-color: #00af00\">32</span>, <span style=\"color: #00af00; text-decoration-color: #00af00\">32</span>)     │           <span style=\"color: #00af00; text-decoration-color: #00af00\">320</span> │\n",
       "├─────────────────────────────────┼────────────────────────┼───────────────┤\n",
       "│ conv_1b (<span style=\"color: #0087ff; text-decoration-color: #0087ff\">Conv2D</span>)                │ (<span style=\"color: #00d7ff; text-decoration-color: #00d7ff\">None</span>, <span style=\"color: #00af00; text-decoration-color: #00af00\">32</span>, <span style=\"color: #00af00; text-decoration-color: #00af00\">32</span>, <span style=\"color: #00af00; text-decoration-color: #00af00\">32</span>)     │         <span style=\"color: #00af00; text-decoration-color: #00af00\">9,248</span> │\n",
       "├─────────────────────────────────┼────────────────────────┼───────────────┤\n",
       "│ max_pooling2d (<span style=\"color: #0087ff; text-decoration-color: #0087ff\">MaxPooling2D</span>)    │ (<span style=\"color: #00d7ff; text-decoration-color: #00d7ff\">None</span>, <span style=\"color: #00af00; text-decoration-color: #00af00\">16</span>, <span style=\"color: #00af00; text-decoration-color: #00af00\">16</span>, <span style=\"color: #00af00; text-decoration-color: #00af00\">32</span>)     │             <span style=\"color: #00af00; text-decoration-color: #00af00\">0</span> │\n",
       "├─────────────────────────────────┼────────────────────────┼───────────────┤\n",
       "│ dropout (<span style=\"color: #0087ff; text-decoration-color: #0087ff\">Dropout</span>)               │ (<span style=\"color: #00d7ff; text-decoration-color: #00d7ff\">None</span>, <span style=\"color: #00af00; text-decoration-color: #00af00\">16</span>, <span style=\"color: #00af00; text-decoration-color: #00af00\">16</span>, <span style=\"color: #00af00; text-decoration-color: #00af00\">32</span>)     │             <span style=\"color: #00af00; text-decoration-color: #00af00\">0</span> │\n",
       "├─────────────────────────────────┼────────────────────────┼───────────────┤\n",
       "│ conv_2a (<span style=\"color: #0087ff; text-decoration-color: #0087ff\">Conv2D</span>)                │ (<span style=\"color: #00d7ff; text-decoration-color: #00d7ff\">None</span>, <span style=\"color: #00af00; text-decoration-color: #00af00\">16</span>, <span style=\"color: #00af00; text-decoration-color: #00af00\">16</span>, <span style=\"color: #00af00; text-decoration-color: #00af00\">64</span>)     │        <span style=\"color: #00af00; text-decoration-color: #00af00\">18,496</span> │\n",
       "├─────────────────────────────────┼────────────────────────┼───────────────┤\n",
       "│ conv_2b (<span style=\"color: #0087ff; text-decoration-color: #0087ff\">Conv2D</span>)                │ (<span style=\"color: #00d7ff; text-decoration-color: #00d7ff\">None</span>, <span style=\"color: #00af00; text-decoration-color: #00af00\">16</span>, <span style=\"color: #00af00; text-decoration-color: #00af00\">16</span>, <span style=\"color: #00af00; text-decoration-color: #00af00\">64</span>)     │        <span style=\"color: #00af00; text-decoration-color: #00af00\">36,928</span> │\n",
       "├─────────────────────────────────┼────────────────────────┼───────────────┤\n",
       "│ max_pooling2d_1 (<span style=\"color: #0087ff; text-decoration-color: #0087ff\">MaxPooling2D</span>)  │ (<span style=\"color: #00d7ff; text-decoration-color: #00d7ff\">None</span>, <span style=\"color: #00af00; text-decoration-color: #00af00\">8</span>, <span style=\"color: #00af00; text-decoration-color: #00af00\">8</span>, <span style=\"color: #00af00; text-decoration-color: #00af00\">64</span>)       │             <span style=\"color: #00af00; text-decoration-color: #00af00\">0</span> │\n",
       "├─────────────────────────────────┼────────────────────────┼───────────────┤\n",
       "│ dropout_1 (<span style=\"color: #0087ff; text-decoration-color: #0087ff\">Dropout</span>)             │ (<span style=\"color: #00d7ff; text-decoration-color: #00d7ff\">None</span>, <span style=\"color: #00af00; text-decoration-color: #00af00\">8</span>, <span style=\"color: #00af00; text-decoration-color: #00af00\">8</span>, <span style=\"color: #00af00; text-decoration-color: #00af00\">64</span>)       │             <span style=\"color: #00af00; text-decoration-color: #00af00\">0</span> │\n",
       "├─────────────────────────────────┼────────────────────────┼───────────────┤\n",
       "│ flatten (<span style=\"color: #0087ff; text-decoration-color: #0087ff\">Flatten</span>)               │ (<span style=\"color: #00d7ff; text-decoration-color: #00d7ff\">None</span>, <span style=\"color: #00af00; text-decoration-color: #00af00\">4096</span>)           │             <span style=\"color: #00af00; text-decoration-color: #00af00\">0</span> │\n",
       "├─────────────────────────────────┼────────────────────────┼───────────────┤\n",
       "│ dense (<span style=\"color: #0087ff; text-decoration-color: #0087ff\">Dense</span>)                   │ (<span style=\"color: #00d7ff; text-decoration-color: #00d7ff\">None</span>, <span style=\"color: #00af00; text-decoration-color: #00af00\">512</span>)            │     <span style=\"color: #00af00; text-decoration-color: #00af00\">2,097,664</span> │\n",
       "├─────────────────────────────────┼────────────────────────┼───────────────┤\n",
       "│ dropout_2 (<span style=\"color: #0087ff; text-decoration-color: #0087ff\">Dropout</span>)             │ (<span style=\"color: #00d7ff; text-decoration-color: #00d7ff\">None</span>, <span style=\"color: #00af00; text-decoration-color: #00af00\">512</span>)            │             <span style=\"color: #00af00; text-decoration-color: #00af00\">0</span> │\n",
       "├─────────────────────────────────┼────────────────────────┼───────────────┤\n",
       "│ dense_1 (<span style=\"color: #0087ff; text-decoration-color: #0087ff\">Dense</span>)                 │ (<span style=\"color: #00d7ff; text-decoration-color: #00d7ff\">None</span>, <span style=\"color: #00af00; text-decoration-color: #00af00\">256</span>)            │       <span style=\"color: #00af00; text-decoration-color: #00af00\">131,328</span> │\n",
       "├─────────────────────────────────┼────────────────────────┼───────────────┤\n",
       "│ dropout_3 (<span style=\"color: #0087ff; text-decoration-color: #0087ff\">Dropout</span>)             │ (<span style=\"color: #00d7ff; text-decoration-color: #00d7ff\">None</span>, <span style=\"color: #00af00; text-decoration-color: #00af00\">256</span>)            │             <span style=\"color: #00af00; text-decoration-color: #00af00\">0</span> │\n",
       "├─────────────────────────────────┼────────────────────────┼───────────────┤\n",
       "│ dense_2 (<span style=\"color: #0087ff; text-decoration-color: #0087ff\">Dense</span>)                 │ (<span style=\"color: #00d7ff; text-decoration-color: #00d7ff\">None</span>, <span style=\"color: #00af00; text-decoration-color: #00af00\">4</span>)              │         <span style=\"color: #00af00; text-decoration-color: #00af00\">1,028</span> │\n",
       "└─────────────────────────────────┴────────────────────────┴───────────────┘\n",
       "</pre>\n"
      ]
     },
     "metadata": {},
     "output_type": "display_data"
    },
    {
     "data": {
      "text/plain": [
       "\u001B[1m Total params: \u001B[0m\u001B[38;5;34m2,295,012\u001B[0m (8.75 MB)\n"
      ],
      "text/html": [
       "<pre style=\"white-space:pre;overflow-x:auto;line-height:normal;font-family:Menlo,'DejaVu Sans Mono',consolas,'Courier New',monospace\"><span style=\"font-weight: bold\"> Total params: </span><span style=\"color: #00af00; text-decoration-color: #00af00\">2,295,012</span> (8.75 MB)\n",
       "</pre>\n"
      ]
     },
     "metadata": {},
     "output_type": "display_data"
    },
    {
     "data": {
      "text/plain": [
       "\u001B[1m Trainable params: \u001B[0m\u001B[38;5;34m2,295,012\u001B[0m (8.75 MB)\n"
      ],
      "text/html": [
       "<pre style=\"white-space:pre;overflow-x:auto;line-height:normal;font-family:Menlo,'DejaVu Sans Mono',consolas,'Courier New',monospace\"><span style=\"font-weight: bold\"> Trainable params: </span><span style=\"color: #00af00; text-decoration-color: #00af00\">2,295,012</span> (8.75 MB)\n",
       "</pre>\n"
      ]
     },
     "metadata": {},
     "output_type": "display_data"
    },
    {
     "data": {
      "text/plain": [
       "\u001B[1m Non-trainable params: \u001B[0m\u001B[38;5;34m0\u001B[0m (0.00 B)\n"
      ],
      "text/html": [
       "<pre style=\"white-space:pre;overflow-x:auto;line-height:normal;font-family:Menlo,'DejaVu Sans Mono',consolas,'Courier New',monospace\"><span style=\"font-weight: bold\"> Non-trainable params: </span><span style=\"color: #00af00; text-decoration-color: #00af00\">0</span> (0.00 B)\n",
       "</pre>\n"
      ]
     },
     "metadata": {},
     "output_type": "display_data"
    },
    {
     "name": "stdout",
     "output_type": "stream",
     "text": [
      "Epoch 1/25\n",
      "\u001B[1m31/31\u001B[0m \u001B[32m━━━━━━━━━━━━━━━━━━━━\u001B[0m\u001B[37m\u001B[0m \u001B[1m7s\u001B[0m 145ms/step - accuracy: 0.2910 - loss: 1.4603 - val_accuracy: 0.6970 - val_loss: 0.9852\n",
      "Epoch 2/25\n",
      "\u001B[1m31/31\u001B[0m \u001B[32m━━━━━━━━━━━━━━━━━━━━\u001B[0m\u001B[37m\u001B[0m \u001B[1m5s\u001B[0m 140ms/step - accuracy: 0.5597 - loss: 1.0052 - val_accuracy: 0.6364 - val_loss: 0.8583\n",
      "Epoch 3/25\n",
      "\u001B[1m31/31\u001B[0m \u001B[32m━━━━━━━━━━━━━━━━━━━━\u001B[0m\u001B[37m\u001B[0m \u001B[1m4s\u001B[0m 142ms/step - accuracy: 0.6913 - loss: 0.8620 - val_accuracy: 0.8485 - val_loss: 0.5055\n",
      "Epoch 4/25\n",
      "\u001B[1m31/31\u001B[0m \u001B[32m━━━━━━━━━━━━━━━━━━━━\u001B[0m\u001B[37m\u001B[0m \u001B[1m4s\u001B[0m 142ms/step - accuracy: 0.7745 - loss: 0.6647 - val_accuracy: 0.8485 - val_loss: 0.4869\n",
      "Epoch 5/25\n",
      "\u001B[1m31/31\u001B[0m \u001B[32m━━━━━━━━━━━━━━━━━━━━\u001B[0m\u001B[37m\u001B[0m \u001B[1m5s\u001B[0m 147ms/step - accuracy: 0.8024 - loss: 0.5787 - val_accuracy: 0.9091 - val_loss: 0.4006\n",
      "Epoch 6/25\n",
      "\u001B[1m31/31\u001B[0m \u001B[32m━━━━━━━━━━━━━━━━━━━━\u001B[0m\u001B[37m\u001B[0m \u001B[1m4s\u001B[0m 139ms/step - accuracy: 0.8485 - loss: 0.4210 - val_accuracy: 0.9091 - val_loss: 0.4698\n",
      "Epoch 7/25\n",
      "\u001B[1m31/31\u001B[0m \u001B[32m━━━━━━━━━━━━━━━━━━━━\u001B[0m\u001B[37m\u001B[0m \u001B[1m5s\u001B[0m 146ms/step - accuracy: 0.9052 - loss: 0.3727 - val_accuracy: 0.9091 - val_loss: 0.3430\n",
      "Epoch 8/25\n",
      "\u001B[1m31/31\u001B[0m \u001B[32m━━━━━━━━━━━━━━━━━━━━\u001B[0m\u001B[37m\u001B[0m \u001B[1m5s\u001B[0m 142ms/step - accuracy: 0.9130 - loss: 0.3174 - val_accuracy: 0.9091 - val_loss: 0.4155\n",
      "Epoch 9/25\n",
      "\u001B[1m31/31\u001B[0m \u001B[32m━━━━━━━━━━━━━━━━━━━━\u001B[0m\u001B[37m\u001B[0m \u001B[1m4s\u001B[0m 142ms/step - accuracy: 0.9287 - loss: 0.2924 - val_accuracy: 0.9394 - val_loss: 0.3617\n",
      "Epoch 10/25\n",
      "\u001B[1m31/31\u001B[0m \u001B[32m━━━━━━━━━━━━━━━━━━━━\u001B[0m\u001B[37m\u001B[0m \u001B[1m4s\u001B[0m 139ms/step - accuracy: 0.9518 - loss: 0.2176 - val_accuracy: 0.9394 - val_loss: 0.4613\n",
      "Epoch 11/25\n",
      "\u001B[1m31/31\u001B[0m \u001B[32m━━━━━━━━━━━━━━━━━━━━\u001B[0m\u001B[37m\u001B[0m \u001B[1m5s\u001B[0m 158ms/step - accuracy: 0.9577 - loss: 0.1887 - val_accuracy: 0.9091 - val_loss: 0.4918\n",
      "Epoch 12/25\n",
      "\u001B[1m31/31\u001B[0m \u001B[32m━━━━━━━━━━━━━━━━━━━━\u001B[0m\u001B[37m\u001B[0m \u001B[1m4s\u001B[0m 142ms/step - accuracy: 0.9353 - loss: 0.2885 - val_accuracy: 0.9394 - val_loss: 0.4329\n",
      "Epoch 13/25\n",
      "\u001B[1m31/31\u001B[0m \u001B[32m━━━━━━━━━━━━━━━━━━━━\u001B[0m\u001B[37m\u001B[0m \u001B[1m4s\u001B[0m 136ms/step - accuracy: 0.9629 - loss: 0.1943 - val_accuracy: 0.9091 - val_loss: 0.5237\n",
      "Epoch 14/25\n",
      "\u001B[1m31/31\u001B[0m \u001B[32m━━━━━━━━━━━━━━━━━━━━\u001B[0m\u001B[37m\u001B[0m \u001B[1m5s\u001B[0m 161ms/step - accuracy: 0.9848 - loss: 0.1303 - val_accuracy: 0.9091 - val_loss: 0.6416\n",
      "Epoch 14: early stopping\n",
      "Restoring model weights from the end of the best epoch: 9.\n",
      "\u001B[1m31/31\u001B[0m \u001B[32m━━━━━━━━━━━━━━━━━━━━\u001B[0m\u001B[37m\u001B[0m \u001B[1m1s\u001B[0m 27ms/step - accuracy: 0.9534 - loss: 0.2008\n",
      "Train loss: 0.17553825676441193, Train accuracy: 0.9649484753608704\n",
      "\u001B[1m2/2\u001B[0m \u001B[32m━━━━━━━━━━━━━━━━━━━━\u001B[0m\u001B[37m\u001B[0m \u001B[1m0s\u001B[0m 31ms/step - accuracy: 0.9388 - loss: 0.3646 \n",
      "Validation loss: 0.3616796135902405, Validation accuracy: 0.939393937587738\n"
     ]
    },
    {
     "data": {
      "text/plain": [
       "<Figure size 640x480 with 1 Axes>"
      ],
      "image/png": "[encoded data removed]"
     },
     "metadata": {},
     "output_type": "display_data"
    },
    {
     "data": {
      "text/plain": [
       "<Figure size 640x480 with 1 Axes>"
      ],
      "image/png": "[encoded data removed]"
     },
     "metadata": {},
     "output_type": "display_data"
    }
   ],
   "execution_count": 11
  },
  {
   "metadata": {
    "ExecuteTime": {
     "end_time": "2025-08-04T15:48:40.081405Z",
     "start_time": "2025-08-04T15:47:48.753792Z"
    }
   },
   "cell_type": "code",
   "source": [
    "import tensorflow as tf\n",
    "from keras import layers\n",
    "from tensorflow.keras import regularizers\n",
    "\n",
    "tf.keras.backend.clear_session()\n",
    "\n",
    "cnn_v3 = tf.keras.Sequential()\n",
    "cnn_v3.add(layers.Conv2D(32, (3, 3), padding='same', activation='relu', name='conv_1a'))\n",
    "cnn_v3.add(layers.Conv2D(32, (3, 3), padding='same', activation='relu', name='conv_1b'))\n",
    "cnn_v3.add(layers.MaxPooling2D((2, 2)))\n",
    "cnn_v3.add(layers.Dropout(0.3))\n",
    "\n",
    "cnn_v3.add(layers.Conv2D(64, (3, 3), padding='same', activation='relu', name='conv_2a'))\n",
    "cnn_v3.add(layers.Conv2D(64, (3, 3), padding='same', activation='relu', name='conv_2b'))\n",
    "cnn_v3.add(layers.MaxPooling2D((2, 2)))\n",
    "cnn_v3.add(layers.Dropout(0.3))\n",
    "\n",
    "cnn_v3.add(layers.Conv2D(128, (3, 3), padding='same', activation='relu', name='conv_3a'))\n",
    "cnn_v3.add(layers.Conv2D(128, (3, 3), padding='same', activation='relu', name='conv_3b'))\n",
    "cnn_v3.add(layers.MaxPooling2D((2, 2)))\n",
    "cnn_v3.add(layers.Flatten())\n",
    "cnn_v3.add(layers.Dense(512, activation='relu', kernel_regularizer=regularizers.l2(1e-4)))\n",
    "cnn_v3.add(layers.Dropout(0.4))\n",
    "cnn_v3.add(layers.Dense(256, activation='relu', kernel_regularizer=regularizers.l2(1e-4)))\n",
    "cnn_v3.add(layers.Dropout(0.4))\n",
    "cnn_v3.add(layers.Dense(4, activation='softmax'))\n",
    "\n",
    "cnn_v3.build(input_shape=(None, 32, 32, 1))\n",
    "cnn_v3.compile(\n",
    "    optimizer=tf.keras.optimizers.Adam(learning_rate=1e-3),\n",
    "    loss='sparse_categorical_crossentropy',\n",
    "    metrics=['accuracy']\n",
    ")\n",
    "\n",
    "cnn_v3_history = cnn_v3.fit(train_images, transformed_train_labels, epochs=25, validation_data=(val_images, transformed_val_labels),callbacks=[early_stopping],class_weight=class_weight_dict)\n",
    "train_loss, train_acc = cnn_v3.evaluate(train_images, transformed_train_labels,verbose=1)\n",
    "print(f'Train loss: {train_loss}, Train accuracy: {train_acc}')\n",
    "\n",
    "val_loss, val_acc = cnn_v3.evaluate(val_images, transformed_val_labels,verbose=1)\n",
    "print(f'Validation loss: {val_loss}, Validation accuracy: {val_acc}')\n",
    "\n",
    "plt.subplot(1, 2, 1)\n",
    "plt.plot(cnn_v3_history.history['loss'])\n",
    "plt.plot(cnn_v3_history.history['val_loss'])\n",
    "plt.title('Epochs v Loss')\n",
    "plt.ylabel('Loss')\n",
    "plt.xlabel('Epoch')\n",
    "plt.legend(['Train', 'Validation'], loc='upper left')\n",
    "plt.show()\n",
    "\n",
    "plt.subplot(1, 2, 2)\n",
    "plt.plot(cnn_v3_history.history['accuracy'])\n",
    "plt.plot(cnn_v3_history.history['val_accuracy'])\n",
    "plt.title('Epochs v Accuracy')\n",
    "plt.ylabel('Accuracy')\n",
    "plt.xlabel('Epoch')\n",
    "plt.legend(['Train', 'Validation'], loc='upper left')\n",
    "plt.show()"
   ],
   "id": "be4dd308465c396",
   "outputs": [
    {
     "name": "stdout",
     "output_type": "stream",
     "text": [
      "Epoch 1/25\n",
      "\u001B[1m31/31\u001B[0m \u001B[32m━━━━━━━━━━━━━━━━━━━━\u001B[0m\u001B[37m\u001B[0m \u001B[1m6s\u001B[0m 109ms/step - accuracy: 0.2210 - loss: 1.5080 - val_accuracy: 0.4242 - val_loss: 1.4411\n",
      "Epoch 2/25\n",
      "\u001B[1m31/31\u001B[0m \u001B[32m━━━━━━━━━━━━━━━━━━━━\u001B[0m\u001B[37m\u001B[0m \u001B[1m3s\u001B[0m 104ms/step - accuracy: 0.3581 - loss: 1.3751 - val_accuracy: 0.4242 - val_loss: 1.2398\n",
      "Epoch 3/25\n",
      "\u001B[1m31/31\u001B[0m \u001B[32m━━━━━━━━━━━━━━━━━━━━\u001B[0m\u001B[37m\u001B[0m \u001B[1m3s\u001B[0m 101ms/step - accuracy: 0.4786 - loss: 1.1396 - val_accuracy: 0.7576 - val_loss: 0.8688\n",
      "Epoch 4/25\n",
      "\u001B[1m31/31\u001B[0m \u001B[32m━━━━━━━━━━━━━━━━━━━━\u001B[0m\u001B[37m\u001B[0m \u001B[1m3s\u001B[0m 97ms/step - accuracy: 0.6940 - loss: 0.8278 - val_accuracy: 0.8485 - val_loss: 0.6189\n",
      "Epoch 5/25\n",
      "\u001B[1m31/31\u001B[0m \u001B[32m━━━━━━━━━━━━━━━━━━━━\u001B[0m\u001B[37m\u001B[0m \u001B[1m3s\u001B[0m 103ms/step - accuracy: 0.7476 - loss: 0.7070 - val_accuracy: 0.8182 - val_loss: 0.5877\n",
      "Epoch 6/25\n",
      "\u001B[1m31/31\u001B[0m \u001B[32m━━━━━━━━━━━━━━━━━━━━\u001B[0m\u001B[37m\u001B[0m \u001B[1m3s\u001B[0m 98ms/step - accuracy: 0.7703 - loss: 0.6730 - val_accuracy: 0.8788 - val_loss: 0.4811\n",
      "Epoch 7/25\n",
      "\u001B[1m31/31\u001B[0m \u001B[32m━━━━━━━━━━━━━━━━━━━━\u001B[0m\u001B[37m\u001B[0m \u001B[1m3s\u001B[0m 97ms/step - accuracy: 0.7896 - loss: 0.6124 - val_accuracy: 0.7879 - val_loss: 0.6736\n",
      "Epoch 8/25\n",
      "\u001B[1m31/31\u001B[0m \u001B[32m━━━━━━━━━━━━━━━━━━━━\u001B[0m\u001B[37m\u001B[0m \u001B[1m3s\u001B[0m 101ms/step - accuracy: 0.7787 - loss: 0.6207 - val_accuracy: 0.8788 - val_loss: 0.4578\n",
      "Epoch 9/25\n",
      "\u001B[1m31/31\u001B[0m \u001B[32m━━━━━━━━━━━━━━━━━━━━\u001B[0m\u001B[37m\u001B[0m \u001B[1m3s\u001B[0m 100ms/step - accuracy: 0.8179 - loss: 0.5638 - val_accuracy: 0.8788 - val_loss: 0.4739\n",
      "Epoch 10/25\n",
      "\u001B[1m31/31\u001B[0m \u001B[32m━━━━━━━━━━━━━━━━━━━━\u001B[0m\u001B[37m\u001B[0m \u001B[1m3s\u001B[0m 99ms/step - accuracy: 0.8482 - loss: 0.4412 - val_accuracy: 0.9091 - val_loss: 0.4286\n",
      "Epoch 11/25\n",
      "\u001B[1m31/31\u001B[0m \u001B[32m━━━━━━━━━━━━━━━━━━━━\u001B[0m\u001B[37m\u001B[0m \u001B[1m3s\u001B[0m 100ms/step - accuracy: 0.8850 - loss: 0.3930 - val_accuracy: 0.9091 - val_loss: 0.4639\n",
      "Epoch 12/25\n",
      "\u001B[1m31/31\u001B[0m \u001B[32m━━━━━━━━━━━━━━━━━━━━\u001B[0m\u001B[37m\u001B[0m \u001B[1m3s\u001B[0m 104ms/step - accuracy: 0.8987 - loss: 0.4109 - val_accuracy: 0.9091 - val_loss: 0.4561\n",
      "Epoch 13/25\n",
      "\u001B[1m31/31\u001B[0m \u001B[32m━━━━━━━━━━━━━━━━━━━━\u001B[0m\u001B[37m\u001B[0m \u001B[1m3s\u001B[0m 99ms/step - accuracy: 0.9009 - loss: 0.2998 - val_accuracy: 0.9091 - val_loss: 0.4919\n",
      "Epoch 14/25\n",
      "\u001B[1m31/31\u001B[0m \u001B[32m━━━━━━━━━━━━━━━━━━━━\u001B[0m\u001B[37m\u001B[0m \u001B[1m3s\u001B[0m 102ms/step - accuracy: 0.9103 - loss: 0.3451 - val_accuracy: 0.9091 - val_loss: 0.5032\n",
      "Epoch 15/25\n",
      "\u001B[1m31/31\u001B[0m \u001B[32m━━━━━━━━━━━━━━━━━━━━\u001B[0m\u001B[37m\u001B[0m \u001B[1m3s\u001B[0m 105ms/step - accuracy: 0.9337 - loss: 0.2588 - val_accuracy: 0.8788 - val_loss: 0.4325\n",
      "Epoch 15: early stopping\n",
      "Restoring model weights from the end of the best epoch: 10.\n",
      "\u001B[1m31/31\u001B[0m \u001B[32m━━━━━━━━━━━━━━━━━━━━\u001B[0m\u001B[37m\u001B[0m \u001B[1m1s\u001B[0m 18ms/step - accuracy: 0.9210 - loss: 0.2559\n",
      "Train loss: 0.2591492831707001, Train accuracy: 0.9134020805358887\n",
      "\u001B[1m2/2\u001B[0m \u001B[32m━━━━━━━━━━━━━━━━━━━━\u001B[0m\u001B[37m\u001B[0m \u001B[1m0s\u001B[0m 21ms/step - accuracy: 0.9081 - loss: 0.4326\n",
      "Validation loss: 0.42858394980430603, Validation accuracy: 0.9090909361839294\n"
     ]
    },
    {
     "data": {
      "text/plain": [
       "<Figure size 640x480 with 1 Axes>"
      ],
      "image/png": "[encoded data removed]"
     },
     "metadata": {},
     "output_type": "display_data"
    },
    {
     "data": {
      "text/plain": [
       "<Figure size 640x480 with 1 Axes>"
      ],
      "image/png": "[encoded data removed]"
     },
     "metadata": {},
     "output_type": "display_data"
    }
   ],
   "execution_count": 12
  },
  {
   "metadata": {},
   "cell_type": "code",
   "source": [
    "cnn_v1.build(input_shape=(None, 32, 32, 1))\n",
    "cnn_v1.compile(\n",
    "    optimizer=tf.keras.optimizers.Adam(learning_rate=1e-2),\n",
    "    loss='sparse_categorical_crossentropy',\n",
    "    metrics=['accuracy']\n",
    ")"
   ],
   "id": "6fbddd85b4d5c28d",
   "outputs": [],
   "execution_count": null
  },
  {
   "metadata": {},
   "cell_type": "code",
   "source": [
    "cnn_v1_1.build(input_shape=(None, 32, 32, 1))\n",
    "cnn_v1_1.compile(\n",
    "    optimizer=tf.keras.optimizers.Adam(learning_rate=1e-2),\n",
    "    loss='sparse_categorical_crossentropy',\n",
    "    metrics=['accuracy']\n",
    ")"
   ],
   "id": "ca74219e22d63cf9",
   "outputs": [],
   "execution_count": null
  },
  {
   "metadata": {},
   "cell_type": "code",
   "source": [
    "cnn_v2.build(input_shape=(None, 32, 32, 1))\n",
    "cnn_v2.compile(\n",
    "    optimizer=tf.keras.optimizers.Adam(learning_rate=1e-2),\n",
    "    loss='sparse_categorical_crossentropy',\n",
    "    metrics=['accuracy']\n",
    ")"
   ],
   "id": "7584b7cb927460af",
   "outputs": [],
   "execution_count": null
  },
  {
   "metadata": {},
   "cell_type": "code",
   "source": [
    "cnn_v3.build(input_shape=(None, 32, 32, 1))\n",
    "cnn_v3.compile(\n",
    "    optimizer=tf.keras.optimizers.Adam(learning_rate=1e-2),\n",
    "    loss='sparse_categorical_crossentropy',\n",
    "    metrics=['accuracy']\n",
    ")"
   ],
   "id": "a21e3c7a480dbbfc",
   "outputs": [],
   "execution_count": null
  },
  {
   "metadata": {},
   "cell_type": "code",
   "source": "cnn_v1.summary()",
   "id": "6941e8752f8b18d1",
   "outputs": [],
   "execution_count": null
  },
  {
   "metadata": {},
   "cell_type": "code",
   "source": "cnn_v1_1.summary()",
   "id": "72d727a49eebe4ba",
   "outputs": [],
   "execution_count": null
  },
  {
   "metadata": {},
   "cell_type": "code",
   "source": "cnn_v2.summary()",
   "id": "c0b1db9f258dd19f",
   "outputs": [],
   "execution_count": null
  },
  {
   "metadata": {
    "ExecuteTime": {
     "end_time": "2025-08-04T21:35:23.726897Z",
     "start_time": "2025-08-04T21:35:23.676555Z"
    }
   },
   "cell_type": "code",
   "source": "cnn_v3.summary()",
   "id": "59e6f23bd7a6a2fa",
   "outputs": [
    {
     "data": {
      "text/plain": [
       "\u001B[1mModel: \"sequential\"\u001B[0m\n"
      ],
      "text/html": [
       "<pre style=\"white-space:pre;overflow-x:auto;line-height:normal;font-family:Menlo,'DejaVu Sans Mono',consolas,'Courier New',monospace\"><span style=\"font-weight: bold\">Model: \"sequential\"</span>\n",
       "</pre>\n"
      ]
     },
     "metadata": {},
     "output_type": "display_data"
    },
    {
     "data": {
      "text/plain": [
       "┏━━━━━━━━━━━━━━━━━━━━━━━━━━━━━━━━━┳━━━━━━━━━━━━━━━━━━━━━━━━┳━━━━━━━━━━━━━━━┓\n",
       "┃\u001B[1m \u001B[0m\u001B[1mLayer (type)                   \u001B[0m\u001B[1m \u001B[0m┃\u001B[1m \u001B[0m\u001B[1mOutput Shape          \u001B[0m\u001B[1m \u001B[0m┃\u001B[1m \u001B[0m\u001B[1m      Param #\u001B[0m\u001B[1m \u001B[0m┃\n",
       "┡━━━━━━━━━━━━━━━━━━━━━━━━━━━━━━━━━╇━━━━━━━━━━━━━━━━━━━━━━━━╇━━━━━━━━━━━━━━━┩\n",
       "│ conv_1a (\u001B[38;5;33mConv2D\u001B[0m)                │ (\u001B[38;5;45mNone\u001B[0m, \u001B[38;5;34m32\u001B[0m, \u001B[38;5;34m32\u001B[0m, \u001B[38;5;34m32\u001B[0m)     │           \u001B[38;5;34m320\u001B[0m │\n",
       "├─────────────────────────────────┼────────────────────────┼───────────────┤\n",
       "│ conv_1b (\u001B[38;5;33mConv2D\u001B[0m)                │ (\u001B[38;5;45mNone\u001B[0m, \u001B[38;5;34m32\u001B[0m, \u001B[38;5;34m32\u001B[0m, \u001B[38;5;34m32\u001B[0m)     │         \u001B[38;5;34m9,248\u001B[0m │\n",
       "├─────────────────────────────────┼────────────────────────┼───────────────┤\n",
       "│ max_pooling2d (\u001B[38;5;33mMaxPooling2D\u001B[0m)    │ (\u001B[38;5;45mNone\u001B[0m, \u001B[38;5;34m16\u001B[0m, \u001B[38;5;34m16\u001B[0m, \u001B[38;5;34m32\u001B[0m)     │             \u001B[38;5;34m0\u001B[0m │\n",
       "├─────────────────────────────────┼────────────────────────┼───────────────┤\n",
       "│ dropout (\u001B[38;5;33mDropout\u001B[0m)               │ (\u001B[38;5;45mNone\u001B[0m, \u001B[38;5;34m16\u001B[0m, \u001B[38;5;34m16\u001B[0m, \u001B[38;5;34m32\u001B[0m)     │             \u001B[38;5;34m0\u001B[0m │\n",
       "├─────────────────────────────────┼────────────────────────┼───────────────┤\n",
       "│ conv_2a (\u001B[38;5;33mConv2D\u001B[0m)                │ (\u001B[38;5;45mNone\u001B[0m, \u001B[38;5;34m16\u001B[0m, \u001B[38;5;34m16\u001B[0m, \u001B[38;5;34m64\u001B[0m)     │        \u001B[38;5;34m18,496\u001B[0m │\n",
       "├─────────────────────────────────┼────────────────────────┼───────────────┤\n",
       "│ conv_2b (\u001B[38;5;33mConv2D\u001B[0m)                │ (\u001B[38;5;45mNone\u001B[0m, \u001B[38;5;34m16\u001B[0m, \u001B[38;5;34m16\u001B[0m, \u001B[38;5;34m64\u001B[0m)     │        \u001B[38;5;34m36,928\u001B[0m │\n",
       "├─────────────────────────────────┼────────────────────────┼───────────────┤\n",
       "│ max_pooling2d_1 (\u001B[38;5;33mMaxPooling2D\u001B[0m)  │ (\u001B[38;5;45mNone\u001B[0m, \u001B[38;5;34m8\u001B[0m, \u001B[38;5;34m8\u001B[0m, \u001B[38;5;34m64\u001B[0m)       │             \u001B[38;5;34m0\u001B[0m │\n",
       "├─────────────────────────────────┼────────────────────────┼───────────────┤\n",
       "│ dropout_1 (\u001B[38;5;33mDropout\u001B[0m)             │ (\u001B[38;5;45mNone\u001B[0m, \u001B[38;5;34m8\u001B[0m, \u001B[38;5;34m8\u001B[0m, \u001B[38;5;34m64\u001B[0m)       │             \u001B[38;5;34m0\u001B[0m │\n",
       "├─────────────────────────────────┼────────────────────────┼───────────────┤\n",
       "│ conv_3a (\u001B[38;5;33mConv2D\u001B[0m)                │ (\u001B[38;5;45mNone\u001B[0m, \u001B[38;5;34m8\u001B[0m, \u001B[38;5;34m8\u001B[0m, \u001B[38;5;34m128\u001B[0m)      │        \u001B[38;5;34m73,856\u001B[0m │\n",
       "├─────────────────────────────────┼────────────────────────┼───────────────┤\n",
       "│ conv_3b (\u001B[38;5;33mConv2D\u001B[0m)                │ (\u001B[38;5;45mNone\u001B[0m, \u001B[38;5;34m8\u001B[0m, \u001B[38;5;34m8\u001B[0m, \u001B[38;5;34m128\u001B[0m)      │       \u001B[38;5;34m147,584\u001B[0m │\n",
       "├─────────────────────────────────┼────────────────────────┼───────────────┤\n",
       "│ max_pooling2d_2 (\u001B[38;5;33mMaxPooling2D\u001B[0m)  │ (\u001B[38;5;45mNone\u001B[0m, \u001B[38;5;34m4\u001B[0m, \u001B[38;5;34m4\u001B[0m, \u001B[38;5;34m128\u001B[0m)      │             \u001B[38;5;34m0\u001B[0m │\n",
       "├─────────────────────────────────┼────────────────────────┼───────────────┤\n",
       "│ flatten (\u001B[38;5;33mFlatten\u001B[0m)               │ (\u001B[38;5;45mNone\u001B[0m, \u001B[38;5;34m2048\u001B[0m)           │             \u001B[38;5;34m0\u001B[0m │\n",
       "├─────────────────────────────────┼────────────────────────┼───────────────┤\n",
       "│ dense (\u001B[38;5;33mDense\u001B[0m)                   │ (\u001B[38;5;45mNone\u001B[0m, \u001B[38;5;34m512\u001B[0m)            │     \u001B[38;5;34m1,049,088\u001B[0m │\n",
       "├─────────────────────────────────┼────────────────────────┼───────────────┤\n",
       "│ dropout_2 (\u001B[38;5;33mDropout\u001B[0m)             │ (\u001B[38;5;45mNone\u001B[0m, \u001B[38;5;34m512\u001B[0m)            │             \u001B[38;5;34m0\u001B[0m │\n",
       "├─────────────────────────────────┼────────────────────────┼───────────────┤\n",
       "│ dense_1 (\u001B[38;5;33mDense\u001B[0m)                 │ (\u001B[38;5;45mNone\u001B[0m, \u001B[38;5;34m256\u001B[0m)            │       \u001B[38;5;34m131,328\u001B[0m │\n",
       "├─────────────────────────────────┼────────────────────────┼───────────────┤\n",
       "│ dropout_3 (\u001B[38;5;33mDropout\u001B[0m)             │ (\u001B[38;5;45mNone\u001B[0m, \u001B[38;5;34m256\u001B[0m)            │             \u001B[38;5;34m0\u001B[0m │\n",
       "├─────────────────────────────────┼────────────────────────┼───────────────┤\n",
       "│ dense_2 (\u001B[38;5;33mDense\u001B[0m)                 │ (\u001B[38;5;45mNone\u001B[0m, \u001B[38;5;34m4\u001B[0m)              │         \u001B[38;5;34m1,028\u001B[0m │\n",
       "└─────────────────────────────────┴────────────────────────┴───────────────┘\n"
      ],
      "text/html": [
       "<pre style=\"white-space:pre;overflow-x:auto;line-height:normal;font-family:Menlo,'DejaVu Sans Mono',consolas,'Courier New',monospace\">┏━━━━━━━━━━━━━━━━━━━━━━━━━━━━━━━━━┳━━━━━━━━━━━━━━━━━━━━━━━━┳━━━━━━━━━━━━━━━┓\n",
       "┃<span style=\"font-weight: bold\"> Layer (type)                    </span>┃<span style=\"font-weight: bold\"> Output Shape           </span>┃<span style=\"font-weight: bold\">       Param # </span>┃\n",
       "┡━━━━━━━━━━━━━━━━━━━━━━━━━━━━━━━━━╇━━━━━━━━━━━━━━━━━━━━━━━━╇━━━━━━━━━━━━━━━┩\n",
       "│ conv_1a (<span style=\"color: #0087ff; text-decoration-color: #0087ff\">Conv2D</span>)                │ (<span style=\"color: #00d7ff; text-decoration-color: #00d7ff\">None</span>, <span style=\"color: #00af00; text-decoration-color: #00af00\">32</span>, <span style=\"color: #00af00; text-decoration-color: #00af00\">32</span>, <span style=\"color: #00af00; text-decoration-color: #00af00\">32</span>)     │           <span style=\"color: #00af00; text-decoration-color: #00af00\">320</span> │\n",
       "├─────────────────────────────────┼────────────────────────┼───────────────┤\n",
       "│ conv_1b (<span style=\"color: #0087ff; text-decoration-color: #0087ff\">Conv2D</span>)                │ (<span style=\"color: #00d7ff; text-decoration-color: #00d7ff\">None</span>, <span style=\"color: #00af00; text-decoration-color: #00af00\">32</span>, <span style=\"color: #00af00; text-decoration-color: #00af00\">32</span>, <span style=\"color: #00af00; text-decoration-color: #00af00\">32</span>)     │         <span style=\"color: #00af00; text-decoration-color: #00af00\">9,248</span> │\n",
       "├─────────────────────────────────┼────────────────────────┼───────────────┤\n",
       "│ max_pooling2d (<span style=\"color: #0087ff; text-decoration-color: #0087ff\">MaxPooling2D</span>)    │ (<span style=\"color: #00d7ff; text-decoration-color: #00d7ff\">None</span>, <span style=\"color: #00af00; text-decoration-color: #00af00\">16</span>, <span style=\"color: #00af00; text-decoration-color: #00af00\">16</span>, <span style=\"color: #00af00; text-decoration-color: #00af00\">32</span>)     │             <span style=\"color: #00af00; text-decoration-color: #00af00\">0</span> │\n",
       "├─────────────────────────────────┼────────────────────────┼───────────────┤\n",
       "│ dropout (<span style=\"color: #0087ff; text-decoration-color: #0087ff\">Dropout</span>)               │ (<span style=\"color: #00d7ff; text-decoration-color: #00d7ff\">None</span>, <span style=\"color: #00af00; text-decoration-color: #00af00\">16</span>, <span style=\"color: #00af00; text-decoration-color: #00af00\">16</span>, <span style=\"color: #00af00; text-decoration-color: #00af00\">32</span>)     │             <span style=\"color: #00af00; text-decoration-color: #00af00\">0</span> │\n",
       "├─────────────────────────────────┼────────────────────────┼───────────────┤\n",
       "│ conv_2a (<span style=\"color: #0087ff; text-decoration-color: #0087ff\">Conv2D</span>)                │ (<span style=\"color: #00d7ff; text-decoration-color: #00d7ff\">None</span>, <span style=\"color: #00af00; text-decoration-color: #00af00\">16</span>, <span style=\"color: #00af00; text-decoration-color: #00af00\">16</span>, <span style=\"color: #00af00; text-decoration-color: #00af00\">64</span>)     │        <span style=\"color: #00af00; text-decoration-color: #00af00\">18,496</span> │\n",
       "├─────────────────────────────────┼────────────────────────┼───────────────┤\n",
       "│ conv_2b (<span style=\"color: #0087ff; text-decoration-color: #0087ff\">Conv2D</span>)                │ (<span style=\"color: #00d7ff; text-decoration-color: #00d7ff\">None</span>, <span style=\"color: #00af00; text-decoration-color: #00af00\">16</span>, <span style=\"color: #00af00; text-decoration-color: #00af00\">16</span>, <span style=\"color: #00af00; text-decoration-color: #00af00\">64</span>)     │        <span style=\"color: #00af00; text-decoration-color: #00af00\">36,928</span> │\n",
       "├─────────────────────────────────┼────────────────────────┼───────────────┤\n",
       "│ max_pooling2d_1 (<span style=\"color: #0087ff; text-decoration-color: #0087ff\">MaxPooling2D</span>)  │ (<span style=\"color: #00d7ff; text-decoration-color: #00d7ff\">None</span>, <span style=\"color: #00af00; text-decoration-color: #00af00\">8</span>, <span style=\"color: #00af00; text-decoration-color: #00af00\">8</span>, <span style=\"color: #00af00; text-decoration-color: #00af00\">64</span>)       │             <span style=\"color: #00af00; text-decoration-color: #00af00\">0</span> │\n",
       "├─────────────────────────────────┼────────────────────────┼───────────────┤\n",
       "│ dropout_1 (<span style=\"color: #0087ff; text-decoration-color: #0087ff\">Dropout</span>)             │ (<span style=\"color: #00d7ff; text-decoration-color: #00d7ff\">None</span>, <span style=\"color: #00af00; text-decoration-color: #00af00\">8</span>, <span style=\"color: #00af00; text-decoration-color: #00af00\">8</span>, <span style=\"color: #00af00; text-decoration-color: #00af00\">64</span>)       │             <span style=\"color: #00af00; text-decoration-color: #00af00\">0</span> │\n",
       "├─────────────────────────────────┼────────────────────────┼───────────────┤\n",
       "│ conv_3a (<span style=\"color: #0087ff; text-decoration-color: #0087ff\">Conv2D</span>)                │ (<span style=\"color: #00d7ff; text-decoration-color: #00d7ff\">None</span>, <span style=\"color: #00af00; text-decoration-color: #00af00\">8</span>, <span style=\"color: #00af00; text-decoration-color: #00af00\">8</span>, <span style=\"color: #00af00; text-decoration-color: #00af00\">128</span>)      │        <span style=\"color: #00af00; text-decoration-color: #00af00\">73,856</span> │\n",
       "├─────────────────────────────────┼────────────────────────┼───────────────┤\n",
       "│ conv_3b (<span style=\"color: #0087ff; text-decoration-color: #0087ff\">Conv2D</span>)                │ (<span style=\"color: #00d7ff; text-decoration-color: #00d7ff\">None</span>, <span style=\"color: #00af00; text-decoration-color: #00af00\">8</span>, <span style=\"color: #00af00; text-decoration-color: #00af00\">8</span>, <span style=\"color: #00af00; text-decoration-color: #00af00\">128</span>)      │       <span style=\"color: #00af00; text-decoration-color: #00af00\">147,584</span> │\n",
       "├─────────────────────────────────┼────────────────────────┼───────────────┤\n",
       "│ max_pooling2d_2 (<span style=\"color: #0087ff; text-decoration-color: #0087ff\">MaxPooling2D</span>)  │ (<span style=\"color: #00d7ff; text-decoration-color: #00d7ff\">None</span>, <span style=\"color: #00af00; text-decoration-color: #00af00\">4</span>, <span style=\"color: #00af00; text-decoration-color: #00af00\">4</span>, <span style=\"color: #00af00; text-decoration-color: #00af00\">128</span>)      │             <span style=\"color: #00af00; text-decoration-color: #00af00\">0</span> │\n",
       "├─────────────────────────────────┼────────────────────────┼───────────────┤\n",
       "│ flatten (<span style=\"color: #0087ff; text-decoration-color: #0087ff\">Flatten</span>)               │ (<span style=\"color: #00d7ff; text-decoration-color: #00d7ff\">None</span>, <span style=\"color: #00af00; text-decoration-color: #00af00\">2048</span>)           │             <span style=\"color: #00af00; text-decoration-color: #00af00\">0</span> │\n",
       "├─────────────────────────────────┼────────────────────────┼───────────────┤\n",
       "│ dense (<span style=\"color: #0087ff; text-decoration-color: #0087ff\">Dense</span>)                   │ (<span style=\"color: #00d7ff; text-decoration-color: #00d7ff\">None</span>, <span style=\"color: #00af00; text-decoration-color: #00af00\">512</span>)            │     <span style=\"color: #00af00; text-decoration-color: #00af00\">1,049,088</span> │\n",
       "├─────────────────────────────────┼────────────────────────┼───────────────┤\n",
       "│ dropout_2 (<span style=\"color: #0087ff; text-decoration-color: #0087ff\">Dropout</span>)             │ (<span style=\"color: #00d7ff; text-decoration-color: #00d7ff\">None</span>, <span style=\"color: #00af00; text-decoration-color: #00af00\">512</span>)            │             <span style=\"color: #00af00; text-decoration-color: #00af00\">0</span> │\n",
       "├─────────────────────────────────┼────────────────────────┼───────────────┤\n",
       "│ dense_1 (<span style=\"color: #0087ff; text-decoration-color: #0087ff\">Dense</span>)                 │ (<span style=\"color: #00d7ff; text-decoration-color: #00d7ff\">None</span>, <span style=\"color: #00af00; text-decoration-color: #00af00\">256</span>)            │       <span style=\"color: #00af00; text-decoration-color: #00af00\">131,328</span> │\n",
       "├─────────────────────────────────┼────────────────────────┼───────────────┤\n",
       "│ dropout_3 (<span style=\"color: #0087ff; text-decoration-color: #0087ff\">Dropout</span>)             │ (<span style=\"color: #00d7ff; text-decoration-color: #00d7ff\">None</span>, <span style=\"color: #00af00; text-decoration-color: #00af00\">256</span>)            │             <span style=\"color: #00af00; text-decoration-color: #00af00\">0</span> │\n",
       "├─────────────────────────────────┼────────────────────────┼───────────────┤\n",
       "│ dense_2 (<span style=\"color: #0087ff; text-decoration-color: #0087ff\">Dense</span>)                 │ (<span style=\"color: #00d7ff; text-decoration-color: #00d7ff\">None</span>, <span style=\"color: #00af00; text-decoration-color: #00af00\">4</span>)              │         <span style=\"color: #00af00; text-decoration-color: #00af00\">1,028</span> │\n",
       "└─────────────────────────────────┴────────────────────────┴───────────────┘\n",
       "</pre>\n"
      ]
     },
     "metadata": {},
     "output_type": "display_data"
    },
    {
     "data": {
      "text/plain": [
       "\u001B[1m Total params: \u001B[0m\u001B[38;5;34m4,403,630\u001B[0m (16.80 MB)\n"
      ],
      "text/html": [
       "<pre style=\"white-space:pre;overflow-x:auto;line-height:normal;font-family:Menlo,'DejaVu Sans Mono',consolas,'Courier New',monospace\"><span style=\"font-weight: bold\"> Total params: </span><span style=\"color: #00af00; text-decoration-color: #00af00\">4,403,630</span> (16.80 MB)\n",
       "</pre>\n"
      ]
     },
     "metadata": {},
     "output_type": "display_data"
    },
    {
     "data": {
      "text/plain": [
       "\u001B[1m Trainable params: \u001B[0m\u001B[38;5;34m1,467,876\u001B[0m (5.60 MB)\n"
      ],
      "text/html": [
       "<pre style=\"white-space:pre;overflow-x:auto;line-height:normal;font-family:Menlo,'DejaVu Sans Mono',consolas,'Courier New',monospace\"><span style=\"font-weight: bold\"> Trainable params: </span><span style=\"color: #00af00; text-decoration-color: #00af00\">1,467,876</span> (5.60 MB)\n",
       "</pre>\n"
      ]
     },
     "metadata": {},
     "output_type": "display_data"
    },
    {
     "data": {
      "text/plain": [
       "\u001B[1m Non-trainable params: \u001B[0m\u001B[38;5;34m0\u001B[0m (0.00 B)\n"
      ],
      "text/html": [
       "<pre style=\"white-space:pre;overflow-x:auto;line-height:normal;font-family:Menlo,'DejaVu Sans Mono',consolas,'Courier New',monospace\"><span style=\"font-weight: bold\"> Non-trainable params: </span><span style=\"color: #00af00; text-decoration-color: #00af00\">0</span> (0.00 B)\n",
       "</pre>\n"
      ]
     },
     "metadata": {},
     "output_type": "display_data"
    },
    {
     "data": {
      "text/plain": [
       "\u001B[1m Optimizer params: \u001B[0m\u001B[38;5;34m2,935,754\u001B[0m (11.20 MB)\n"
      ],
      "text/html": [
       "<pre style=\"white-space:pre;overflow-x:auto;line-height:normal;font-family:Menlo,'DejaVu Sans Mono',consolas,'Courier New',monospace\"><span style=\"font-weight: bold\"> Optimizer params: </span><span style=\"color: #00af00; text-decoration-color: #00af00\">2,935,754</span> (11.20 MB)\n",
       "</pre>\n"
      ]
     },
     "metadata": {},
     "output_type": "display_data"
    }
   ],
   "execution_count": 18
  },
  {
   "metadata": {},
   "cell_type": "code",
   "source": [
    "cnn_v1_history = cnn_v1.fit(train_images, transformed_train_labels, epochs=25, validation_data=(val_images, transformed_val_labels),callbacks=[early_stopping],class_weight=class_weight_dict)\n",
    "train_loss, train_acc = cnn_v1.evaluate(train_images, transformed_train_labels,verbose=1)\n",
    "print(f'Train loss: {train_loss}, Train accuracy: {train_acc}')\n",
    "\n",
    "val_loss, val_acc = cnn_v1.evaluate(val_images, transformed_val_labels,verbose=1)\n",
    "print(f'Validation loss: {val_loss}, Validation accuracy: {val_acc}')"
   ],
   "id": "9f83816b24f85af4",
   "outputs": [],
   "execution_count": null
  },
  {
   "metadata": {},
   "cell_type": "code",
   "source": [
    "cnn_v1_1_history = cnn_v1_1.fit(train_images, transformed_train_labels, epochs=25, validation_data=(val_images, transformed_val_labels),callbacks=[early_stopping],class_weight=class_weight_dict)\n",
    "train_loss, train_acc = cnn_v1_1.evaluate(train_images, transformed_train_labels,verbose=1)\n",
    "print(f'Train loss: {train_loss}, Train accuracy: {train_acc}')\n",
    "\n",
    "val_loss, val_acc = cnn_v1_1.evaluate(val_images, transformed_val_labels,verbose=1)\n",
    "print(f'Validation loss: {val_loss}, Validation accuracy: {val_acc}')"
   ],
   "id": "2a18804790c255ac",
   "outputs": [],
   "execution_count": null
  },
  {
   "metadata": {},
   "cell_type": "code",
   "source": [
    "cnn_v2_history = cnn_v2.fit(train_images, transformed_train_labels, epochs=25, validation_data=(val_images, transformed_val_labels),callbacks=[early_stopping],class_weight=class_weight_dict)\n",
    "train_loss, train_acc = cnn_v2.evaluate(train_images, transformed_train_labels,verbose=1)\n",
    "print(f'Train loss: {train_loss}, Train accuracy: {train_acc}')\n",
    "\n",
    "val_loss, val_acc = cnn_v2.evaluate(val_images, transformed_val_labels,verbose=1)\n",
    "print(f'Validation loss: {val_loss}, Validation accuracy: {val_acc}')"
   ],
   "id": "445f634c37074f6b",
   "outputs": [],
   "execution_count": null
  },
  {
   "metadata": {},
   "cell_type": "code",
   "source": [
    "cnn_v3_history = cnn_v3.fit(train_images, transformed_train_labels, epochs=25, validation_data=(val_images, transformed_val_labels),callbacks=[early_stopping],class_weight=class_weight_dict)\n",
    "train_loss, train_acc = cnn_v3.evaluate(train_images, transformed_train_labels,verbose=1)\n",
    "print(f'Train loss: {train_loss}, Train accuracy: {train_acc}')\n",
    "\n",
    "val_loss, val_acc = cnn_v3.evaluate(val_images, transformed_val_labels,verbose=1)\n",
    "print(f'Validation loss: {val_loss}, Validation accuracy: {val_acc}')\n"
   ],
   "id": "128a653cd5ddb8cc",
   "outputs": [],
   "execution_count": null
  },
  {
   "metadata": {},
   "cell_type": "code",
   "source": [
    "test_loss, test_acc = cnn_v1.evaluate(test_images, transformed_test_labels,verbose=1)\n",
    "print(f'Test loss: {test_loss}, Test accuracy: {test_acc}')"
   ],
   "id": "a75b065ae9927ebb",
   "outputs": [],
   "execution_count": null
  },
  {
   "metadata": {},
   "cell_type": "code",
   "source": [
    "test_loss, test_acc = cnn_v1_1.evaluate(test_images, transformed_test_labels,verbose=1)\n",
    "print(f'Test loss: {test_loss}, Test accuracy: {test_acc}')"
   ],
   "id": "b8adfc2342d00321",
   "outputs": [],
   "execution_count": null
  },
  {
   "metadata": {},
   "cell_type": "code",
   "source": [
    "test_loss, test_acc = cnn_v2.evaluate(test_images, transformed_test_labels,verbose=1)\n",
    "print(f'Test loss: {test_loss}, Test accuracy: {test_acc}')"
   ],
   "id": "25a7afbca677dba0",
   "outputs": [],
   "execution_count": null
  },
  {
   "metadata": {},
   "cell_type": "code",
   "source": [
    "test_loss, test_acc = cnn_v3.evaluate(test_images, transformed_test_labels,verbose=1)\n",
    "print(f'Test loss: {test_loss}, Test accuracy: {test_acc}')"
   ],
   "id": "5cf3dc42002d1cb4",
   "outputs": [],
   "execution_count": null
  },
  {
   "metadata": {},
   "cell_type": "code",
   "source": [
    "from sklearn.metrics import classification_report\n",
    "\n",
    "y_pred = cnn_v1.predict(val_images)\n",
    "y_pred_classes_1 = np.argmax(y_pred, axis=1)\n",
    "print(classification_report(transformed_val_labels, y_pred_classes_1))"
   ],
   "id": "7940771f6d1d229c",
   "outputs": [],
   "execution_count": null
  },
  {
   "metadata": {},
   "cell_type": "code",
   "source": [
    "from sklearn.metrics import classification_report\n",
    "\n",
    "y_pred = cnn_v2.predict(val_images)\n",
    "y_pred_classes_2 = np.argmax(y_pred, axis=1)\n",
    "print(classification_report(transformed_val_labels, y_pred_classes_2))"
   ],
   "id": "7cfcf18b3decac52",
   "outputs": [],
   "execution_count": null
  },
  {
   "metadata": {},
   "cell_type": "code",
   "source": [
    "from sklearn.metrics import classification_report\n",
    "\n",
    "y_pred = cnn_v3.predict(val_images)\n",
    "y_pred_classes_3 = np.argmax(y_pred, axis=1)\n",
    "print(classification_report(transformed_val_labels, y_pred_classes_3))"
   ],
   "id": "6fbd0a712aa309bc",
   "outputs": [],
   "execution_count": null
  },
  {
   "metadata": {},
   "cell_type": "code",
   "source": [
    "from sklearn.metrics import classification_report\n",
    "\n",
    "y_pred = cnn_v2.predict(test_images)\n",
    "y_pred_classes = np.argmax(y_pred, axis=1)\n",
    "print(classification_report(transformed_test_labels, y_pred_classes))"
   ],
   "id": "21b9bf85ab4892df",
   "outputs": [],
   "execution_count": null
  },
  {
   "metadata": {},
   "cell_type": "code",
   "source": [
    "from sklearn.metrics import confusion_matrix\n",
    "import seaborn as sns\n",
    "import matplotlib.pyplot as plt\n",
    "import numpy as np\n",
    "\n",
    "# Generate confusion matrix\n",
    "cm = confusion_matrix(transformed_val_labels, y_pred_classes_1)\n",
    "\n",
    "# Get class names from the label encoder\n",
    "class_names = le.classes_\n",
    "\n",
    "# Plot the confusion matrix\n",
    "plt.figure(figsize=(8, 6))\n",
    "sns.heatmap(cm, annot=True, fmt='d', cmap='Blues', xticklabels=class_names, yticklabels=class_names)\n",
    "plt.xlabel('Predicted Label')\n",
    "plt.ylabel('True Label')\n",
    "plt.title('Confusion Matrix')\n",
    "plt.show()\n"
   ],
   "id": "c01dc207eddaba20",
   "outputs": [],
   "execution_count": null
  },
  {
   "metadata": {},
   "cell_type": "code",
   "source": [
    "from sklearn.metrics import confusion_matrix\n",
    "import seaborn as sns\n",
    "import matplotlib.pyplot as plt\n",
    "import numpy as np\n",
    "\n",
    "# Generate confusion matrix\n",
    "cm = confusion_matrix(transformed_val_labels, y_pred_classes_2)\n",
    "\n",
    "# Get class names from the label encoder\n",
    "class_names = le.classes_\n",
    "\n",
    "# Plot the confusion matrix\n",
    "plt.figure(figsize=(8, 6))\n",
    "sns.heatmap(cm, annot=True, fmt='d', cmap='Blues', xticklabels=class_names, yticklabels=class_names)\n",
    "plt.xlabel('Predicted Label')\n",
    "plt.ylabel('True Label')\n",
    "plt.title('Confusion Matrix')\n",
    "plt.show()\n"
   ],
   "id": "fb32eb2a6d74752d",
   "outputs": [],
   "execution_count": null
  },
  {
   "metadata": {},
   "cell_type": "code",
   "source": [
    "from sklearn.metrics import confusion_matrix\n",
    "import seaborn as sns\n",
    "import matplotlib.pyplot as plt\n",
    "import numpy as np\n",
    "\n",
    "# Generate confusion matrix\n",
    "cm = confusion_matrix(transformed_val_labels, y_pred_classes_3)\n",
    "\n",
    "# Get class names from the label encoder\n",
    "class_names = le.classes_\n",
    "\n",
    "# Plot the confusion matrix\n",
    "plt.figure(figsize=(8, 6))\n",
    "sns.heatmap(cm, annot=True, fmt='d', cmap='Blues', xticklabels=class_names, yticklabels=class_names)\n",
    "plt.xlabel('Predicted Label')\n",
    "plt.ylabel('True Label')\n",
    "plt.title('Confusion Matrix')\n",
    "plt.show()\n"
   ],
   "id": "bd0ace16d3390d7d",
   "outputs": [],
   "execution_count": null
  },
  {
   "metadata": {},
   "cell_type": "code",
   "source": [
    "cnn_feature_extractor = tf.keras.Model(inputs=cnn_v2.inputs, outputs=cnn_v2.get_layer('dense_1').output)\n",
    "train_cnn_features = cnn_feature_extractor.predict(train_images)\n",
    "train_cnn_features = train_cnn_features.reshape(train_cnn_features.shape[0], -1)\n",
    "val_cnn_features = cnn_feature_extractor.predict(val_images)\n",
    "val_cnn_features = val_cnn_features.reshape(val_cnn_features.shape[0], -1)\n",
    "test_cnn_features = cnn_feature_extractor.predict(test_images)\n",
    "test_cnn_features = test_cnn_features.reshape(test_cnn_features.shape[0], -1)"
   ],
   "id": "df75f43200d99c13",
   "outputs": [],
   "execution_count": null
  },
  {
   "metadata": {},
   "cell_type": "code",
   "source": [
    "print(train_cnn_features.shape)\n",
    "print(val_cnn_features.shape)\n",
    "print(test_cnn_features.shape)"
   ],
   "id": "77777fa698e43a21",
   "outputs": [],
   "execution_count": null
  },
  {
   "metadata": {},
   "cell_type": "code",
   "source": [
    "print(train_images.shape)\n",
    "raw_features_shape = train_images[:,:,:,0].shape[1] * train_images.shape[2] * train_images.shape[3]\n",
    "print(f'Total number of features used for Decision Forests: {raw_features_shape}')"
   ],
   "id": "39325ffb09843fde",
   "outputs": [],
   "execution_count": null
  },
  {
   "metadata": {},
   "cell_type": "code",
   "source": [
    "X_train_rf = train_images.reshape(train_images.shape[0],raw_features_shape)\n",
    "X_val_rf = val_images.reshape(val_images.shape[0],raw_features_shape)\n",
    "X_test_rf = test_images.reshape(test_images.shape[0],raw_features_shape)\n",
    "\n",
    "print(f'Shape of training, val, test images: {X_train_rf.shape}, {X_val_rf.shape}, {X_test_rf.shape}')"
   ],
   "id": "57aeef7d136460a2",
   "outputs": [],
   "execution_count": null
  },
  {
   "metadata": {},
   "cell_type": "code",
   "source": [
    "from sklearn.ensemble import RandomForestClassifier\n",
    "from sklearn.metrics import accuracy_score\n",
    "random_forest_model = RandomForestClassifier(n_estimators=100,max_features='sqrt',max_depth=8,class_weight='balanced',random_state=42)\n",
    "rf_history = random_forest_model.fit(X_train_rf, transformed_train_labels)\n",
    "\n",
    "rf_train_pred = rf_history.predict(X_train_rf)\n",
    "print(f'Train accuracy: {accuracy_score(transformed_train_labels, rf_train_pred)}')\n",
    "\n",
    "rf_val_pred = rf_history.predict(X_val_rf)\n",
    "print(f'Validation accuracy: {accuracy_score(transformed_val_labels, rf_val_pred)}')\n",
    "\n",
    "rf_test_pred = rf_history.predict(X_test_rf)\n",
    "print(f'Test accuracy: {accuracy_score(transformed_test_labels, rf_test_pred)}')"
   ],
   "id": "a3473eefdd2a4d54",
   "outputs": [],
   "execution_count": null
  },
  {
   "metadata": {},
   "cell_type": "code",
   "source": [
    "# Implementation of RF-CNN model\n",
    "random_forest_model_1 = RandomForestClassifier(n_estimators=100,max_features='sqrt',max_depth=8,class_weight='balanced',random_state=42)\n",
    "rf_history = random_forest_model_1.fit(train_cnn_features, transformed_train_labels)\n",
    "\n",
    "rf_cnn_train_pred = rf_history.predict(train_cnn_features)\n",
    "print(f'Train accuracy: {accuracy_score(transformed_train_labels, rf_cnn_train_pred)}')\n",
    "\n",
    "rf_cnn_val_pred = rf_history.predict(val_cnn_features)\n",
    "print(f'Validation accuracy: {accuracy_score(transformed_val_labels, rf_cnn_val_pred)}')\n",
    "\n",
    "rf_test_pred = rf_history.predict(test_cnn_features)\n",
    "print(f'Test accuracy: {accuracy_score(transformed_test_labels, rf_test_pred)}')"
   ],
   "id": "20008127f7e9141b",
   "outputs": [],
   "execution_count": null
  },
  {
   "metadata": {},
   "cell_type": "code",
   "source": [
    "cnn_train_acc = cnn_v2_history.history['accuracy']\n",
    "cnn_val_acc = cnn_v2_history.history['val_accuracy']\n",
    "\n",
    "plt.plot(cnn_train_acc, label='Train_accuracy')\n",
    "plt.plot(cnn_val_acc, label='Val_accuracy')\n",
    "\n",
    "plt.ylabel('Accuracy')\n",
    "plt.xlabel('Train epochs')\n",
    "plt.legend()\n",
    "plt.show()"
   ],
   "id": "12d19bd4ec01f649",
   "outputs": [],
   "execution_count": null
  },
  {
   "metadata": {
    "ExecuteTime": {
     "end_time": "2025-08-04T19:03:37.938921Z",
     "start_time": "2025-08-04T19:03:37.930645Z"
    }
   },
   "cell_type": "code",
   "source": [
    "img_res=(32, 32, 32)\n",
    "train_image_data = loaded_train_data.reshape((len(loaded_train_data), img_res[0], img_res[1], img_res[2], 1))\n",
    "val_image_data = loaded_val_data.reshape((len(loaded_val_data), img_res[0], img_res[1], img_res[2], 1))\n",
    "test_image_data = loaded_test_data.reshape((len(loaded_test_data), img_res[0], img_res[1], img_res[2], 1))\n",
    "print(train_image_data.shape, val_image_data.shape,test_image_data.shape)"
   ],
   "id": "891b4cca0a6c667e",
   "outputs": [
    {
     "name": "stdout",
     "output_type": "stream",
     "text": [
      "(970, 32, 32, 32, 1) (33, 32, 32, 32, 1) (33, 32, 32, 32, 1)\n"
     ]
    }
   ],
   "execution_count": 13
  },
  {
   "metadata": {
    "ExecuteTime": {
     "end_time": "2025-08-04T19:15:45.988364Z",
     "start_time": "2025-08-04T19:03:41.501970Z"
    }
   },
   "cell_type": "code",
   "source": [
    "import matplotlib.pyplot as plt\n",
    "\n",
    "#Establish number of classes we need to predict\n",
    "classes = 4\n",
    "#Hyperparameters\n",
    "lr = 0.001\n",
    "# initialize model\n",
    "cnn_3D_v1 = tf.keras.Sequential()\n",
    "\n",
    "# add convolutional layer\n",
    "cnn_3D_v1.add(layers.Conv3D(\n",
    "  filters=32,\n",
    "  kernel_size=(3, 3, 3),\n",
    "  strides=(1, 1, 1),\n",
    "  padding='same',\n",
    "  data_format='channels_last',\n",
    "  name='conv_1a',\n",
    "  activation='relu'\n",
    "))\n",
    "\n",
    "cnn_3D_v1.add(layers.MaxPooling3D(pool_size=(2, 2, 2)))\n",
    "\n",
    "# add dropout layer\n",
    "cnn_3D_v1.add(layers.Dropout(rate=0.4))\n",
    "\n",
    "# add a flattening layer\n",
    "cnn_3D_v1.add(layers.Flatten())\n",
    "\n",
    "# add a Dense Layer\n",
    "cnn_3D_v1.add(layers.Dense(units=512, activation='relu'))\n",
    "\n",
    "# add the classification layer\n",
    "cnn_3D_v1.add(layers.Dense(units=classes, activation='softmax',kernel_regularizer=regularizers.l2(1e-4))) #4 classes (softmax for multi-class)\n",
    "\n",
    "# build and compile model\n",
    "cnn_3D_v1.build(input_shape=(None, 32, 32, 32, 1))\n",
    "cnn_3D_v1.compile(optimizer=tf.keras.optimizers.Adam(learning_rate=lr),\n",
    "              loss=tf.keras.losses.SparseCategoricalCrossentropy(), #Since we are using Sparse encodings (not One-Hot Dense....)\n",
    "              metrics=['accuracy'])\n",
    "\n",
    "# print model_tf summary\n",
    "cnn_3D_v1.summary()\n",
    "\n",
    "# train model_tf on (X_train, y_train) data\n",
    "print(train_image_data.shape, transformed_train_labels.shape,val_image_data.shape, transformed_val_labels.shape)\n",
    "cnn_3D_v1_history = cnn_3D_v1.fit(\n",
    "    train_image_data,\n",
    "    transformed_train_labels,\n",
    "    validation_data=(val_image_data, transformed_val_labels),\n",
    "    epochs=15,\n",
    "    callbacks=[early_stopping]\n",
    ")\n",
    "\n",
    "# plot loss curves\n",
    "\n",
    "plt.subplot(1, 2, 1)\n",
    "plt.plot(cnn_3D_v1_history.history['loss'])\n",
    "plt.plot(cnn_3D_v1_history.history['val_loss'])\n",
    "plt.title('Epochs v Loss')\n",
    "plt.ylabel('Loss')\n",
    "plt.xlabel('Epoch')\n",
    "plt.legend(['Train', 'Validation'], loc='upper left')\n",
    "\n",
    "plt.subplot(1, 2, 2)\n",
    "plt.plot(cnn_3D_v1_history.history['accuracy'])\n",
    "plt.plot(cnn_3D_v1_history.history['val_accuracy'])\n",
    "plt.title('Epochs v Accuracy')\n",
    "plt.ylabel('Accuracy')\n",
    "plt.xlabel('Epoch')\n",
    "plt.legend(['Train', 'Validation'], loc='upper left')\n",
    "plt.show()\n",
    "# evaluate the accuracy of model_tf on (X_train, y_train) and (X_val, y_val)\n",
    "train_loss, train_acc = cnn_3D_v1.evaluate(train_image_data, transformed_train_labels, verbose=1)\n",
    "val_loss, val_acc = cnn_3D_v1.evaluate(val_image_data, transformed_val_labels, verbose=1)\n",
    "\n",
    "print(f\"\\nTrain Accuracy: {train_acc:.2f}\")\n",
    "print(f\"Validation Accuracy: {val_acc:.2f}\")"
   ],
   "id": "daf4393b50456e10",
   "outputs": [
    {
     "data": {
      "text/plain": [
       "\u001B[1mModel: \"sequential_1\"\u001B[0m\n"
      ],
      "text/html": [
       "<pre style=\"white-space:pre;overflow-x:auto;line-height:normal;font-family:Menlo,'DejaVu Sans Mono',consolas,'Courier New',monospace\"><span style=\"font-weight: bold\">Model: \"sequential_1\"</span>\n",
       "</pre>\n"
      ]
     },
     "metadata": {},
     "output_type": "display_data"
    },
    {
     "data": {
      "text/plain": [
       "┏━━━━━━━━━━━━━━━━━━━━━━━━━━━━━━━━━┳━━━━━━━━━━━━━━━━━━━━━━━━┳━━━━━━━━━━━━━━━┓\n",
       "┃\u001B[1m \u001B[0m\u001B[1mLayer (type)                   \u001B[0m\u001B[1m \u001B[0m┃\u001B[1m \u001B[0m\u001B[1mOutput Shape          \u001B[0m\u001B[1m \u001B[0m┃\u001B[1m \u001B[0m\u001B[1m      Param #\u001B[0m\u001B[1m \u001B[0m┃\n",
       "┡━━━━━━━━━━━━━━━━━━━━━━━━━━━━━━━━━╇━━━━━━━━━━━━━━━━━━━━━━━━╇━━━━━━━━━━━━━━━┩\n",
       "│ conv_1a (\u001B[38;5;33mConv3D\u001B[0m)                │ (\u001B[38;5;45mNone\u001B[0m, \u001B[38;5;34m32\u001B[0m, \u001B[38;5;34m32\u001B[0m, \u001B[38;5;34m32\u001B[0m, \u001B[38;5;34m32\u001B[0m) │           \u001B[38;5;34m896\u001B[0m │\n",
       "├─────────────────────────────────┼────────────────────────┼───────────────┤\n",
       "│ max_pooling3d (\u001B[38;5;33mMaxPooling3D\u001B[0m)    │ (\u001B[38;5;45mNone\u001B[0m, \u001B[38;5;34m16\u001B[0m, \u001B[38;5;34m16\u001B[0m, \u001B[38;5;34m16\u001B[0m, \u001B[38;5;34m32\u001B[0m) │             \u001B[38;5;34m0\u001B[0m │\n",
       "├─────────────────────────────────┼────────────────────────┼───────────────┤\n",
       "│ dropout_4 (\u001B[38;5;33mDropout\u001B[0m)             │ (\u001B[38;5;45mNone\u001B[0m, \u001B[38;5;34m16\u001B[0m, \u001B[38;5;34m16\u001B[0m, \u001B[38;5;34m16\u001B[0m, \u001B[38;5;34m32\u001B[0m) │             \u001B[38;5;34m0\u001B[0m │\n",
       "├─────────────────────────────────┼────────────────────────┼───────────────┤\n",
       "│ flatten_1 (\u001B[38;5;33mFlatten\u001B[0m)             │ (\u001B[38;5;45mNone\u001B[0m, \u001B[38;5;34m131072\u001B[0m)         │             \u001B[38;5;34m0\u001B[0m │\n",
       "├─────────────────────────────────┼────────────────────────┼───────────────┤\n",
       "│ dense_3 (\u001B[38;5;33mDense\u001B[0m)                 │ (\u001B[38;5;45mNone\u001B[0m, \u001B[38;5;34m512\u001B[0m)            │    \u001B[38;5;34m67,109,376\u001B[0m │\n",
       "├─────────────────────────────────┼────────────────────────┼───────────────┤\n",
       "│ dense_4 (\u001B[38;5;33mDense\u001B[0m)                 │ (\u001B[38;5;45mNone\u001B[0m, \u001B[38;5;34m4\u001B[0m)              │         \u001B[38;5;34m2,052\u001B[0m │\n",
       "└─────────────────────────────────┴────────────────────────┴───────────────┘\n"
      ],
      "text/html": [
       "<pre style=\"white-space:pre;overflow-x:auto;line-height:normal;font-family:Menlo,'DejaVu Sans Mono',consolas,'Courier New',monospace\">┏━━━━━━━━━━━━━━━━━━━━━━━━━━━━━━━━━┳━━━━━━━━━━━━━━━━━━━━━━━━┳━━━━━━━━━━━━━━━┓\n",
       "┃<span style=\"font-weight: bold\"> Layer (type)                    </span>┃<span style=\"font-weight: bold\"> Output Shape           </span>┃<span style=\"font-weight: bold\">       Param # </span>┃\n",
       "┡━━━━━━━━━━━━━━━━━━━━━━━━━━━━━━━━━╇━━━━━━━━━━━━━━━━━━━━━━━━╇━━━━━━━━━━━━━━━┩\n",
       "│ conv_1a (<span style=\"color: #0087ff; text-decoration-color: #0087ff\">Conv3D</span>)                │ (<span style=\"color: #00d7ff; text-decoration-color: #00d7ff\">None</span>, <span style=\"color: #00af00; text-decoration-color: #00af00\">32</span>, <span style=\"color: #00af00; text-decoration-color: #00af00\">32</span>, <span style=\"color: #00af00; text-decoration-color: #00af00\">32</span>, <span style=\"color: #00af00; text-decoration-color: #00af00\">32</span>) │           <span style=\"color: #00af00; text-decoration-color: #00af00\">896</span> │\n",
       "├─────────────────────────────────┼────────────────────────┼───────────────┤\n",
       "│ max_pooling3d (<span style=\"color: #0087ff; text-decoration-color: #0087ff\">MaxPooling3D</span>)    │ (<span style=\"color: #00d7ff; text-decoration-color: #00d7ff\">None</span>, <span style=\"color: #00af00; text-decoration-color: #00af00\">16</span>, <span style=\"color: #00af00; text-decoration-color: #00af00\">16</span>, <span style=\"color: #00af00; text-decoration-color: #00af00\">16</span>, <span style=\"color: #00af00; text-decoration-color: #00af00\">32</span>) │             <span style=\"color: #00af00; text-decoration-color: #00af00\">0</span> │\n",
       "├─────────────────────────────────┼────────────────────────┼───────────────┤\n",
       "│ dropout_4 (<span style=\"color: #0087ff; text-decoration-color: #0087ff\">Dropout</span>)             │ (<span style=\"color: #00d7ff; text-decoration-color: #00d7ff\">None</span>, <span style=\"color: #00af00; text-decoration-color: #00af00\">16</span>, <span style=\"color: #00af00; text-decoration-color: #00af00\">16</span>, <span style=\"color: #00af00; text-decoration-color: #00af00\">16</span>, <span style=\"color: #00af00; text-decoration-color: #00af00\">32</span>) │             <span style=\"color: #00af00; text-decoration-color: #00af00\">0</span> │\n",
       "├─────────────────────────────────┼────────────────────────┼───────────────┤\n",
       "│ flatten_1 (<span style=\"color: #0087ff; text-decoration-color: #0087ff\">Flatten</span>)             │ (<span style=\"color: #00d7ff; text-decoration-color: #00d7ff\">None</span>, <span style=\"color: #00af00; text-decoration-color: #00af00\">131072</span>)         │             <span style=\"color: #00af00; text-decoration-color: #00af00\">0</span> │\n",
       "├─────────────────────────────────┼────────────────────────┼───────────────┤\n",
       "│ dense_3 (<span style=\"color: #0087ff; text-decoration-color: #0087ff\">Dense</span>)                 │ (<span style=\"color: #00d7ff; text-decoration-color: #00d7ff\">None</span>, <span style=\"color: #00af00; text-decoration-color: #00af00\">512</span>)            │    <span style=\"color: #00af00; text-decoration-color: #00af00\">67,109,376</span> │\n",
       "├─────────────────────────────────┼────────────────────────┼───────────────┤\n",
       "│ dense_4 (<span style=\"color: #0087ff; text-decoration-color: #0087ff\">Dense</span>)                 │ (<span style=\"color: #00d7ff; text-decoration-color: #00d7ff\">None</span>, <span style=\"color: #00af00; text-decoration-color: #00af00\">4</span>)              │         <span style=\"color: #00af00; text-decoration-color: #00af00\">2,052</span> │\n",
       "└─────────────────────────────────┴────────────────────────┴───────────────┘\n",
       "</pre>\n"
      ]
     },
     "metadata": {},
     "output_type": "display_data"
    },
    {
     "data": {
      "text/plain": [
       "\u001B[1m Total params: \u001B[0m\u001B[38;5;34m67,112,324\u001B[0m (256.01 MB)\n"
      ],
      "text/html": [
       "<pre style=\"white-space:pre;overflow-x:auto;line-height:normal;font-family:Menlo,'DejaVu Sans Mono',consolas,'Courier New',monospace\"><span style=\"font-weight: bold\"> Total params: </span><span style=\"color: #00af00; text-decoration-color: #00af00\">67,112,324</span> (256.01 MB)\n",
       "</pre>\n"
      ]
     },
     "metadata": {},
     "output_type": "display_data"
    },
    {
     "data": {
      "text/plain": [
       "\u001B[1m Trainable params: \u001B[0m\u001B[38;5;34m67,112,324\u001B[0m (256.01 MB)\n"
      ],
      "text/html": [
       "<pre style=\"white-space:pre;overflow-x:auto;line-height:normal;font-family:Menlo,'DejaVu Sans Mono',consolas,'Courier New',monospace\"><span style=\"font-weight: bold\"> Trainable params: </span><span style=\"color: #00af00; text-decoration-color: #00af00\">67,112,324</span> (256.01 MB)\n",
       "</pre>\n"
      ]
     },
     "metadata": {},
     "output_type": "display_data"
    },
    {
     "data": {
      "text/plain": [
       "\u001B[1m Non-trainable params: \u001B[0m\u001B[38;5;34m0\u001B[0m (0.00 B)\n"
      ],
      "text/html": [
       "<pre style=\"white-space:pre;overflow-x:auto;line-height:normal;font-family:Menlo,'DejaVu Sans Mono',consolas,'Courier New',monospace\"><span style=\"font-weight: bold\"> Non-trainable params: </span><span style=\"color: #00af00; text-decoration-color: #00af00\">0</span> (0.00 B)\n",
       "</pre>\n"
      ]
     },
     "metadata": {},
     "output_type": "display_data"
    },
    {
     "name": "stdout",
     "output_type": "stream",
     "text": [
      "(970, 32, 32, 32, 1) (970,) (33, 32, 32, 32, 1) (33,)\n",
      "Epoch 1/15\n",
      "\u001B[1m31/31\u001B[0m \u001B[32m━━━━━━━━━━━━━━━━━━━━\u001B[0m\u001B[37m\u001B[0m \u001B[1m76s\u001B[0m 2s/step - accuracy: 0.3841 - loss: 7.8522 - val_accuracy: 0.6970 - val_loss: 0.7440\n",
      "Epoch 2/15\n",
      "\u001B[1m31/31\u001B[0m \u001B[32m━━━━━━━━━━━━━━━━━━━━\u001B[0m\u001B[37m\u001B[0m \u001B[1m76s\u001B[0m 2s/step - accuracy: 0.8095 - loss: 0.5632 - val_accuracy: 0.8182 - val_loss: 0.5369\n",
      "Epoch 3/15\n",
      "\u001B[1m31/31\u001B[0m \u001B[32m━━━━━━━━━━━━━━━━━━━━\u001B[0m\u001B[37m\u001B[0m \u001B[1m74s\u001B[0m 2s/step - accuracy: 0.9357 - loss: 0.2822 - val_accuracy: 0.8485 - val_loss: 0.4427\n",
      "Epoch 4/15\n",
      "\u001B[1m31/31\u001B[0m \u001B[32m━━━━━━━━━━━━━━━━━━━━\u001B[0m\u001B[37m\u001B[0m \u001B[1m72s\u001B[0m 2s/step - accuracy: 0.9856 - loss: 0.1369 - val_accuracy: 0.9091 - val_loss: 0.3937\n",
      "Epoch 5/15\n",
      "\u001B[1m31/31\u001B[0m \u001B[32m━━━━━━━━━━━━━━━━━━━━\u001B[0m\u001B[37m\u001B[0m \u001B[1m71s\u001B[0m 2s/step - accuracy: 0.9908 - loss: 0.0736 - val_accuracy: 0.9697 - val_loss: 0.3443\n",
      "Epoch 6/15\n",
      "\u001B[1m31/31\u001B[0m \u001B[32m━━━━━━━━━━━━━━━━━━━━\u001B[0m\u001B[37m\u001B[0m \u001B[1m69s\u001B[0m 2s/step - accuracy: 0.9954 - loss: 0.0474 - val_accuracy: 0.9091 - val_loss: 0.3633\n",
      "Epoch 7/15\n",
      "\u001B[1m31/31\u001B[0m \u001B[32m━━━━━━━━━━━━━━━━━━━━\u001B[0m\u001B[37m\u001B[0m \u001B[1m69s\u001B[0m 2s/step - accuracy: 1.0000 - loss: 0.0296 - val_accuracy: 0.8788 - val_loss: 0.3937\n",
      "Epoch 8/15\n",
      "\u001B[1m31/31\u001B[0m \u001B[32m━━━━━━━━━━━━━━━━━━━━\u001B[0m\u001B[37m\u001B[0m \u001B[1m70s\u001B[0m 2s/step - accuracy: 1.0000 - loss: 0.0219 - val_accuracy: 0.8788 - val_loss: 0.4178\n",
      "Epoch 9/15\n",
      "\u001B[1m31/31\u001B[0m \u001B[32m━━━━━━━━━━━━━━━━━━━━\u001B[0m\u001B[37m\u001B[0m \u001B[1m69s\u001B[0m 2s/step - accuracy: 1.0000 - loss: 0.0174 - val_accuracy: 0.9091 - val_loss: 0.4404\n",
      "Epoch 10/15\n",
      "\u001B[1m31/31\u001B[0m \u001B[32m━━━━━━━━━━━━━━━━━━━━\u001B[0m\u001B[37m\u001B[0m \u001B[1m69s\u001B[0m 2s/step - accuracy: 1.0000 - loss: 0.0134 - val_accuracy: 0.8485 - val_loss: 0.5719\n",
      "Epoch 10: early stopping\n",
      "Restoring model weights from the end of the best epoch: 5.\n"
     ]
    },
    {
     "data": {
      "text/plain": [
       "<Figure size 640x480 with 2 Axes>"
      ],
      "image/png": "[encoded data removed]"
     },
     "metadata": {},
     "output_type": "display_data"
    },
    {
     "name": "stdout",
     "output_type": "stream",
     "text": [
      "\u001B[1m31/31\u001B[0m \u001B[32m━━━━━━━━━━━━━━━━━━━━\u001B[0m\u001B[37m\u001B[0m \u001B[1m8s\u001B[0m 253ms/step - accuracy: 0.9895 - loss: 0.0688\n",
      "\u001B[1m2/2\u001B[0m \u001B[32m━━━━━━━━━━━━━━━━━━━━\u001B[0m\u001B[37m\u001B[0m \u001B[1m0s\u001B[0m 61ms/step - accuracy: 0.9694 - loss: 0.3435 \n",
      "\n",
      "Train Accuracy: 0.99\n",
      "Validation Accuracy: 0.97\n"
     ]
    }
   ],
   "execution_count": 14
  },
  {
   "metadata": {
    "ExecuteTime": {
     "end_time": "2025-08-04T20:19:33.452037Z",
     "start_time": "2025-08-04T20:03:40.974210Z"
    }
   },
   "cell_type": "code",
   "source": [
    "import matplotlib.pyplot as plt\n",
    "\n",
    "#Establish number of classes we need to predict\n",
    "classes = 4\n",
    "#Hyperparameters\n",
    "lr = 0.001\n",
    "# initialize model\n",
    "tf.keras.backend.clear_session()\n",
    "\n",
    "cnn_3D_v2 = tf.keras.Sequential()\n",
    "\n",
    "# add convolutional layer\n",
    "cnn_3D_v2.add(layers.Conv3D(\n",
    "  filters=32,\n",
    "  kernel_size=(3, 3, 3),\n",
    "  strides=(1, 1, 1),\n",
    "  padding='same',\n",
    "  data_format='channels_last',\n",
    "  name='conv_1a',\n",
    "  activation='relu'\n",
    "))\n",
    "\n",
    "cnn_3D_v2.add(layers.Conv3D(\n",
    "  filters=32,\n",
    "  kernel_size=(3, 3, 3),\n",
    "  strides=(1, 1, 1),\n",
    "  padding='same',\n",
    "  data_format='channels_last',\n",
    "  name='conv_1b',\n",
    "  activation='relu'\n",
    "))\n",
    "cnn_3D_v2.add(layers.MaxPooling3D(pool_size=(2, 2, 2)))\n",
    "\n",
    "# add dropout layer\n",
    "cnn_3D_v2.add(layers.Dropout(rate=0.4))\n",
    "\n",
    "# add a flattening layer\n",
    "cnn_3D_v2.add(layers.Flatten())\n",
    "\n",
    "# add a Dense Layer\n",
    "cnn_3D_v2.add(layers.Dense(units=512, activation='relu'))\n",
    "\n",
    "# add the classification layer\n",
    "cnn_3D_v2.add(layers.Dense(units=classes, activation='softmax',kernel_regularizer=regularizers.l2(1e-4))) #4 classes (softmax for multi-class)\n",
    "\n",
    "# build and compile model\n",
    "cnn_3D_v2.build(input_shape=(None, 32, 32, 32, 1))\n",
    "cnn_3D_v2.compile(optimizer=tf.keras.optimizers.Adam(learning_rate=lr),\n",
    "              loss=tf.keras.losses.SparseCategoricalCrossentropy(), #Since we are using Sparse encodings (not One-Hot Dense....)\n",
    "              metrics=['accuracy'])\n",
    "\n",
    "# print model_tf summary\n",
    "cnn_3D_v2.summary()\n",
    "\n",
    "# train model_tf on (X_train, y_train) data\n",
    "print(train_image_data.shape, transformed_train_labels.shape,val_image_data.shape, transformed_val_labels.shape)\n",
    "history = cnn_3D_v2.fit(\n",
    "    train_image_data,\n",
    "    transformed_train_labels,\n",
    "    validation_data=(val_image_data, transformed_val_labels),\n",
    "    epochs=15,\n",
    "    callbacks=[early_stopping]\n",
    ")\n",
    "\n",
    "# plot loss curves\n",
    "plt.plot(history.history['loss'])\n",
    "plt.plot(history.history['val_loss'])\n",
    "plt.title('Epochs v Loss')\n",
    "plt.ylabel('Loss')\n",
    "plt.xlabel('Epoch')\n",
    "plt.legend(['Train', 'Validation'], loc='upper left')\n",
    "plt.show()\n",
    "# evaluate the accuracy of model_tf on (X_train, y_train) and (X_val, y_val)\n",
    "train_loss, train_acc = cnn_3D_v2.evaluate(train_image_data, transformed_train_labels, verbose=1)\n",
    "val_loss, val_acc = cnn_3D_v2.evaluate(val_image_data, transformed_val_labels, verbose=1)\n",
    "\n",
    "print(f\"\\nTrain Accuracy: {train_acc:.2f}\")\n",
    "print(f\"Validation Accuracy: {val_acc:.2f}\")"
   ],
   "id": "ff81038352c43736",
   "outputs": [
    {
     "data": {
      "text/plain": [
       "\u001B[1mModel: \"sequential\"\u001B[0m\n"
      ],
      "text/html": [
       "<pre style=\"white-space:pre;overflow-x:auto;line-height:normal;font-family:Menlo,'DejaVu Sans Mono',consolas,'Courier New',monospace\"><span style=\"font-weight: bold\">Model: \"sequential\"</span>\n",
       "</pre>\n"
      ]
     },
     "metadata": {},
     "output_type": "display_data"
    },
    {
     "data": {
      "text/plain": [
       "┏━━━━━━━━━━━━━━━━━━━━━━━━━━━━━━━━━┳━━━━━━━━━━━━━━━━━━━━━━━━┳━━━━━━━━━━━━━━━┓\n",
       "┃\u001B[1m \u001B[0m\u001B[1mLayer (type)                   \u001B[0m\u001B[1m \u001B[0m┃\u001B[1m \u001B[0m\u001B[1mOutput Shape          \u001B[0m\u001B[1m \u001B[0m┃\u001B[1m \u001B[0m\u001B[1m      Param #\u001B[0m\u001B[1m \u001B[0m┃\n",
       "┡━━━━━━━━━━━━━━━━━━━━━━━━━━━━━━━━━╇━━━━━━━━━━━━━━━━━━━━━━━━╇━━━━━━━━━━━━━━━┩\n",
       "│ conv_1a (\u001B[38;5;33mConv3D\u001B[0m)                │ (\u001B[38;5;45mNone\u001B[0m, \u001B[38;5;34m32\u001B[0m, \u001B[38;5;34m32\u001B[0m, \u001B[38;5;34m32\u001B[0m, \u001B[38;5;34m32\u001B[0m) │           \u001B[38;5;34m896\u001B[0m │\n",
       "├─────────────────────────────────┼────────────────────────┼───────────────┤\n",
       "│ conv_1b (\u001B[38;5;33mConv3D\u001B[0m)                │ (\u001B[38;5;45mNone\u001B[0m, \u001B[38;5;34m32\u001B[0m, \u001B[38;5;34m32\u001B[0m, \u001B[38;5;34m32\u001B[0m, \u001B[38;5;34m32\u001B[0m) │        \u001B[38;5;34m27,680\u001B[0m │\n",
       "├─────────────────────────────────┼────────────────────────┼───────────────┤\n",
       "│ max_pooling3d (\u001B[38;5;33mMaxPooling3D\u001B[0m)    │ (\u001B[38;5;45mNone\u001B[0m, \u001B[38;5;34m16\u001B[0m, \u001B[38;5;34m16\u001B[0m, \u001B[38;5;34m16\u001B[0m, \u001B[38;5;34m32\u001B[0m) │             \u001B[38;5;34m0\u001B[0m │\n",
       "├─────────────────────────────────┼────────────────────────┼───────────────┤\n",
       "│ dropout (\u001B[38;5;33mDropout\u001B[0m)               │ (\u001B[38;5;45mNone\u001B[0m, \u001B[38;5;34m16\u001B[0m, \u001B[38;5;34m16\u001B[0m, \u001B[38;5;34m16\u001B[0m, \u001B[38;5;34m32\u001B[0m) │             \u001B[38;5;34m0\u001B[0m │\n",
       "├─────────────────────────────────┼────────────────────────┼───────────────┤\n",
       "│ flatten (\u001B[38;5;33mFlatten\u001B[0m)               │ (\u001B[38;5;45mNone\u001B[0m, \u001B[38;5;34m131072\u001B[0m)         │             \u001B[38;5;34m0\u001B[0m │\n",
       "├─────────────────────────────────┼────────────────────────┼───────────────┤\n",
       "│ dense (\u001B[38;5;33mDense\u001B[0m)                   │ (\u001B[38;5;45mNone\u001B[0m, \u001B[38;5;34m512\u001B[0m)            │    \u001B[38;5;34m67,109,376\u001B[0m │\n",
       "├─────────────────────────────────┼────────────────────────┼───────────────┤\n",
       "│ dense_1 (\u001B[38;5;33mDense\u001B[0m)                 │ (\u001B[38;5;45mNone\u001B[0m, \u001B[38;5;34m4\u001B[0m)              │         \u001B[38;5;34m2,052\u001B[0m │\n",
       "└─────────────────────────────────┴────────────────────────┴───────────────┘\n"
      ],
      "text/html": [
       "<pre style=\"white-space:pre;overflow-x:auto;line-height:normal;font-family:Menlo,'DejaVu Sans Mono',consolas,'Courier New',monospace\">┏━━━━━━━━━━━━━━━━━━━━━━━━━━━━━━━━━┳━━━━━━━━━━━━━━━━━━━━━━━━┳━━━━━━━━━━━━━━━┓\n",
       "┃<span style=\"font-weight: bold\"> Layer (type)                    </span>┃<span style=\"font-weight: bold\"> Output Shape           </span>┃<span style=\"font-weight: bold\">       Param # </span>┃\n",
       "┡━━━━━━━━━━━━━━━━━━━━━━━━━━━━━━━━━╇━━━━━━━━━━━━━━━━━━━━━━━━╇━━━━━━━━━━━━━━━┩\n",
       "│ conv_1a (<span style=\"color: #0087ff; text-decoration-color: #0087ff\">Conv3D</span>)                │ (<span style=\"color: #00d7ff; text-decoration-color: #00d7ff\">None</span>, <span style=\"color: #00af00; text-decoration-color: #00af00\">32</span>, <span style=\"color: #00af00; text-decoration-color: #00af00\">32</span>, <span style=\"color: #00af00; text-decoration-color: #00af00\">32</span>, <span style=\"color: #00af00; text-decoration-color: #00af00\">32</span>) │           <span style=\"color: #00af00; text-decoration-color: #00af00\">896</span> │\n",
       "├─────────────────────────────────┼────────────────────────┼───────────────┤\n",
       "│ conv_1b (<span style=\"color: #0087ff; text-decoration-color: #0087ff\">Conv3D</span>)                │ (<span style=\"color: #00d7ff; text-decoration-color: #00d7ff\">None</span>, <span style=\"color: #00af00; text-decoration-color: #00af00\">32</span>, <span style=\"color: #00af00; text-decoration-color: #00af00\">32</span>, <span style=\"color: #00af00; text-decoration-color: #00af00\">32</span>, <span style=\"color: #00af00; text-decoration-color: #00af00\">32</span>) │        <span style=\"color: #00af00; text-decoration-color: #00af00\">27,680</span> │\n",
       "├─────────────────────────────────┼────────────────────────┼───────────────┤\n",
       "│ max_pooling3d (<span style=\"color: #0087ff; text-decoration-color: #0087ff\">MaxPooling3D</span>)    │ (<span style=\"color: #00d7ff; text-decoration-color: #00d7ff\">None</span>, <span style=\"color: #00af00; text-decoration-color: #00af00\">16</span>, <span style=\"color: #00af00; text-decoration-color: #00af00\">16</span>, <span style=\"color: #00af00; text-decoration-color: #00af00\">16</span>, <span style=\"color: #00af00; text-decoration-color: #00af00\">32</span>) │             <span style=\"color: #00af00; text-decoration-color: #00af00\">0</span> │\n",
       "├─────────────────────────────────┼────────────────────────┼───────────────┤\n",
       "│ dropout (<span style=\"color: #0087ff; text-decoration-color: #0087ff\">Dropout</span>)               │ (<span style=\"color: #00d7ff; text-decoration-color: #00d7ff\">None</span>, <span style=\"color: #00af00; text-decoration-color: #00af00\">16</span>, <span style=\"color: #00af00; text-decoration-color: #00af00\">16</span>, <span style=\"color: #00af00; text-decoration-color: #00af00\">16</span>, <span style=\"color: #00af00; text-decoration-color: #00af00\">32</span>) │             <span style=\"color: #00af00; text-decoration-color: #00af00\">0</span> │\n",
       "├─────────────────────────────────┼────────────────────────┼───────────────┤\n",
       "│ flatten (<span style=\"color: #0087ff; text-decoration-color: #0087ff\">Flatten</span>)               │ (<span style=\"color: #00d7ff; text-decoration-color: #00d7ff\">None</span>, <span style=\"color: #00af00; text-decoration-color: #00af00\">131072</span>)         │             <span style=\"color: #00af00; text-decoration-color: #00af00\">0</span> │\n",
       "├─────────────────────────────────┼────────────────────────┼───────────────┤\n",
       "│ dense (<span style=\"color: #0087ff; text-decoration-color: #0087ff\">Dense</span>)                   │ (<span style=\"color: #00d7ff; text-decoration-color: #00d7ff\">None</span>, <span style=\"color: #00af00; text-decoration-color: #00af00\">512</span>)            │    <span style=\"color: #00af00; text-decoration-color: #00af00\">67,109,376</span> │\n",
       "├─────────────────────────────────┼────────────────────────┼───────────────┤\n",
       "│ dense_1 (<span style=\"color: #0087ff; text-decoration-color: #0087ff\">Dense</span>)                 │ (<span style=\"color: #00d7ff; text-decoration-color: #00d7ff\">None</span>, <span style=\"color: #00af00; text-decoration-color: #00af00\">4</span>)              │         <span style=\"color: #00af00; text-decoration-color: #00af00\">2,052</span> │\n",
       "└─────────────────────────────────┴────────────────────────┴───────────────┘\n",
       "</pre>\n"
      ]
     },
     "metadata": {},
     "output_type": "display_data"
    },
    {
     "data": {
      "text/plain": [
       "\u001B[1m Total params: \u001B[0m\u001B[38;5;34m67,140,004\u001B[0m (256.12 MB)\n"
      ],
      "text/html": [
       "<pre style=\"white-space:pre;overflow-x:auto;line-height:normal;font-family:Menlo,'DejaVu Sans Mono',consolas,'Courier New',monospace\"><span style=\"font-weight: bold\"> Total params: </span><span style=\"color: #00af00; text-decoration-color: #00af00\">67,140,004</span> (256.12 MB)\n",
       "</pre>\n"
      ]
     },
     "metadata": {},
     "output_type": "display_data"
    },
    {
     "data": {
      "text/plain": [
       "\u001B[1m Trainable params: \u001B[0m\u001B[38;5;34m67,140,004\u001B[0m (256.12 MB)\n"
      ],
      "text/html": [
       "<pre style=\"white-space:pre;overflow-x:auto;line-height:normal;font-family:Menlo,'DejaVu Sans Mono',consolas,'Courier New',monospace\"><span style=\"font-weight: bold\"> Trainable params: </span><span style=\"color: #00af00; text-decoration-color: #00af00\">67,140,004</span> (256.12 MB)\n",
       "</pre>\n"
      ]
     },
     "metadata": {},
     "output_type": "display_data"
    },
    {
     "data": {
      "text/plain": [
       "\u001B[1m Non-trainable params: \u001B[0m\u001B[38;5;34m0\u001B[0m (0.00 B)\n"
      ],
      "text/html": [
       "<pre style=\"white-space:pre;overflow-x:auto;line-height:normal;font-family:Menlo,'DejaVu Sans Mono',consolas,'Courier New',monospace\"><span style=\"font-weight: bold\"> Non-trainable params: </span><span style=\"color: #00af00; text-decoration-color: #00af00\">0</span> (0.00 B)\n",
       "</pre>\n"
      ]
     },
     "metadata": {},
     "output_type": "display_data"
    },
    {
     "name": "stdout",
     "output_type": "stream",
     "text": [
      "(970, 32, 32, 32, 1) (970,) (33, 32, 32, 32, 1) (33,)\n",
      "Epoch 1/15\n",
      "\u001B[1m31/31\u001B[0m \u001B[32m━━━━━━━━━━━━━━━━━━━━\u001B[0m\u001B[37m\u001B[0m \u001B[1m157s\u001B[0m 5s/step - accuracy: 0.2676 - loss: 5.2332 - val_accuracy: 0.4242 - val_loss: 1.3749\n",
      "Epoch 2/15\n",
      "\u001B[1m31/31\u001B[0m \u001B[32m━━━━━━━━━━━━━━━━━━━━\u001B[0m\u001B[37m\u001B[0m \u001B[1m153s\u001B[0m 5s/step - accuracy: 0.4327 - loss: 1.3680 - val_accuracy: 0.4242 - val_loss: 1.3478\n",
      "Epoch 3/15\n",
      "\u001B[1m31/31\u001B[0m \u001B[32m━━━━━━━━━━━━━━━━━━━━\u001B[0m\u001B[37m\u001B[0m \u001B[1m152s\u001B[0m 5s/step - accuracy: 0.4327 - loss: 1.3394 - val_accuracy: 0.4242 - val_loss: 1.3184\n",
      "Epoch 4/15\n",
      "\u001B[1m31/31\u001B[0m \u001B[32m━━━━━━━━━━━━━━━━━━━━\u001B[0m\u001B[37m\u001B[0m \u001B[1m153s\u001B[0m 5s/step - accuracy: 0.4327 - loss: 1.3101 - val_accuracy: 0.4242 - val_loss: 1.2939\n",
      "Epoch 5/15\n",
      "\u001B[1m31/31\u001B[0m \u001B[32m━━━━━━━━━━━━━━━━━━━━\u001B[0m\u001B[37m\u001B[0m \u001B[1m163s\u001B[0m 5s/step - accuracy: 0.4327 - loss: 1.2872 - val_accuracy: 0.4242 - val_loss: 1.2792\n",
      "Epoch 6/15\n",
      "\u001B[1m31/31\u001B[0m \u001B[32m━━━━━━━━━━━━━━━━━━━━\u001B[0m\u001B[37m\u001B[0m \u001B[1m155s\u001B[0m 5s/step - accuracy: 0.4327 - loss: 1.2748 - val_accuracy: 0.4242 - val_loss: 1.2730\n",
      "Epoch 6: early stopping\n",
      "Restoring model weights from the end of the best epoch: 1.\n"
     ]
    },
    {
     "data": {
      "text/plain": [
       "<Figure size 640x480 with 1 Axes>"
      ],
      "image/png": "[encoded data removed]"
     },
     "metadata": {},
     "output_type": "display_data"
    },
    {
     "name": "stdout",
     "output_type": "stream",
     "text": [
      "\u001B[1m31/31\u001B[0m \u001B[32m━━━━━━━━━━━━━━━━━━━━\u001B[0m\u001B[37m\u001B[0m \u001B[1m17s\u001B[0m 549ms/step - accuracy: 0.3956 - loss: 1.3767\n",
      "\u001B[1m2/2\u001B[0m \u001B[32m━━━━━━━━━━━━━━━━━━━━\u001B[0m\u001B[37m\u001B[0m \u001B[1m1s\u001B[0m 88ms/step - accuracy: 0.4287 - loss: 1.3743\n",
      "\n",
      "Train Accuracy: 0.45\n",
      "Validation Accuracy: 0.42\n"
     ]
    }
   ],
   "execution_count": 16
  },
  {
   "metadata": {
    "ExecuteTime": {
     "end_time": "2025-08-04T20:03:40.847950Z",
     "start_time": "2025-08-04T19:15:46.136415Z"
    }
   },
   "cell_type": "code",
   "source": [
    "import matplotlib.pyplot as plt\n",
    "\n",
    "#Establish number of classes we need to predict\n",
    "classes = 4\n",
    "#Hyperparameters\n",
    "lr = 0.001\n",
    "tf.keras.backend.clear_session()\n",
    "\n",
    "# initialize model\n",
    "cnn_3D_v3 = tf.keras.Sequential()\n",
    "\n",
    "# add convolutional layer\n",
    "cnn_3D_v3.add(layers.Conv3D(\n",
    "  filters=32,\n",
    "  kernel_size=(3, 3, 3),\n",
    "  strides=(1, 1, 1),\n",
    "  padding='same',\n",
    "  data_format='channels_last',\n",
    "  name='conv_1a',\n",
    "  activation='relu'\n",
    "))\n",
    "\n",
    "cnn_3D_v3.add(layers.Conv3D(\n",
    "  filters=32,\n",
    "  kernel_size=(3, 3, 3),\n",
    "  strides=(1, 1, 1),\n",
    "  padding='same',\n",
    "  data_format='channels_last',\n",
    "  name='conv_1b',\n",
    "  activation='relu'\n",
    "))\n",
    "cnn_3D_v3.add(layers.MaxPooling3D(pool_size=(2, 2, 2)))\n",
    "\n",
    "cnn_3D_v3.add(layers.Conv3D(\n",
    "  filters=64,\n",
    "  kernel_size=(3, 3, 3),\n",
    "  strides=(1, 1, 1),\n",
    "  padding='same',\n",
    "  data_format='channels_last',\n",
    "  name='conv_2a',\n",
    "  activation='relu'\n",
    "))\n",
    "cnn_3D_v3.add(layers.Conv3D(\n",
    "  filters=64,\n",
    "  kernel_size=(3, 3, 3),\n",
    "  strides=(1, 1, 1),\n",
    "  padding='same',\n",
    "  data_format='channels_last',\n",
    "  name='conv_2b',\n",
    "  activation='relu'\n",
    "))\n",
    "cnn_3D_v3.add(layers.MaxPooling3D(pool_size=(2, 2, 2)))\n",
    "\n",
    "# add dropout layer\n",
    "cnn_3D_v3.add(layers.Dropout(rate=0.4))\n",
    "\n",
    "# add a flattening layer\n",
    "cnn_3D_v3.add(layers.Flatten())\n",
    "\n",
    "# add a Dense Layer\n",
    "cnn_3D_v3.add(layers.Dense(units=512, activation='relu'))\n",
    "\n",
    "# add the classification layer\n",
    "cnn_3D_v3.add(layers.Dense(units=classes, activation='softmax',kernel_regularizer=regularizers.l2(1e-4))) #4 classes (softmax for multi-class)\n",
    "\n",
    "# build and compile model\n",
    "cnn_3D_v3.build(input_shape=(None, 32, 32, 32, 1))\n",
    "cnn_3D_v3.compile(optimizer=tf.keras.optimizers.Adam(learning_rate=lr),\n",
    "              loss=tf.keras.losses.SparseCategoricalCrossentropy(), #Since we are using Sparse encodings (not One-Hot Dense....)\n",
    "              metrics=['accuracy'])\n",
    "\n",
    "# print model_tf summary\n",
    "cnn_3D_v3.summary()\n",
    "\n",
    "# train model_tf on (X_train, y_train) data\n",
    "print(train_image_data.shape, transformed_train_labels.shape,val_image_data.shape, transformed_val_labels.shape)\n",
    "cnn_3D_v3_history = cnn_3D_v3.fit(\n",
    "    train_image_data,\n",
    "    transformed_train_labels,\n",
    "    validation_data=(val_image_data, transformed_val_labels),\n",
    "    epochs=15,\n",
    "    callbacks=[early_stopping]\n",
    ")\n",
    "\n",
    "# plot loss curves\n",
    "plt.subplot(1, 2, 1)\n",
    "plt.plot(cnn_3D_v3_history.history['loss'])\n",
    "plt.plot(cnn_3D_v3_history.history['val_loss'])\n",
    "plt.title('Epochs v Loss')\n",
    "plt.ylabel('Loss')\n",
    "plt.xlabel('Epoch')\n",
    "plt.legend(['Train', 'Validation'], loc='upper left')\n",
    "\n",
    "plt.subplot(1, 2, 2)\n",
    "plt.plot(cnn_3D_v3_history.history['accuracy'])\n",
    "plt.plot(cnn_3D_v3_history.history['val_accuracy'])\n",
    "plt.title('Epochs v Accuracy')\n",
    "plt.ylabel('Accuracy')\n",
    "plt.xlabel('Epoch')\n",
    "plt.legend(['Train', 'Validation'], loc='upper left')\n",
    "plt.show()\n",
    "# evaluate the accuracy of model_tf on (X_train, y_train) and (X_val, y_val)\n",
    "train_loss, train_acc = cnn_3D_v3.evaluate(train_image_data, transformed_train_labels, verbose=1)\n",
    "val_loss, val_acc = cnn_3D_v3.evaluate(val_image_data, transformed_val_labels, verbose=1)\n",
    "\n",
    "print(f\"\\nTrain Accuracy: {train_acc:.2f}\")\n",
    "print(f\"Validation Accuracy: {val_acc:.2f}\")"
   ],
   "id": "57f02c4a882e3f55",
   "outputs": [
    {
     "data": {
      "text/plain": [
       "\u001B[1mModel: \"sequential\"\u001B[0m\n"
      ],
      "text/html": [
       "<pre style=\"white-space:pre;overflow-x:auto;line-height:normal;font-family:Menlo,'DejaVu Sans Mono',consolas,'Courier New',monospace\"><span style=\"font-weight: bold\">Model: \"sequential\"</span>\n",
       "</pre>\n"
      ]
     },
     "metadata": {},
     "output_type": "display_data"
    },
    {
     "data": {
      "text/plain": [
       "┏━━━━━━━━━━━━━━━━━━━━━━━━━━━━━━━━━┳━━━━━━━━━━━━━━━━━━━━━━━━┳━━━━━━━━━━━━━━━┓\n",
       "┃\u001B[1m \u001B[0m\u001B[1mLayer (type)                   \u001B[0m\u001B[1m \u001B[0m┃\u001B[1m \u001B[0m\u001B[1mOutput Shape          \u001B[0m\u001B[1m \u001B[0m┃\u001B[1m \u001B[0m\u001B[1m      Param #\u001B[0m\u001B[1m \u001B[0m┃\n",
       "┡━━━━━━━━━━━━━━━━━━━━━━━━━━━━━━━━━╇━━━━━━━━━━━━━━━━━━━━━━━━╇━━━━━━━━━━━━━━━┩\n",
       "│ conv_1a (\u001B[38;5;33mConv3D\u001B[0m)                │ (\u001B[38;5;45mNone\u001B[0m, \u001B[38;5;34m32\u001B[0m, \u001B[38;5;34m32\u001B[0m, \u001B[38;5;34m32\u001B[0m, \u001B[38;5;34m32\u001B[0m) │           \u001B[38;5;34m896\u001B[0m │\n",
       "├─────────────────────────────────┼────────────────────────┼───────────────┤\n",
       "│ conv_1b (\u001B[38;5;33mConv3D\u001B[0m)                │ (\u001B[38;5;45mNone\u001B[0m, \u001B[38;5;34m32\u001B[0m, \u001B[38;5;34m32\u001B[0m, \u001B[38;5;34m32\u001B[0m, \u001B[38;5;34m32\u001B[0m) │        \u001B[38;5;34m27,680\u001B[0m │\n",
       "├─────────────────────────────────┼────────────────────────┼───────────────┤\n",
       "│ max_pooling3d (\u001B[38;5;33mMaxPooling3D\u001B[0m)    │ (\u001B[38;5;45mNone\u001B[0m, \u001B[38;5;34m16\u001B[0m, \u001B[38;5;34m16\u001B[0m, \u001B[38;5;34m16\u001B[0m, \u001B[38;5;34m32\u001B[0m) │             \u001B[38;5;34m0\u001B[0m │\n",
       "├─────────────────────────────────┼────────────────────────┼───────────────┤\n",
       "│ conv_2a (\u001B[38;5;33mConv3D\u001B[0m)                │ (\u001B[38;5;45mNone\u001B[0m, \u001B[38;5;34m16\u001B[0m, \u001B[38;5;34m16\u001B[0m, \u001B[38;5;34m16\u001B[0m, \u001B[38;5;34m64\u001B[0m) │        \u001B[38;5;34m55,360\u001B[0m │\n",
       "├─────────────────────────────────┼────────────────────────┼───────────────┤\n",
       "│ conv_2b (\u001B[38;5;33mConv3D\u001B[0m)                │ (\u001B[38;5;45mNone\u001B[0m, \u001B[38;5;34m16\u001B[0m, \u001B[38;5;34m16\u001B[0m, \u001B[38;5;34m16\u001B[0m, \u001B[38;5;34m64\u001B[0m) │       \u001B[38;5;34m110,656\u001B[0m │\n",
       "├─────────────────────────────────┼────────────────────────┼───────────────┤\n",
       "│ max_pooling3d_1 (\u001B[38;5;33mMaxPooling3D\u001B[0m)  │ (\u001B[38;5;45mNone\u001B[0m, \u001B[38;5;34m8\u001B[0m, \u001B[38;5;34m8\u001B[0m, \u001B[38;5;34m8\u001B[0m, \u001B[38;5;34m64\u001B[0m)    │             \u001B[38;5;34m0\u001B[0m │\n",
       "├─────────────────────────────────┼────────────────────────┼───────────────┤\n",
       "│ dropout (\u001B[38;5;33mDropout\u001B[0m)               │ (\u001B[38;5;45mNone\u001B[0m, \u001B[38;5;34m8\u001B[0m, \u001B[38;5;34m8\u001B[0m, \u001B[38;5;34m8\u001B[0m, \u001B[38;5;34m64\u001B[0m)    │             \u001B[38;5;34m0\u001B[0m │\n",
       "├─────────────────────────────────┼────────────────────────┼───────────────┤\n",
       "│ flatten (\u001B[38;5;33mFlatten\u001B[0m)               │ (\u001B[38;5;45mNone\u001B[0m, \u001B[38;5;34m32768\u001B[0m)          │             \u001B[38;5;34m0\u001B[0m │\n",
       "├─────────────────────────────────┼────────────────────────┼───────────────┤\n",
       "│ dense (\u001B[38;5;33mDense\u001B[0m)                   │ (\u001B[38;5;45mNone\u001B[0m, \u001B[38;5;34m512\u001B[0m)            │    \u001B[38;5;34m16,777,728\u001B[0m │\n",
       "├─────────────────────────────────┼────────────────────────┼───────────────┤\n",
       "│ dense_1 (\u001B[38;5;33mDense\u001B[0m)                 │ (\u001B[38;5;45mNone\u001B[0m, \u001B[38;5;34m4\u001B[0m)              │         \u001B[38;5;34m2,052\u001B[0m │\n",
       "└─────────────────────────────────┴────────────────────────┴───────────────┘\n"
      ],
      "text/html": [
       "<pre style=\"white-space:pre;overflow-x:auto;line-height:normal;font-family:Menlo,'DejaVu Sans Mono',consolas,'Courier New',monospace\">┏━━━━━━━━━━━━━━━━━━━━━━━━━━━━━━━━━┳━━━━━━━━━━━━━━━━━━━━━━━━┳━━━━━━━━━━━━━━━┓\n",
       "┃<span style=\"font-weight: bold\"> Layer (type)                    </span>┃<span style=\"font-weight: bold\"> Output Shape           </span>┃<span style=\"font-weight: bold\">       Param # </span>┃\n",
       "┡━━━━━━━━━━━━━━━━━━━━━━━━━━━━━━━━━╇━━━━━━━━━━━━━━━━━━━━━━━━╇━━━━━━━━━━━━━━━┩\n",
       "│ conv_1a (<span style=\"color: #0087ff; text-decoration-color: #0087ff\">Conv3D</span>)                │ (<span style=\"color: #00d7ff; text-decoration-color: #00d7ff\">None</span>, <span style=\"color: #00af00; text-decoration-color: #00af00\">32</span>, <span style=\"color: #00af00; text-decoration-color: #00af00\">32</span>, <span style=\"color: #00af00; text-decoration-color: #00af00\">32</span>, <span style=\"color: #00af00; text-decoration-color: #00af00\">32</span>) │           <span style=\"color: #00af00; text-decoration-color: #00af00\">896</span> │\n",
       "├─────────────────────────────────┼────────────────────────┼───────────────┤\n",
       "│ conv_1b (<span style=\"color: #0087ff; text-decoration-color: #0087ff\">Conv3D</span>)                │ (<span style=\"color: #00d7ff; text-decoration-color: #00d7ff\">None</span>, <span style=\"color: #00af00; text-decoration-color: #00af00\">32</span>, <span style=\"color: #00af00; text-decoration-color: #00af00\">32</span>, <span style=\"color: #00af00; text-decoration-color: #00af00\">32</span>, <span style=\"color: #00af00; text-decoration-color: #00af00\">32</span>) │        <span style=\"color: #00af00; text-decoration-color: #00af00\">27,680</span> │\n",
       "├─────────────────────────────────┼────────────────────────┼───────────────┤\n",
       "│ max_pooling3d (<span style=\"color: #0087ff; text-decoration-color: #0087ff\">MaxPooling3D</span>)    │ (<span style=\"color: #00d7ff; text-decoration-color: #00d7ff\">None</span>, <span style=\"color: #00af00; text-decoration-color: #00af00\">16</span>, <span style=\"color: #00af00; text-decoration-color: #00af00\">16</span>, <span style=\"color: #00af00; text-decoration-color: #00af00\">16</span>, <span style=\"color: #00af00; text-decoration-color: #00af00\">32</span>) │             <span style=\"color: #00af00; text-decoration-color: #00af00\">0</span> │\n",
       "├─────────────────────────────────┼────────────────────────┼───────────────┤\n",
       "│ conv_2a (<span style=\"color: #0087ff; text-decoration-color: #0087ff\">Conv3D</span>)                │ (<span style=\"color: #00d7ff; text-decoration-color: #00d7ff\">None</span>, <span style=\"color: #00af00; text-decoration-color: #00af00\">16</span>, <span style=\"color: #00af00; text-decoration-color: #00af00\">16</span>, <span style=\"color: #00af00; text-decoration-color: #00af00\">16</span>, <span style=\"color: #00af00; text-decoration-color: #00af00\">64</span>) │        <span style=\"color: #00af00; text-decoration-color: #00af00\">55,360</span> │\n",
       "├─────────────────────────────────┼────────────────────────┼───────────────┤\n",
       "│ conv_2b (<span style=\"color: #0087ff; text-decoration-color: #0087ff\">Conv3D</span>)                │ (<span style=\"color: #00d7ff; text-decoration-color: #00d7ff\">None</span>, <span style=\"color: #00af00; text-decoration-color: #00af00\">16</span>, <span style=\"color: #00af00; text-decoration-color: #00af00\">16</span>, <span style=\"color: #00af00; text-decoration-color: #00af00\">16</span>, <span style=\"color: #00af00; text-decoration-color: #00af00\">64</span>) │       <span style=\"color: #00af00; text-decoration-color: #00af00\">110,656</span> │\n",
       "├─────────────────────────────────┼────────────────────────┼───────────────┤\n",
       "│ max_pooling3d_1 (<span style=\"color: #0087ff; text-decoration-color: #0087ff\">MaxPooling3D</span>)  │ (<span style=\"color: #00d7ff; text-decoration-color: #00d7ff\">None</span>, <span style=\"color: #00af00; text-decoration-color: #00af00\">8</span>, <span style=\"color: #00af00; text-decoration-color: #00af00\">8</span>, <span style=\"color: #00af00; text-decoration-color: #00af00\">8</span>, <span style=\"color: #00af00; text-decoration-color: #00af00\">64</span>)    │             <span style=\"color: #00af00; text-decoration-color: #00af00\">0</span> │\n",
       "├─────────────────────────────────┼────────────────────────┼───────────────┤\n",
       "│ dropout (<span style=\"color: #0087ff; text-decoration-color: #0087ff\">Dropout</span>)               │ (<span style=\"color: #00d7ff; text-decoration-color: #00d7ff\">None</span>, <span style=\"color: #00af00; text-decoration-color: #00af00\">8</span>, <span style=\"color: #00af00; text-decoration-color: #00af00\">8</span>, <span style=\"color: #00af00; text-decoration-color: #00af00\">8</span>, <span style=\"color: #00af00; text-decoration-color: #00af00\">64</span>)    │             <span style=\"color: #00af00; text-decoration-color: #00af00\">0</span> │\n",
       "├─────────────────────────────────┼────────────────────────┼───────────────┤\n",
       "│ flatten (<span style=\"color: #0087ff; text-decoration-color: #0087ff\">Flatten</span>)               │ (<span style=\"color: #00d7ff; text-decoration-color: #00d7ff\">None</span>, <span style=\"color: #00af00; text-decoration-color: #00af00\">32768</span>)          │             <span style=\"color: #00af00; text-decoration-color: #00af00\">0</span> │\n",
       "├─────────────────────────────────┼────────────────────────┼───────────────┤\n",
       "│ dense (<span style=\"color: #0087ff; text-decoration-color: #0087ff\">Dense</span>)                   │ (<span style=\"color: #00d7ff; text-decoration-color: #00d7ff\">None</span>, <span style=\"color: #00af00; text-decoration-color: #00af00\">512</span>)            │    <span style=\"color: #00af00; text-decoration-color: #00af00\">16,777,728</span> │\n",
       "├─────────────────────────────────┼────────────────────────┼───────────────┤\n",
       "│ dense_1 (<span style=\"color: #0087ff; text-decoration-color: #0087ff\">Dense</span>)                 │ (<span style=\"color: #00d7ff; text-decoration-color: #00d7ff\">None</span>, <span style=\"color: #00af00; text-decoration-color: #00af00\">4</span>)              │         <span style=\"color: #00af00; text-decoration-color: #00af00\">2,052</span> │\n",
       "└─────────────────────────────────┴────────────────────────┴───────────────┘\n",
       "</pre>\n"
      ]
     },
     "metadata": {},
     "output_type": "display_data"
    },
    {
     "data": {
      "text/plain": [
       "\u001B[1m Total params: \u001B[0m\u001B[38;5;34m16,974,372\u001B[0m (64.75 MB)\n"
      ],
      "text/html": [
       "<pre style=\"white-space:pre;overflow-x:auto;line-height:normal;font-family:Menlo,'DejaVu Sans Mono',consolas,'Courier New',monospace\"><span style=\"font-weight: bold\"> Total params: </span><span style=\"color: #00af00; text-decoration-color: #00af00\">16,974,372</span> (64.75 MB)\n",
       "</pre>\n"
      ]
     },
     "metadata": {},
     "output_type": "display_data"
    },
    {
     "data": {
      "text/plain": [
       "\u001B[1m Trainable params: \u001B[0m\u001B[38;5;34m16,974,372\u001B[0m (64.75 MB)\n"
      ],
      "text/html": [
       "<pre style=\"white-space:pre;overflow-x:auto;line-height:normal;font-family:Menlo,'DejaVu Sans Mono',consolas,'Courier New',monospace\"><span style=\"font-weight: bold\"> Trainable params: </span><span style=\"color: #00af00; text-decoration-color: #00af00\">16,974,372</span> (64.75 MB)\n",
       "</pre>\n"
      ]
     },
     "metadata": {},
     "output_type": "display_data"
    },
    {
     "data": {
      "text/plain": [
       "\u001B[1m Non-trainable params: \u001B[0m\u001B[38;5;34m0\u001B[0m (0.00 B)\n"
      ],
      "text/html": [
       "<pre style=\"white-space:pre;overflow-x:auto;line-height:normal;font-family:Menlo,'DejaVu Sans Mono',consolas,'Courier New',monospace\"><span style=\"font-weight: bold\"> Non-trainable params: </span><span style=\"color: #00af00; text-decoration-color: #00af00\">0</span> (0.00 B)\n",
       "</pre>\n"
      ]
     },
     "metadata": {},
     "output_type": "display_data"
    },
    {
     "name": "stdout",
     "output_type": "stream",
     "text": [
      "(970, 32, 32, 32, 1) (970,) (33, 32, 32, 32, 1) (33,)\n",
      "Epoch 1/15\n",
      "\u001B[1m31/31\u001B[0m \u001B[32m━━━━━━━━━━━━━━━━━━━━\u001B[0m\u001B[37m\u001B[0m \u001B[1m199s\u001B[0m 6s/step - accuracy: 0.4155 - loss: 1.3693 - val_accuracy: 0.6970 - val_loss: 0.8599\n",
      "Epoch 2/15\n",
      "\u001B[1m31/31\u001B[0m \u001B[32m━━━━━━━━━━━━━━━━━━━━\u001B[0m\u001B[37m\u001B[0m \u001B[1m203s\u001B[0m 7s/step - accuracy: 0.6842 - loss: 0.7983 - val_accuracy: 0.7576 - val_loss: 0.6280\n",
      "Epoch 3/15\n",
      "\u001B[1m31/31\u001B[0m \u001B[32m━━━━━━━━━━━━━━━━━━━━\u001B[0m\u001B[37m\u001B[0m \u001B[1m226s\u001B[0m 7s/step - accuracy: 0.7915 - loss: 0.5552 - val_accuracy: 0.7576 - val_loss: 0.6003\n",
      "Epoch 4/15\n",
      "\u001B[1m31/31\u001B[0m \u001B[32m━━━━━━━━━━━━━━━━━━━━\u001B[0m\u001B[37m\u001B[0m \u001B[1m214s\u001B[0m 7s/step - accuracy: 0.8864 - loss: 0.3116 - val_accuracy: 0.8182 - val_loss: 0.4916\n",
      "Epoch 5/15\n",
      "\u001B[1m31/31\u001B[0m \u001B[32m━━━━━━━━━━━━━━━━━━━━\u001B[0m\u001B[37m\u001B[0m \u001B[1m215s\u001B[0m 7s/step - accuracy: 0.9206 - loss: 0.2053 - val_accuracy: 0.8485 - val_loss: 0.5170\n",
      "Epoch 6/15\n",
      "\u001B[1m31/31\u001B[0m \u001B[32m━━━━━━━━━━━━━━━━━━━━\u001B[0m\u001B[37m\u001B[0m \u001B[1m312s\u001B[0m 10s/step - accuracy: 0.9550 - loss: 0.1033 - val_accuracy: 0.8485 - val_loss: 0.3257\n",
      "Epoch 7/15\n",
      "\u001B[1m31/31\u001B[0m \u001B[32m━━━━━━━━━━━━━━━━━━━━\u001B[0m\u001B[37m\u001B[0m \u001B[1m268s\u001B[0m 9s/step - accuracy: 0.9650 - loss: 0.0851 - val_accuracy: 0.8788 - val_loss: 0.3085\n",
      "Epoch 8/15\n",
      "\u001B[1m31/31\u001B[0m \u001B[32m━━━━━━━━━━━━━━━━━━━━\u001B[0m\u001B[37m\u001B[0m \u001B[1m204s\u001B[0m 6s/step - accuracy: 0.9597 - loss: 0.1210 - val_accuracy: 0.9091 - val_loss: 0.3099\n",
      "Epoch 9/15\n",
      "\u001B[1m31/31\u001B[0m \u001B[32m━━━━━━━━━━━━━━━━━━━━\u001B[0m\u001B[37m\u001B[0m \u001B[1m196s\u001B[0m 6s/step - accuracy: 0.9921 - loss: 0.0310 - val_accuracy: 0.8788 - val_loss: 0.5193\n",
      "Epoch 10/15\n",
      "\u001B[1m31/31\u001B[0m \u001B[32m━━━━━━━━━━━━━━━━━━━━\u001B[0m\u001B[37m\u001B[0m \u001B[1m195s\u001B[0m 6s/step - accuracy: 0.9771 - loss: 0.0722 - val_accuracy: 0.8788 - val_loss: 0.4934\n",
      "Epoch 11/15\n",
      "\u001B[1m31/31\u001B[0m \u001B[32m━━━━━━━━━━━━━━━━━━━━\u001B[0m\u001B[37m\u001B[0m \u001B[1m220s\u001B[0m 7s/step - accuracy: 0.9959 - loss: 0.0180 - val_accuracy: 0.9091 - val_loss: 0.3256\n",
      "Epoch 12/15\n",
      "\u001B[1m31/31\u001B[0m \u001B[32m━━━━━━━━━━━━━━━━━━━━\u001B[0m\u001B[37m\u001B[0m \u001B[1m199s\u001B[0m 6s/step - accuracy: 0.9962 - loss: 0.0118 - val_accuracy: 0.8788 - val_loss: 0.6159\n",
      "Epoch 13/15\n",
      "\u001B[1m31/31\u001B[0m \u001B[32m━━━━━━━━━━━━━━━━━━━━\u001B[0m\u001B[37m\u001B[0m \u001B[1m198s\u001B[0m 6s/step - accuracy: 0.9942 - loss: 0.0176 - val_accuracy: 0.9091 - val_loss: 0.3412\n",
      "Epoch 13: early stopping\n",
      "Restoring model weights from the end of the best epoch: 8.\n"
     ]
    },
    {
     "data": {
      "text/plain": [
       "<Figure size 640x480 with 2 Axes>"
      ],
      "image/png": "[encoded data removed]"
     },
     "metadata": {},
     "output_type": "display_data"
    },
    {
     "name": "stdout",
     "output_type": "stream",
     "text": [
      "\u001B[1m31/31\u001B[0m \u001B[32m━━━━━━━━━━━━━━━━━━━━\u001B[0m\u001B[37m\u001B[0m \u001B[1m22s\u001B[0m 718ms/step - accuracy: 0.9907 - loss: 0.0396\n",
      "\u001B[1m2/2\u001B[0m \u001B[32m━━━━━━━━━━━━━━━━━━━━\u001B[0m\u001B[37m\u001B[0m \u001B[1m1s\u001B[0m 112ms/step - accuracy: 0.9081 - loss: 0.3126\n",
      "\n",
      "Train Accuracy: 0.99\n",
      "Validation Accuracy: 0.91\n"
     ]
    }
   ],
   "execution_count": 15
  },
  {
   "metadata": {},
   "cell_type": "code",
   "outputs": [],
   "execution_count": null,
   "source": "",
   "id": "a817d97f2a11767f"
  },
  {
   "metadata": {
    "ExecuteTime": {
     "end_time": "2025-08-04T20:49:01.310348Z",
     "start_time": "2025-08-04T20:19:33.584277Z"
    }
   },
   "cell_type": "code",
   "source": [
    "import matplotlib.pyplot as plt\n",
    "\n",
    "#Establish number of classes we need to predict\n",
    "classes = 4\n",
    "#Hyperparameters\n",
    "lr = 0.001\n",
    "tf.keras.backend.clear_session()\n",
    "\n",
    "# initialize model\n",
    "cnn_3D_v4 = tf.keras.Sequential()\n",
    "\n",
    "# add convolutional layer\n",
    "cnn_3D_v4.add(layers.Conv3D(\n",
    "  filters=32,\n",
    "  kernel_size=(3, 3, 3),\n",
    "  strides=(1, 1, 1),\n",
    "  padding='same',\n",
    "  data_format='channels_last',\n",
    "  name='conv_1a',\n",
    "  activation='relu'\n",
    "))\n",
    "\n",
    "cnn_3D_v4.add(layers.Conv3D(\n",
    "  filters=32,\n",
    "  kernel_size=(3, 3, 3),\n",
    "  strides=(1, 1, 1),\n",
    "  padding='same',\n",
    "  data_format='channels_last',\n",
    "  name='conv_1b',\n",
    "  activation='relu'\n",
    "))\n",
    "cnn_3D_v4.add(layers.MaxPooling3D(pool_size=(2, 2, 2)))\n",
    "\n",
    "cnn_3D_v4.add(layers.Conv3D(\n",
    "  filters=64,\n",
    "  kernel_size=(3, 3, 3),\n",
    "  strides=(1, 1, 1),\n",
    "  padding='same',\n",
    "  data_format='channels_last',\n",
    "  name='conv_2a',\n",
    "  activation='relu'\n",
    "))\n",
    "cnn_3D_v4.add(layers.Conv3D(\n",
    "  filters=64,\n",
    "  kernel_size=(3, 3, 3),\n",
    "  strides=(1, 1, 1),\n",
    "  padding='same',\n",
    "  data_format='channels_last',\n",
    "  name='conv_2b',\n",
    "  activation='relu'\n",
    "))\n",
    "cnn_3D_v4.add(layers.MaxPooling3D(pool_size=(2, 2, 2)))\n",
    "\n",
    "# add dropout layer\n",
    "cnn_3D_v4.add(layers.Dropout(rate=0.4))\n",
    "\n",
    "cnn_3D_v4.add(layers.Conv3D(\n",
    "  filters=128,\n",
    "  kernel_size=(3, 3, 3),\n",
    "  strides=(1, 1, 1),\n",
    "  padding='same',\n",
    "  data_format='channels_last',\n",
    "  name='conv_3a',\n",
    "  activation='relu'\n",
    "))\n",
    "cnn_3D_v4.add(layers.Conv3D(\n",
    "  filters=128,\n",
    "  kernel_size=(3, 3, 3),\n",
    "  strides=(1, 1, 1),\n",
    "  padding='same',\n",
    "  data_format='channels_last',\n",
    "  name='conv_3b',\n",
    "  activation='relu'\n",
    "))\n",
    "\n",
    "# add a flattening layer\n",
    "cnn_3D_v4.add(layers.Flatten())\n",
    "\n",
    "# add a Dense Layer\n",
    "cnn_3D_v4.add(layers.Dense(units=512, activation='relu'))\n",
    "\n",
    "# add the classification layer\n",
    "cnn_3D_v4.add(layers.Dense(units=classes, activation='softmax',kernel_regularizer=regularizers.l2(1e-4))) #4 classes (softmax for multi-class)\n",
    "\n",
    "# build and compile model\n",
    "cnn_3D_v4.build(input_shape=(None, 32, 32, 32, 1))\n",
    "cnn_3D_v4.compile(optimizer=tf.keras.optimizers.Adam(learning_rate=lr),\n",
    "              loss=tf.keras.losses.SparseCategoricalCrossentropy(), #Since we are using Sparse encodings (not One-Hot Dense....)\n",
    "              metrics=['accuracy'])\n",
    "\n",
    "# print model_tf summary\n",
    "cnn_3D_v4.summary()\n",
    "\n",
    "# train model_tf on (X_train, y_train) data\n",
    "print(train_image_data.shape, transformed_train_labels.shape,val_image_data.shape, transformed_val_labels.shape)\n",
    "cnn_3D_v4_history = cnn_3D_v4.fit(\n",
    "    train_image_data,\n",
    "    transformed_train_labels,\n",
    "    validation_data=(val_image_data, transformed_val_labels),\n",
    "    epochs=15,\n",
    "    callbacks=[early_stopping]\n",
    ")\n",
    "\n",
    "# plot loss curves\n",
    "plt.subplot(1, 2, 1)\n",
    "plt.plot(cnn_3D_v4_history.history['loss'])\n",
    "plt.plot(cnn_3D_v4_history.history['val_loss'])\n",
    "plt.title('Epochs v Loss')\n",
    "plt.ylabel('Loss')\n",
    "plt.xlabel('Epoch')\n",
    "plt.legend(['Train', 'Validation'], loc='upper left')\n",
    "\n",
    "plt.subplot(1, 2, 2)\n",
    "plt.plot(cnn_3D_v4_history.history['accuracy'])\n",
    "plt.plot(cnn_3D_v4_history.history['val_accuracy'])\n",
    "plt.title('Epochs v Accuracy')\n",
    "plt.ylabel('Accuracy')\n",
    "plt.xlabel('Epoch')\n",
    "plt.legend(['Train', 'Validation'], loc='upper left')\n",
    "plt.show()\n",
    "# evaluate the accuracy of model_tf on (X_train, y_train) and (X_val, y_val)\n",
    "train_loss, train_acc = cnn_3D_v4.evaluate(train_image_data, transformed_train_labels, verbose=1)\n",
    "val_loss, val_acc = cnn_3D_v4.evaluate(val_image_data, transformed_val_labels, verbose=1)\n",
    "\n",
    "print(f\"\\nTrain Accuracy: {train_acc:.2f}\")\n",
    "print(f\"Validation Accuracy: {val_acc:.2f}\")"
   ],
   "id": "a5916ac3e02f88b7",
   "outputs": [
    {
     "data": {
      "text/plain": [
       "\u001B[1mModel: \"sequential\"\u001B[0m\n"
      ],
      "text/html": [
       "<pre style=\"white-space:pre;overflow-x:auto;line-height:normal;font-family:Menlo,'DejaVu Sans Mono',consolas,'Courier New',monospace\"><span style=\"font-weight: bold\">Model: \"sequential\"</span>\n",
       "</pre>\n"
      ]
     },
     "metadata": {},
     "output_type": "display_data"
    },
    {
     "data": {
      "text/plain": [
       "┏━━━━━━━━━━━━━━━━━━━━━━━━━━━━━━━━━┳━━━━━━━━━━━━━━━━━━━━━━━━┳━━━━━━━━━━━━━━━┓\n",
       "┃\u001B[1m \u001B[0m\u001B[1mLayer (type)                   \u001B[0m\u001B[1m \u001B[0m┃\u001B[1m \u001B[0m\u001B[1mOutput Shape          \u001B[0m\u001B[1m \u001B[0m┃\u001B[1m \u001B[0m\u001B[1m      Param #\u001B[0m\u001B[1m \u001B[0m┃\n",
       "┡━━━━━━━━━━━━━━━━━━━━━━━━━━━━━━━━━╇━━━━━━━━━━━━━━━━━━━━━━━━╇━━━━━━━━━━━━━━━┩\n",
       "│ conv_1a (\u001B[38;5;33mConv3D\u001B[0m)                │ (\u001B[38;5;45mNone\u001B[0m, \u001B[38;5;34m32\u001B[0m, \u001B[38;5;34m32\u001B[0m, \u001B[38;5;34m32\u001B[0m, \u001B[38;5;34m32\u001B[0m) │           \u001B[38;5;34m896\u001B[0m │\n",
       "├─────────────────────────────────┼────────────────────────┼───────────────┤\n",
       "│ conv_1b (\u001B[38;5;33mConv3D\u001B[0m)                │ (\u001B[38;5;45mNone\u001B[0m, \u001B[38;5;34m32\u001B[0m, \u001B[38;5;34m32\u001B[0m, \u001B[38;5;34m32\u001B[0m, \u001B[38;5;34m32\u001B[0m) │        \u001B[38;5;34m27,680\u001B[0m │\n",
       "├─────────────────────────────────┼────────────────────────┼───────────────┤\n",
       "│ max_pooling3d (\u001B[38;5;33mMaxPooling3D\u001B[0m)    │ (\u001B[38;5;45mNone\u001B[0m, \u001B[38;5;34m16\u001B[0m, \u001B[38;5;34m16\u001B[0m, \u001B[38;5;34m16\u001B[0m, \u001B[38;5;34m32\u001B[0m) │             \u001B[38;5;34m0\u001B[0m │\n",
       "├─────────────────────────────────┼────────────────────────┼───────────────┤\n",
       "│ conv_2a (\u001B[38;5;33mConv3D\u001B[0m)                │ (\u001B[38;5;45mNone\u001B[0m, \u001B[38;5;34m16\u001B[0m, \u001B[38;5;34m16\u001B[0m, \u001B[38;5;34m16\u001B[0m, \u001B[38;5;34m64\u001B[0m) │        \u001B[38;5;34m55,360\u001B[0m │\n",
       "├─────────────────────────────────┼────────────────────────┼───────────────┤\n",
       "│ conv_2b (\u001B[38;5;33mConv3D\u001B[0m)                │ (\u001B[38;5;45mNone\u001B[0m, \u001B[38;5;34m16\u001B[0m, \u001B[38;5;34m16\u001B[0m, \u001B[38;5;34m16\u001B[0m, \u001B[38;5;34m64\u001B[0m) │       \u001B[38;5;34m110,656\u001B[0m │\n",
       "├─────────────────────────────────┼────────────────────────┼───────────────┤\n",
       "│ max_pooling3d_1 (\u001B[38;5;33mMaxPooling3D\u001B[0m)  │ (\u001B[38;5;45mNone\u001B[0m, \u001B[38;5;34m8\u001B[0m, \u001B[38;5;34m8\u001B[0m, \u001B[38;5;34m8\u001B[0m, \u001B[38;5;34m64\u001B[0m)    │             \u001B[38;5;34m0\u001B[0m │\n",
       "├─────────────────────────────────┼────────────────────────┼───────────────┤\n",
       "│ dropout (\u001B[38;5;33mDropout\u001B[0m)               │ (\u001B[38;5;45mNone\u001B[0m, \u001B[38;5;34m8\u001B[0m, \u001B[38;5;34m8\u001B[0m, \u001B[38;5;34m8\u001B[0m, \u001B[38;5;34m64\u001B[0m)    │             \u001B[38;5;34m0\u001B[0m │\n",
       "├─────────────────────────────────┼────────────────────────┼───────────────┤\n",
       "│ conv_3a (\u001B[38;5;33mConv3D\u001B[0m)                │ (\u001B[38;5;45mNone\u001B[0m, \u001B[38;5;34m8\u001B[0m, \u001B[38;5;34m8\u001B[0m, \u001B[38;5;34m8\u001B[0m, \u001B[38;5;34m128\u001B[0m)   │       \u001B[38;5;34m221,312\u001B[0m │\n",
       "├─────────────────────────────────┼────────────────────────┼───────────────┤\n",
       "│ conv_3b (\u001B[38;5;33mConv3D\u001B[0m)                │ (\u001B[38;5;45mNone\u001B[0m, \u001B[38;5;34m8\u001B[0m, \u001B[38;5;34m8\u001B[0m, \u001B[38;5;34m8\u001B[0m, \u001B[38;5;34m128\u001B[0m)   │       \u001B[38;5;34m442,496\u001B[0m │\n",
       "├─────────────────────────────────┼────────────────────────┼───────────────┤\n",
       "│ flatten (\u001B[38;5;33mFlatten\u001B[0m)               │ (\u001B[38;5;45mNone\u001B[0m, \u001B[38;5;34m65536\u001B[0m)          │             \u001B[38;5;34m0\u001B[0m │\n",
       "├─────────────────────────────────┼────────────────────────┼───────────────┤\n",
       "│ dense (\u001B[38;5;33mDense\u001B[0m)                   │ (\u001B[38;5;45mNone\u001B[0m, \u001B[38;5;34m512\u001B[0m)            │    \u001B[38;5;34m33,554,944\u001B[0m │\n",
       "├─────────────────────────────────┼────────────────────────┼───────────────┤\n",
       "│ dense_1 (\u001B[38;5;33mDense\u001B[0m)                 │ (\u001B[38;5;45mNone\u001B[0m, \u001B[38;5;34m4\u001B[0m)              │         \u001B[38;5;34m2,052\u001B[0m │\n",
       "└─────────────────────────────────┴────────────────────────┴───────────────┘\n"
      ],
      "text/html": [
       "<pre style=\"white-space:pre;overflow-x:auto;line-height:normal;font-family:Menlo,'DejaVu Sans Mono',consolas,'Courier New',monospace\">┏━━━━━━━━━━━━━━━━━━━━━━━━━━━━━━━━━┳━━━━━━━━━━━━━━━━━━━━━━━━┳━━━━━━━━━━━━━━━┓\n",
       "┃<span style=\"font-weight: bold\"> Layer (type)                    </span>┃<span style=\"font-weight: bold\"> Output Shape           </span>┃<span style=\"font-weight: bold\">       Param # </span>┃\n",
       "┡━━━━━━━━━━━━━━━━━━━━━━━━━━━━━━━━━╇━━━━━━━━━━━━━━━━━━━━━━━━╇━━━━━━━━━━━━━━━┩\n",
       "│ conv_1a (<span style=\"color: #0087ff; text-decoration-color: #0087ff\">Conv3D</span>)                │ (<span style=\"color: #00d7ff; text-decoration-color: #00d7ff\">None</span>, <span style=\"color: #00af00; text-decoration-color: #00af00\">32</span>, <span style=\"color: #00af00; text-decoration-color: #00af00\">32</span>, <span style=\"color: #00af00; text-decoration-color: #00af00\">32</span>, <span style=\"color: #00af00; text-decoration-color: #00af00\">32</span>) │           <span style=\"color: #00af00; text-decoration-color: #00af00\">896</span> │\n",
       "├─────────────────────────────────┼────────────────────────┼───────────────┤\n",
       "│ conv_1b (<span style=\"color: #0087ff; text-decoration-color: #0087ff\">Conv3D</span>)                │ (<span style=\"color: #00d7ff; text-decoration-color: #00d7ff\">None</span>, <span style=\"color: #00af00; text-decoration-color: #00af00\">32</span>, <span style=\"color: #00af00; text-decoration-color: #00af00\">32</span>, <span style=\"color: #00af00; text-decoration-color: #00af00\">32</span>, <span style=\"color: #00af00; text-decoration-color: #00af00\">32</span>) │        <span style=\"color: #00af00; text-decoration-color: #00af00\">27,680</span> │\n",
       "├─────────────────────────────────┼────────────────────────┼───────────────┤\n",
       "│ max_pooling3d (<span style=\"color: #0087ff; text-decoration-color: #0087ff\">MaxPooling3D</span>)    │ (<span style=\"color: #00d7ff; text-decoration-color: #00d7ff\">None</span>, <span style=\"color: #00af00; text-decoration-color: #00af00\">16</span>, <span style=\"color: #00af00; text-decoration-color: #00af00\">16</span>, <span style=\"color: #00af00; text-decoration-color: #00af00\">16</span>, <span style=\"color: #00af00; text-decoration-color: #00af00\">32</span>) │             <span style=\"color: #00af00; text-decoration-color: #00af00\">0</span> │\n",
       "├─────────────────────────────────┼────────────────────────┼───────────────┤\n",
       "│ conv_2a (<span style=\"color: #0087ff; text-decoration-color: #0087ff\">Conv3D</span>)                │ (<span style=\"color: #00d7ff; text-decoration-color: #00d7ff\">None</span>, <span style=\"color: #00af00; text-decoration-color: #00af00\">16</span>, <span style=\"color: #00af00; text-decoration-color: #00af00\">16</span>, <span style=\"color: #00af00; text-decoration-color: #00af00\">16</span>, <span style=\"color: #00af00; text-decoration-color: #00af00\">64</span>) │        <span style=\"color: #00af00; text-decoration-color: #00af00\">55,360</span> │\n",
       "├─────────────────────────────────┼────────────────────────┼───────────────┤\n",
       "│ conv_2b (<span style=\"color: #0087ff; text-decoration-color: #0087ff\">Conv3D</span>)                │ (<span style=\"color: #00d7ff; text-decoration-color: #00d7ff\">None</span>, <span style=\"color: #00af00; text-decoration-color: #00af00\">16</span>, <span style=\"color: #00af00; text-decoration-color: #00af00\">16</span>, <span style=\"color: #00af00; text-decoration-color: #00af00\">16</span>, <span style=\"color: #00af00; text-decoration-color: #00af00\">64</span>) │       <span style=\"color: #00af00; text-decoration-color: #00af00\">110,656</span> │\n",
       "├─────────────────────────────────┼────────────────────────┼───────────────┤\n",
       "│ max_pooling3d_1 (<span style=\"color: #0087ff; text-decoration-color: #0087ff\">MaxPooling3D</span>)  │ (<span style=\"color: #00d7ff; text-decoration-color: #00d7ff\">None</span>, <span style=\"color: #00af00; text-decoration-color: #00af00\">8</span>, <span style=\"color: #00af00; text-decoration-color: #00af00\">8</span>, <span style=\"color: #00af00; text-decoration-color: #00af00\">8</span>, <span style=\"color: #00af00; text-decoration-color: #00af00\">64</span>)    │             <span style=\"color: #00af00; text-decoration-color: #00af00\">0</span> │\n",
       "├─────────────────────────────────┼────────────────────────┼───────────────┤\n",
       "│ dropout (<span style=\"color: #0087ff; text-decoration-color: #0087ff\">Dropout</span>)               │ (<span style=\"color: #00d7ff; text-decoration-color: #00d7ff\">None</span>, <span style=\"color: #00af00; text-decoration-color: #00af00\">8</span>, <span style=\"color: #00af00; text-decoration-color: #00af00\">8</span>, <span style=\"color: #00af00; text-decoration-color: #00af00\">8</span>, <span style=\"color: #00af00; text-decoration-color: #00af00\">64</span>)    │             <span style=\"color: #00af00; text-decoration-color: #00af00\">0</span> │\n",
       "├─────────────────────────────────┼────────────────────────┼───────────────┤\n",
       "│ conv_3a (<span style=\"color: #0087ff; text-decoration-color: #0087ff\">Conv3D</span>)                │ (<span style=\"color: #00d7ff; text-decoration-color: #00d7ff\">None</span>, <span style=\"color: #00af00; text-decoration-color: #00af00\">8</span>, <span style=\"color: #00af00; text-decoration-color: #00af00\">8</span>, <span style=\"color: #00af00; text-decoration-color: #00af00\">8</span>, <span style=\"color: #00af00; text-decoration-color: #00af00\">128</span>)   │       <span style=\"color: #00af00; text-decoration-color: #00af00\">221,312</span> │\n",
       "├─────────────────────────────────┼────────────────────────┼───────────────┤\n",
       "│ conv_3b (<span style=\"color: #0087ff; text-decoration-color: #0087ff\">Conv3D</span>)                │ (<span style=\"color: #00d7ff; text-decoration-color: #00d7ff\">None</span>, <span style=\"color: #00af00; text-decoration-color: #00af00\">8</span>, <span style=\"color: #00af00; text-decoration-color: #00af00\">8</span>, <span style=\"color: #00af00; text-decoration-color: #00af00\">8</span>, <span style=\"color: #00af00; text-decoration-color: #00af00\">128</span>)   │       <span style=\"color: #00af00; text-decoration-color: #00af00\">442,496</span> │\n",
       "├─────────────────────────────────┼────────────────────────┼───────────────┤\n",
       "│ flatten (<span style=\"color: #0087ff; text-decoration-color: #0087ff\">Flatten</span>)               │ (<span style=\"color: #00d7ff; text-decoration-color: #00d7ff\">None</span>, <span style=\"color: #00af00; text-decoration-color: #00af00\">65536</span>)          │             <span style=\"color: #00af00; text-decoration-color: #00af00\">0</span> │\n",
       "├─────────────────────────────────┼────────────────────────┼───────────────┤\n",
       "│ dense (<span style=\"color: #0087ff; text-decoration-color: #0087ff\">Dense</span>)                   │ (<span style=\"color: #00d7ff; text-decoration-color: #00d7ff\">None</span>, <span style=\"color: #00af00; text-decoration-color: #00af00\">512</span>)            │    <span style=\"color: #00af00; text-decoration-color: #00af00\">33,554,944</span> │\n",
       "├─────────────────────────────────┼────────────────────────┼───────────────┤\n",
       "│ dense_1 (<span style=\"color: #0087ff; text-decoration-color: #0087ff\">Dense</span>)                 │ (<span style=\"color: #00d7ff; text-decoration-color: #00d7ff\">None</span>, <span style=\"color: #00af00; text-decoration-color: #00af00\">4</span>)              │         <span style=\"color: #00af00; text-decoration-color: #00af00\">2,052</span> │\n",
       "└─────────────────────────────────┴────────────────────────┴───────────────┘\n",
       "</pre>\n"
      ]
     },
     "metadata": {},
     "output_type": "display_data"
    },
    {
     "data": {
      "text/plain": [
       "\u001B[1m Total params: \u001B[0m\u001B[38;5;34m34,415,396\u001B[0m (131.28 MB)\n"
      ],
      "text/html": [
       "<pre style=\"white-space:pre;overflow-x:auto;line-height:normal;font-family:Menlo,'DejaVu Sans Mono',consolas,'Courier New',monospace\"><span style=\"font-weight: bold\"> Total params: </span><span style=\"color: #00af00; text-decoration-color: #00af00\">34,415,396</span> (131.28 MB)\n",
       "</pre>\n"
      ]
     },
     "metadata": {},
     "output_type": "display_data"
    },
    {
     "data": {
      "text/plain": [
       "\u001B[1m Trainable params: \u001B[0m\u001B[38;5;34m34,415,396\u001B[0m (131.28 MB)\n"
      ],
      "text/html": [
       "<pre style=\"white-space:pre;overflow-x:auto;line-height:normal;font-family:Menlo,'DejaVu Sans Mono',consolas,'Courier New',monospace\"><span style=\"font-weight: bold\"> Trainable params: </span><span style=\"color: #00af00; text-decoration-color: #00af00\">34,415,396</span> (131.28 MB)\n",
       "</pre>\n"
      ]
     },
     "metadata": {},
     "output_type": "display_data"
    },
    {
     "data": {
      "text/plain": [
       "\u001B[1m Non-trainable params: \u001B[0m\u001B[38;5;34m0\u001B[0m (0.00 B)\n"
      ],
      "text/html": [
       "<pre style=\"white-space:pre;overflow-x:auto;line-height:normal;font-family:Menlo,'DejaVu Sans Mono',consolas,'Courier New',monospace\"><span style=\"font-weight: bold\"> Non-trainable params: </span><span style=\"color: #00af00; text-decoration-color: #00af00\">0</span> (0.00 B)\n",
       "</pre>\n"
      ]
     },
     "metadata": {},
     "output_type": "display_data"
    },
    {
     "name": "stdout",
     "output_type": "stream",
     "text": [
      "(970, 32, 32, 32, 1) (970,) (33, 32, 32, 32, 1) (33,)\n",
      "Epoch 1/15\n",
      "\u001B[1m31/31\u001B[0m \u001B[32m━━━━━━━━━━━━━━━━━━━━\u001B[0m\u001B[37m\u001B[0m \u001B[1m225s\u001B[0m 7s/step - accuracy: 0.3928 - loss: 1.8099 - val_accuracy: 0.4242 - val_loss: 1.2248\n",
      "Epoch 2/15\n",
      "\u001B[1m31/31\u001B[0m \u001B[32m━━━━━━━━━━━━━━━━━━━━\u001B[0m\u001B[37m\u001B[0m \u001B[1m216s\u001B[0m 7s/step - accuracy: 0.5630 - loss: 1.1318 - val_accuracy: 0.7273 - val_loss: 0.7999\n",
      "Epoch 3/15\n",
      "\u001B[1m31/31\u001B[0m \u001B[32m━━━━━━━━━━━━━━━━━━━━\u001B[0m\u001B[37m\u001B[0m \u001B[1m215s\u001B[0m 7s/step - accuracy: 0.6826 - loss: 0.7692 - val_accuracy: 0.7576 - val_loss: 0.7064\n",
      "Epoch 4/15\n",
      "\u001B[1m31/31\u001B[0m \u001B[32m━━━━━━━━━━━━━━━━━━━━\u001B[0m\u001B[37m\u001B[0m \u001B[1m215s\u001B[0m 7s/step - accuracy: 0.7428 - loss: 0.6299 - val_accuracy: 0.7273 - val_loss: 0.7697\n",
      "Epoch 5/15\n",
      "\u001B[1m31/31\u001B[0m \u001B[32m━━━━━━━━━━━━━━━━━━━━\u001B[0m\u001B[37m\u001B[0m \u001B[1m216s\u001B[0m 7s/step - accuracy: 0.8237 - loss: 0.4539 - val_accuracy: 0.7576 - val_loss: 0.6335\n",
      "Epoch 6/15\n",
      "\u001B[1m31/31\u001B[0m \u001B[32m━━━━━━━━━━━━━━━━━━━━\u001B[0m\u001B[37m\u001B[0m \u001B[1m215s\u001B[0m 7s/step - accuracy: 0.8870 - loss: 0.2584 - val_accuracy: 0.7273 - val_loss: 1.0404\n",
      "Epoch 7/15\n",
      "\u001B[1m31/31\u001B[0m \u001B[32m━━━━━━━━━━━━━━━━━━━━\u001B[0m\u001B[37m\u001B[0m \u001B[1m215s\u001B[0m 7s/step - accuracy: 0.9362 - loss: 0.1990 - val_accuracy: 0.6970 - val_loss: 0.8950\n",
      "Epoch 8/15\n",
      "\u001B[1m31/31\u001B[0m \u001B[32m━━━━━━━━━━━━━━━━━━━━\u001B[0m\u001B[37m\u001B[0m \u001B[1m221s\u001B[0m 7s/step - accuracy: 0.9156 - loss: 0.2004 - val_accuracy: 0.6970 - val_loss: 1.2668\n",
      "Epoch 8: early stopping\n",
      "Restoring model weights from the end of the best epoch: 3.\n"
     ]
    },
    {
     "data": {
      "text/plain": [
       "<Figure size 640x480 with 2 Axes>"
      ],
      "image/png": "[encoded data removed]"
     },
     "metadata": {},
     "output_type": "display_data"
    },
    {
     "name": "stdout",
     "output_type": "stream",
     "text": [
      "\u001B[1m31/31\u001B[0m \u001B[32m━━━━━━━━━━━━━━━━━━━━\u001B[0m\u001B[37m\u001B[0m \u001B[1m26s\u001B[0m 827ms/step - accuracy: 0.7213 - loss: 0.6740\n",
      "\u001B[1m2/2\u001B[0m \u001B[32m━━━━━━━━━━━━━━━━━━━━\u001B[0m\u001B[37m\u001B[0m \u001B[1m1s\u001B[0m 113ms/step - accuracy: 0.7655 - loss: 0.6944\n",
      "\n",
      "Train Accuracy: 0.77\n",
      "Validation Accuracy: 0.76\n"
     ]
    }
   ],
   "execution_count": 17
  },
  {
   "metadata": {},
   "cell_type": "markdown",
   "source": [
    "| Model  | Filters                        | Activation | Optimizer | Learning Rate | # Parameters | Training Accuracy | Validation Accuracy |\n",
    "|--------|--------------------------------|------------|-----------|---------------|-------------|-------------------|---------------------|\n",
    "| 2D CNN | [32]                           | relu       | Adam      | 0.001         | 4,327,492   | 91%               | 96%                 |\n",
    "| 2D CNN | [(32, 32)]                     | relu       | Adam      | 0.001         | 4,336,740   | 93%               | 93%                 |\n",
    "| 2D CNN | [(32, 32),(64, 64)]            | relu       | Adam      | 0.001         | 2,295,012   | 96%               | 93%                 |\n",
    "| 2D CNN | [(32, 32),(64, 64), (128,128)] | relu       | Adam      | 0.001         | 4,403,630   | 91%               | 90%                 |\n",
    "| 3D CNN | [32]                           | relu       | Adam      | 0.001         | 67,112,324  | 99%               | 97%                 |\n",
    "| 3D CNN | [(32, 32)]                     | relu       | Adam      | 0.001         | 67,140,004  | 45%               | 42%                 |\n",
    "| 3D CNN | [(32, 32),(64, 64)]            | relu       | Adam      | 0.001         | 16,974,372  | 99%               | 91%                 |\n",
    "| 3D CNN | [(32, 32),(64, 64), (128,128)] | relu       | Adam      | 0.001         |             | 77%               | 76%                 |\n",
    "\n"
   ],
   "id": "2c7de6e33081a0aa"
  },
  {
   "metadata": {},
   "cell_type": "code",
   "source": [
    "test_loss, test_acc = model_tf.evaluate(test_image_data, transformed_test_labels, verbose=1)\n",
    "print(f\"Test Accuracy: {test_acc:.2f}\")\n"
   ],
   "id": "35e9e28609662f76",
   "outputs": [],
   "execution_count": null
  },
  {
   "metadata": {},
   "cell_type": "code",
   "source": "",
   "id": "20e7cdcea79c8c44",
   "outputs": [],
   "execution_count": null
  },
  {
   "metadata": {},
   "cell_type": "markdown",
   "source": [
    "| Model | Hidden units  | Activation | Optimizer | Learning Rate | # Parameters | Training Accuracy | Validation Accuracy |\n",
    "|-------|---------------|------------|-----------|---------------|--------------|-------------------|---------------------|\n",
    "| FFNN  | [128]         | tanh       | SGD       | 0.01          | 131716       | 87.3%             | 84.9%               |\n",
    "| FFNN  | [128]         | relu       | SGD       | 0.01          | 131716       | 86.4%             | 81.8%               |\n",
    "| FFNN  | [128]         | relu       | Adam      | 0.01          | 131716       | 90.4%             | 81.8%               |\n",
    "| FFNN  | [256,128]     | relu       | Adam      | 0.01          | 295812       | 71.5%             | 57.6%               |\n",
    "| FFNN  | [256,128]     | relu       | Adam      | 0.001         | 295812       | 97.7%             | 87.9%               |\n",
    "| FFNN  | [256,128]     | relu       | Adam      | 0.0001        | 689540       | 88.4%             | 84.9%               |\n",
    "| FFNN  | [512,256,128] | relu       | Adam      | 0.01          | 689540       | 29.4%             | 27.3%               |\n",
    "| FFNN  | [512,256,128] | relu       | Adam      | 0.001         | 689540       | 96.7%             | 90.9%               |\n",
    "| FFNN  | [512,256,128] | relu       | Adam      | 0.0001        | 689540       | 89.7%             | 87.6%               |\n",
    "| FFNN  | [512,256,128] | tanh       | SGD       | 0.0001        | 689540       | 37.7%             | 51.5%               |\n",
    "| FFNN  | [512,256,128] | relu       | SGD       | 0.0001        | 689540       | 25.8%             | 48.5%               |"
   ],
   "id": "409ae1e71d1849d8",
   "attachments": {
    "1c580033-ce1d-4895-8a62-5d8cfbe5bc6e.png": {
     "image/png": "[encoded data removed]"
    }
   }
  }
 ],
 "metadata": {
  "kernelspec": {
   "display_name": "Python [conda env:base] *",
   "language": "python",
   "name": "conda-base-py"
  },
  "language_info": {
   "codemirror_mode": {
    "name": "ipython",
    "version": 3
   },
   "file_extension": ".py",
   "mimetype": "text/x-python",
   "name": "python",
   "nbconvert_exporter": "python",
   "pygments_lexer": "ipython3",
   "version": "3.12.7"
  }
 },
 "nbformat": 4,
 "nbformat_minor": 5
}
